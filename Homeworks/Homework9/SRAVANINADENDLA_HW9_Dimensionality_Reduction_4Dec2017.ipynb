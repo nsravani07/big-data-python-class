{
 "cells": [
  {
   "cell_type": "markdown",
   "metadata": {},
   "source": [
    "DIMENSIONALITY REDUCTION:\n",
    "--------------------------\n",
    "\n",
    "When dealing with real problems and real data we often deal with high dimensional data that can go up to millions.\n",
    "While in its original high dimensional structure the data represents itself best sometimes we might need to reduce its dimensionality.\n",
    "\n",
    "The need to reduce dimensionality is often associated with visualizations (reducing to 2–3 dimensions so we can plot it) but that is not always the case. Sometimes we might value performance over precision so we could reduce 1,000 dimensional data to 10 dimensions so we can manipulate it faster."
   ]
  },
  {
   "cell_type": "code",
   "execution_count": 1,
   "metadata": {
    "collapsed": true
   },
   "outputs": [],
   "source": [
    "import pandas as pd\n",
    "import numpy as np\n",
    "import seaborn as sns\n",
    "import seaborn as sns\n",
    "import matplotlib.pyplot as plt"
   ]
  },
  {
   "cell_type": "code",
   "execution_count": 2,
   "metadata": {
    "scrolled": true
   },
   "outputs": [
    {
     "data": {
      "text/html": [
       "<div>\n",
       "<style>\n",
       "    .dataframe thead tr:only-child th {\n",
       "        text-align: right;\n",
       "    }\n",
       "\n",
       "    .dataframe thead th {\n",
       "        text-align: left;\n",
       "    }\n",
       "\n",
       "    .dataframe tbody tr th {\n",
       "        vertical-align: top;\n",
       "    }\n",
       "</style>\n",
       "<table border=\"1\" class=\"dataframe\">\n",
       "  <thead>\n",
       "    <tr style=\"text-align: right;\">\n",
       "      <th></th>\n",
       "      <th>Date Of Stop</th>\n",
       "      <th>Time Of Stop</th>\n",
       "      <th>SubAgency</th>\n",
       "      <th>Description</th>\n",
       "      <th>Location</th>\n",
       "      <th>Latitude</th>\n",
       "      <th>Longitude</th>\n",
       "      <th>Accident</th>\n",
       "      <th>Belts</th>\n",
       "      <th>Personal Injury</th>\n",
       "      <th>...</th>\n",
       "      <th>Work Zone</th>\n",
       "      <th>State</th>\n",
       "      <th>VehicleType</th>\n",
       "      <th>Year</th>\n",
       "      <th>Make</th>\n",
       "      <th>Violation Type</th>\n",
       "      <th>Charge</th>\n",
       "      <th>Contributed To Accident</th>\n",
       "      <th>Gender</th>\n",
       "      <th>Arrest Type</th>\n",
       "    </tr>\n",
       "  </thead>\n",
       "  <tbody>\n",
       "    <tr>\n",
       "      <th>0</th>\n",
       "      <td>09/24/2013</td>\n",
       "      <td>17:11:00</td>\n",
       "      <td>3rd district, Silver Spring</td>\n",
       "      <td>DRIVING VEHICLE ON HIGHWAY WITH SUSPENDED REGI...</td>\n",
       "      <td>8804 FLOWER AVE</td>\n",
       "      <td>NaN</td>\n",
       "      <td>NaN</td>\n",
       "      <td>No</td>\n",
       "      <td>No</td>\n",
       "      <td>No</td>\n",
       "      <td>...</td>\n",
       "      <td>No</td>\n",
       "      <td>MD</td>\n",
       "      <td>02 - Automobile</td>\n",
       "      <td>2008.0</td>\n",
       "      <td>FORD</td>\n",
       "      <td>Citation</td>\n",
       "      <td>13-401(h)</td>\n",
       "      <td>No</td>\n",
       "      <td>M</td>\n",
       "      <td>A - Marked Patrol</td>\n",
       "    </tr>\n",
       "    <tr>\n",
       "      <th>1</th>\n",
       "      <td>08/29/2017</td>\n",
       "      <td>10:19:00</td>\n",
       "      <td>2nd district, Bethesda</td>\n",
       "      <td>DRIVER FAILURE TO OBEY PROPERLY PLACED TRAFFIC...</td>\n",
       "      <td>WISCONSIN AVE@ ELM ST</td>\n",
       "      <td>38.981725</td>\n",
       "      <td>-77.092757</td>\n",
       "      <td>No</td>\n",
       "      <td>No</td>\n",
       "      <td>No</td>\n",
       "      <td>...</td>\n",
       "      <td>No</td>\n",
       "      <td>VA</td>\n",
       "      <td>02 - Automobile</td>\n",
       "      <td>2001.0</td>\n",
       "      <td>TOYOTA</td>\n",
       "      <td>Citation</td>\n",
       "      <td>21-201(a1)</td>\n",
       "      <td>No</td>\n",
       "      <td>F</td>\n",
       "      <td>A - Marked Patrol</td>\n",
       "    </tr>\n",
       "    <tr>\n",
       "      <th>2</th>\n",
       "      <td>12/01/2014</td>\n",
       "      <td>12:52:00</td>\n",
       "      <td>6th district, Gaithersburg / Montgomery Village</td>\n",
       "      <td>FAILURE STOP AND YIELD AT THRU HWY</td>\n",
       "      <td>CHRISTOPHER AVE/MONTGOMERY VILLAGE AVE</td>\n",
       "      <td>39.162888</td>\n",
       "      <td>-77.229088</td>\n",
       "      <td>No</td>\n",
       "      <td>No</td>\n",
       "      <td>No</td>\n",
       "      <td>...</td>\n",
       "      <td>No</td>\n",
       "      <td>MD</td>\n",
       "      <td>02 - Automobile</td>\n",
       "      <td>2001.0</td>\n",
       "      <td>HONDA</td>\n",
       "      <td>Citation</td>\n",
       "      <td>21-403(b)</td>\n",
       "      <td>No</td>\n",
       "      <td>F</td>\n",
       "      <td>A - Marked Patrol</td>\n",
       "    </tr>\n",
       "    <tr>\n",
       "      <th>3</th>\n",
       "      <td>08/29/2017</td>\n",
       "      <td>9:22:00</td>\n",
       "      <td>3rd district, Silver Spring</td>\n",
       "      <td>FAILURE YIELD RIGHT OF WAY ON U TURN</td>\n",
       "      <td>CHERRY HILL RD./CALVERTON BLVD.</td>\n",
       "      <td>39.056975</td>\n",
       "      <td>-76.954633</td>\n",
       "      <td>No</td>\n",
       "      <td>No</td>\n",
       "      <td>No</td>\n",
       "      <td>...</td>\n",
       "      <td>No</td>\n",
       "      <td>MD</td>\n",
       "      <td>02 - Automobile</td>\n",
       "      <td>1998.0</td>\n",
       "      <td>DODG</td>\n",
       "      <td>Citation</td>\n",
       "      <td>21-402(b)</td>\n",
       "      <td>No</td>\n",
       "      <td>M</td>\n",
       "      <td>A - Marked Patrol</td>\n",
       "    </tr>\n",
       "    <tr>\n",
       "      <th>4</th>\n",
       "      <td>08/28/2017</td>\n",
       "      <td>23:41:00</td>\n",
       "      <td>6th district, Gaithersburg / Montgomery Village</td>\n",
       "      <td>FAILURE OF DR. TO MAKE LANE CHANGE TO AVAIL. L...</td>\n",
       "      <td>355 @ SOUTH WESTLAND DRIVE</td>\n",
       "      <td>NaN</td>\n",
       "      <td>NaN</td>\n",
       "      <td>No</td>\n",
       "      <td>No</td>\n",
       "      <td>No</td>\n",
       "      <td>...</td>\n",
       "      <td>No</td>\n",
       "      <td>MD</td>\n",
       "      <td>02 - Automobile</td>\n",
       "      <td>2015.0</td>\n",
       "      <td>MINI COOPER</td>\n",
       "      <td>Citation</td>\n",
       "      <td>21-405(e1)</td>\n",
       "      <td>No</td>\n",
       "      <td>M</td>\n",
       "      <td>A - Marked Patrol</td>\n",
       "    </tr>\n",
       "  </tbody>\n",
       "</table>\n",
       "<p>5 rows × 23 columns</p>\n",
       "</div>"
      ],
      "text/plain": [
       "  Date Of Stop Time Of Stop                                        SubAgency  \\\n",
       "0   09/24/2013     17:11:00                      3rd district, Silver Spring   \n",
       "1   08/29/2017     10:19:00                           2nd district, Bethesda   \n",
       "2   12/01/2014     12:52:00  6th district, Gaithersburg / Montgomery Village   \n",
       "3   08/29/2017      9:22:00                      3rd district, Silver Spring   \n",
       "4   08/28/2017     23:41:00  6th district, Gaithersburg / Montgomery Village   \n",
       "\n",
       "                                         Description  \\\n",
       "0  DRIVING VEHICLE ON HIGHWAY WITH SUSPENDED REGI...   \n",
       "1  DRIVER FAILURE TO OBEY PROPERLY PLACED TRAFFIC...   \n",
       "2                 FAILURE STOP AND YIELD AT THRU HWY   \n",
       "3               FAILURE YIELD RIGHT OF WAY ON U TURN   \n",
       "4  FAILURE OF DR. TO MAKE LANE CHANGE TO AVAIL. L...   \n",
       "\n",
       "                                 Location   Latitude  Longitude Accident  \\\n",
       "0                         8804 FLOWER AVE        NaN        NaN       No   \n",
       "1                   WISCONSIN AVE@ ELM ST  38.981725 -77.092757       No   \n",
       "2  CHRISTOPHER AVE/MONTGOMERY VILLAGE AVE  39.162888 -77.229088       No   \n",
       "3         CHERRY HILL RD./CALVERTON BLVD.  39.056975 -76.954633       No   \n",
       "4              355 @ SOUTH WESTLAND DRIVE        NaN        NaN       No   \n",
       "\n",
       "  Belts Personal Injury        ...         Work Zone State      VehicleType  \\\n",
       "0    No              No        ...                No    MD  02 - Automobile   \n",
       "1    No              No        ...                No    VA  02 - Automobile   \n",
       "2    No              No        ...                No    MD  02 - Automobile   \n",
       "3    No              No        ...                No    MD  02 - Automobile   \n",
       "4    No              No        ...                No    MD  02 - Automobile   \n",
       "\n",
       "     Year         Make Violation Type      Charge Contributed To Accident  \\\n",
       "0  2008.0         FORD       Citation   13-401(h)                      No   \n",
       "1  2001.0       TOYOTA       Citation  21-201(a1)                      No   \n",
       "2  2001.0        HONDA       Citation   21-403(b)                      No   \n",
       "3  1998.0         DODG       Citation   21-402(b)                      No   \n",
       "4  2015.0  MINI COOPER       Citation  21-405(e1)                      No   \n",
       "\n",
       "  Gender        Arrest Type  \n",
       "0      M  A - Marked Patrol  \n",
       "1      F  A - Marked Patrol  \n",
       "2      F  A - Marked Patrol  \n",
       "3      M  A - Marked Patrol  \n",
       "4      M  A - Marked Patrol  \n",
       "\n",
       "[5 rows x 23 columns]"
      ]
     },
     "execution_count": 2,
     "metadata": {},
     "output_type": "execute_result"
    }
   ],
   "source": [
    "# First, we import the downloaded cvs data \n",
    "tv = pd.read_csv(\"data\\Traffic_Violations_mod.csv\")\n",
    "tv.head(5)     \n",
    "#print(np.count_nonzero(tv.Latitude))"
   ]
  },
  {
   "cell_type": "code",
   "execution_count": 21,
   "metadata": {},
   "outputs": [
    {
     "data": {
      "text/html": [
       "<div>\n",
       "<style>\n",
       "    .dataframe thead tr:only-child th {\n",
       "        text-align: right;\n",
       "    }\n",
       "\n",
       "    .dataframe thead th {\n",
       "        text-align: left;\n",
       "    }\n",
       "\n",
       "    .dataframe tbody tr th {\n",
       "        vertical-align: top;\n",
       "    }\n",
       "</style>\n",
       "<table border=\"1\" class=\"dataframe\">\n",
       "  <thead>\n",
       "    <tr style=\"text-align: right;\">\n",
       "      <th></th>\n",
       "      <th>Latitude</th>\n",
       "      <th>Longitude</th>\n",
       "    </tr>\n",
       "  </thead>\n",
       "  <tbody>\n",
       "    <tr>\n",
       "      <th>count</th>\n",
       "      <td>968145.000000</td>\n",
       "      <td>968145.000000</td>\n",
       "    </tr>\n",
       "    <tr>\n",
       "      <th>mean</th>\n",
       "      <td>39.071955</td>\n",
       "      <td>-77.100934</td>\n",
       "    </tr>\n",
       "    <tr>\n",
       "      <th>std</th>\n",
       "      <td>1.178326</td>\n",
       "      <td>1.045737</td>\n",
       "    </tr>\n",
       "    <tr>\n",
       "      <th>min</th>\n",
       "      <td>-94.610988</td>\n",
       "      <td>-93.254695</td>\n",
       "    </tr>\n",
       "    <tr>\n",
       "      <th>25%</th>\n",
       "      <td>39.031078</td>\n",
       "      <td>-77.193418</td>\n",
       "    </tr>\n",
       "    <tr>\n",
       "      <th>50%</th>\n",
       "      <td>39.072260</td>\n",
       "      <td>-77.092747</td>\n",
       "    </tr>\n",
       "    <tr>\n",
       "      <th>75%</th>\n",
       "      <td>39.136087</td>\n",
       "      <td>-77.043110</td>\n",
       "    </tr>\n",
       "    <tr>\n",
       "      <th>max</th>\n",
       "      <td>41.543160</td>\n",
       "      <td>41.512073</td>\n",
       "    </tr>\n",
       "  </tbody>\n",
       "</table>\n",
       "</div>"
      ],
      "text/plain": [
       "            Latitude      Longitude\n",
       "count  968145.000000  968145.000000\n",
       "mean       39.071955     -77.100934\n",
       "std         1.178326       1.045737\n",
       "min       -94.610988     -93.254695\n",
       "25%        39.031078     -77.193418\n",
       "50%        39.072260     -77.092747\n",
       "75%        39.136087     -77.043110\n",
       "max        41.543160      41.512073"
      ]
     },
     "execution_count": 21,
     "metadata": {},
     "output_type": "execute_result"
    }
   ],
   "source": [
    "# summary stat of the raw data\n",
    "tv.iloc[:,1:16].describe()"
   ]
  },
  {
   "cell_type": "markdown",
   "metadata": {},
   "source": [
    "### Data preprocessing\n",
    "\n",
    "Only step in preprocessing phase that we will need to take is to separate features and labels."
   ]
  },
  {
   "cell_type": "code",
   "execution_count": 78,
   "metadata": {},
   "outputs": [
    {
     "name": "stdout",
     "output_type": "stream",
     "text": [
      "[['09/24/2013' '17:11:00' '3rd district, Silver Spring' ..., 'No' 'No' 'No']\n",
      " ['08/29/2017' '10:19:00' '2nd district, Bethesda' ..., 'No' 'No' 'No']\n",
      " ['12/01/2014' '12:52:00' '6th district, Gaithersburg / Montgomery Village'\n",
      "  ..., 'No' 'No' 'No']\n",
      " ..., \n",
      " ['02/17/2013' '0:26:00' '2nd district, Bethesda' ..., 'No' 'No' 'No']\n",
      " ['02/18/2013' '21:17:00' '2nd district, Bethesda' ..., 'No' 'No' 'No']\n",
      " ['02/26/2013' '4:43:00' '2nd district, Bethesda' ..., 'No' 'No' 'No']]\n"
     ]
    }
   ],
   "source": [
    "features = tv.iloc[:, :14].values\n",
    "labels = tv.iloc[:, 14].values\n",
    "print features"
   ]
  },
  {
   "cell_type": "code",
   "execution_count": 14,
   "metadata": {},
   "outputs": [
    {
     "name": "stdout",
     "output_type": "stream",
     "text": [
      "['MD' 'VA' 'MD' ..., 'MD' 'MD' 'MD']\n"
     ]
    }
   ],
   "source": [
    "print labels"
   ]
  },
  {
   "cell_type": "code",
   "execution_count": 16,
   "metadata": {},
   "outputs": [
    {
     "name": "stdout",
     "output_type": "stream",
     "text": [
      "<class 'pandas.core.frame.DataFrame'>\n"
     ]
    },
    {
     "data": {
      "text/html": [
       "<div>\n",
       "<style>\n",
       "    .dataframe thead tr:only-child th {\n",
       "        text-align: right;\n",
       "    }\n",
       "\n",
       "    .dataframe thead th {\n",
       "        text-align: left;\n",
       "    }\n",
       "\n",
       "    .dataframe tbody tr th {\n",
       "        vertical-align: top;\n",
       "    }\n",
       "</style>\n",
       "<table border=\"1\" class=\"dataframe\">\n",
       "  <thead>\n",
       "    <tr style=\"text-align: right;\">\n",
       "      <th></th>\n",
       "      <th>Time Of Stop</th>\n",
       "      <th>SubAgency</th>\n",
       "      <th>Description</th>\n",
       "      <th>Location</th>\n",
       "      <th>Latitude</th>\n",
       "      <th>Longitude</th>\n",
       "      <th>Accident</th>\n",
       "      <th>Belts</th>\n",
       "      <th>Personal Injury</th>\n",
       "      <th>Property Damage</th>\n",
       "      <th>Fatal</th>\n",
       "      <th>Alcohol</th>\n",
       "      <th>Work Zone</th>\n",
       "      <th>State</th>\n",
       "    </tr>\n",
       "  </thead>\n",
       "  <tbody>\n",
       "    <tr>\n",
       "      <th>0</th>\n",
       "      <td>17:11:00</td>\n",
       "      <td>3rd district, Silver Spring</td>\n",
       "      <td>DRIVING VEHICLE ON HIGHWAY WITH SUSPENDED REGI...</td>\n",
       "      <td>8804 FLOWER AVE</td>\n",
       "      <td>NaN</td>\n",
       "      <td>NaN</td>\n",
       "      <td>No</td>\n",
       "      <td>No</td>\n",
       "      <td>No</td>\n",
       "      <td>No</td>\n",
       "      <td>No</td>\n",
       "      <td>No</td>\n",
       "      <td>No</td>\n",
       "      <td>MD</td>\n",
       "    </tr>\n",
       "    <tr>\n",
       "      <th>1</th>\n",
       "      <td>10:19:00</td>\n",
       "      <td>2nd district, Bethesda</td>\n",
       "      <td>DRIVER FAILURE TO OBEY PROPERLY PLACED TRAFFIC...</td>\n",
       "      <td>WISCONSIN AVE@ ELM ST</td>\n",
       "      <td>38.981725</td>\n",
       "      <td>-77.092757</td>\n",
       "      <td>No</td>\n",
       "      <td>No</td>\n",
       "      <td>No</td>\n",
       "      <td>No</td>\n",
       "      <td>No</td>\n",
       "      <td>No</td>\n",
       "      <td>No</td>\n",
       "      <td>VA</td>\n",
       "    </tr>\n",
       "    <tr>\n",
       "      <th>2</th>\n",
       "      <td>12:52:00</td>\n",
       "      <td>6th district, Gaithersburg / Montgomery Village</td>\n",
       "      <td>FAILURE STOP AND YIELD AT THRU HWY</td>\n",
       "      <td>CHRISTOPHER AVE/MONTGOMERY VILLAGE AVE</td>\n",
       "      <td>39.162888</td>\n",
       "      <td>-77.229088</td>\n",
       "      <td>No</td>\n",
       "      <td>No</td>\n",
       "      <td>No</td>\n",
       "      <td>Yes</td>\n",
       "      <td>No</td>\n",
       "      <td>No</td>\n",
       "      <td>No</td>\n",
       "      <td>MD</td>\n",
       "    </tr>\n",
       "    <tr>\n",
       "      <th>3</th>\n",
       "      <td>9:22:00</td>\n",
       "      <td>3rd district, Silver Spring</td>\n",
       "      <td>FAILURE YIELD RIGHT OF WAY ON U TURN</td>\n",
       "      <td>CHERRY HILL RD./CALVERTON BLVD.</td>\n",
       "      <td>39.056975</td>\n",
       "      <td>-76.954633</td>\n",
       "      <td>No</td>\n",
       "      <td>No</td>\n",
       "      <td>No</td>\n",
       "      <td>Yes</td>\n",
       "      <td>No</td>\n",
       "      <td>No</td>\n",
       "      <td>No</td>\n",
       "      <td>MD</td>\n",
       "    </tr>\n",
       "    <tr>\n",
       "      <th>4</th>\n",
       "      <td>23:41:00</td>\n",
       "      <td>6th district, Gaithersburg / Montgomery Village</td>\n",
       "      <td>FAILURE OF DR. TO MAKE LANE CHANGE TO AVAIL. L...</td>\n",
       "      <td>355 @ SOUTH WESTLAND DRIVE</td>\n",
       "      <td>NaN</td>\n",
       "      <td>NaN</td>\n",
       "      <td>No</td>\n",
       "      <td>No</td>\n",
       "      <td>No</td>\n",
       "      <td>No</td>\n",
       "      <td>No</td>\n",
       "      <td>No</td>\n",
       "      <td>No</td>\n",
       "      <td>MD</td>\n",
       "    </tr>\n",
       "  </tbody>\n",
       "</table>\n",
       "</div>"
      ],
      "text/plain": [
       "  Time Of Stop                                        SubAgency  \\\n",
       "0     17:11:00                      3rd district, Silver Spring   \n",
       "1     10:19:00                           2nd district, Bethesda   \n",
       "2     12:52:00  6th district, Gaithersburg / Montgomery Village   \n",
       "3      9:22:00                      3rd district, Silver Spring   \n",
       "4     23:41:00  6th district, Gaithersburg / Montgomery Village   \n",
       "\n",
       "                                         Description  \\\n",
       "0  DRIVING VEHICLE ON HIGHWAY WITH SUSPENDED REGI...   \n",
       "1  DRIVER FAILURE TO OBEY PROPERLY PLACED TRAFFIC...   \n",
       "2                 FAILURE STOP AND YIELD AT THRU HWY   \n",
       "3               FAILURE YIELD RIGHT OF WAY ON U TURN   \n",
       "4  FAILURE OF DR. TO MAKE LANE CHANGE TO AVAIL. L...   \n",
       "\n",
       "                                 Location   Latitude  Longitude Accident  \\\n",
       "0                         8804 FLOWER AVE        NaN        NaN       No   \n",
       "1                   WISCONSIN AVE@ ELM ST  38.981725 -77.092757       No   \n",
       "2  CHRISTOPHER AVE/MONTGOMERY VILLAGE AVE  39.162888 -77.229088       No   \n",
       "3         CHERRY HILL RD./CALVERTON BLVD.  39.056975 -76.954633       No   \n",
       "4              355 @ SOUTH WESTLAND DRIVE        NaN        NaN       No   \n",
       "\n",
       "  Belts Personal Injury Property Damage Fatal Alcohol Work Zone State  \n",
       "0    No              No              No    No      No        No    MD  \n",
       "1    No              No              No    No      No        No    VA  \n",
       "2    No              No             Yes    No      No        No    MD  \n",
       "3    No              No             Yes    No      No        No    MD  \n",
       "4    No              No              No    No      No        No    MD  "
      ]
     },
     "execution_count": 16,
     "metadata": {},
     "output_type": "execute_result"
    }
   ],
   "source": [
    "# slicing out the predictor variables/features\n",
    "X=tv.iloc[:,1:15]\n",
    "print(type(X))\n",
    "# displaying the first five rows of X\n",
    "X.head()"
   ]
  },
  {
   "cell_type": "code",
   "execution_count": 17,
   "metadata": {},
   "outputs": [
    {
     "data": {
      "text/plain": [
       "39.045425    591\n",
       "39.046277    434\n",
       "39.109775    328\n",
       "39.005618    268\n",
       "39.110610    256\n",
       "39.057555    244\n",
       "39.003900    155\n",
       "39.149278    136\n",
       "38.992048    132\n",
       "39.077695    132\n",
       "39.058412    122\n",
       "39.058425    121\n",
       "39.058420    119\n",
       "39.058377    117\n",
       "39.058437    116\n",
       "39.061285    114\n",
       "39.058455    108\n",
       "39.058445    107\n",
       "39.058413    107\n",
       "39.058382    102\n",
       "39.058442    100\n",
       "39.058433    100\n",
       "39.058400    100\n",
       "39.058387     98\n",
       "39.058485     96\n",
       "39.058423     96\n",
       "39.057663     96\n",
       "39.058402     95\n",
       "39.058430     95\n",
       "39.058418     94\n",
       "            ... \n",
       "39.161190      1\n",
       "39.177194      1\n",
       "39.276300      1\n",
       "39.077389      1\n",
       "39.122352      1\n",
       "39.039496      1\n",
       "39.040794      1\n",
       "38.987435      1\n",
       "39.056924      1\n",
       "39.041420      1\n",
       "39.239898      1\n",
       "39.284313      1\n",
       "39.059860      1\n",
       "39.261050      1\n",
       "39.226004      1\n",
       "39.047752      1\n",
       "39.191303      1\n",
       "38.998682      1\n",
       "39.111294      1\n",
       "39.097563      1\n",
       "39.115077      1\n",
       "39.134923      1\n",
       "39.220471      1\n",
       "39.125751      1\n",
       "39.004210      1\n",
       "39.114766      1\n",
       "39.222248      1\n",
       "39.120300      1\n",
       "39.231310      1\n",
       "39.260019      1\n",
       "Name: Latitude, Length: 211784, dtype: int64"
      ]
     },
     "execution_count": 17,
     "metadata": {},
     "output_type": "execute_result"
    }
   ],
   "source": [
    "tv['Latitude'].value_counts(dropna='NaN')"
   ]
  },
  {
   "cell_type": "code",
   "execution_count": 18,
   "metadata": {},
   "outputs": [
    {
     "data": {
      "text/plain": [
       "No     1022306\n",
       "Yes      26269\n",
       "Name: Contributed To Accident, dtype: int64"
      ]
     },
     "execution_count": 18,
     "metadata": {},
     "output_type": "execute_result"
    }
   ],
   "source": [
    "tv['Contributed To Accident'].value_counts()"
   ]
  },
  {
   "cell_type": "code",
   "execution_count": 19,
   "metadata": {},
   "outputs": [
    {
     "name": "stdout",
     "output_type": "stream",
     "text": [
      "<class 'pandas.core.series.Series'>\n",
      "   No  Yes\n",
      "0   1    0\n",
      "1   1    0\n",
      "2   1    0\n",
      "3   1    0\n",
      "4   1    0\n"
     ]
    },
    {
     "data": {
      "text/plain": [
       "0    0\n",
       "1    0\n",
       "2    0\n",
       "3    0\n",
       "4    0\n",
       "Name: Yes, dtype: uint8"
      ]
     },
     "execution_count": 19,
     "metadata": {},
     "output_type": "execute_result"
    }
   ],
   "source": [
    "# response variable: 'Accident'\n",
    "yr = tv['Contributed To Accident']\n",
    "print(type(yr))\n",
    "yr.head()\n",
    "# we use pandas get_dummies function to convert the qualitative values in yr to quantitative \n",
    "yd=pd.get_dummies(yr) # this creates two columns: one for No and another for Yes\n",
    "print(yd.head())\n",
    "# this makes sense as we are interested more in predicting Yes cases than No\n",
    "y=yd.Yes\n",
    "y.head()"
   ]
  },
  {
   "cell_type": "code",
   "execution_count": null,
   "metadata": {
    "collapsed": true
   },
   "outputs": [],
   "source": [
    "## Copied from https://github.com/saramille/Breast-cancer-Data-analysis/blob/master/breast%20cancer%20data%20analysis%20colinearity%20and%20dimensional%20reduction.ipynb"
   ]
  },
  {
   "cell_type": "markdown",
   "metadata": {
    "collapsed": true
   },
   "source": [
    "Dimensional reduction using Principal Component Analysis (PCA)\n",
    "---------------------------------------------------------------\n",
    "\n",
    "PCA is a technique that extracts a smaller but valuable set of predictors by linear combination of the original p predictors (x1,x2,x3,...,xp) in a dataset. The new set of predictors captures as much information as possible usually 95% or more of the variance in the original data.\n",
    "   \n",
    "The new predictors can be written as:\n",
    "        PC1 = Φ¹¹X¹ + Φ²¹X² + Φ³¹X³ + .... +Φp¹Xp\n",
    "        PC2 = Φ¹²X¹ + Φ²²X² + Φ³²X³ + .... + Φp2Xp ...\n",
    "        Φp¹, and Φp2 are the loading vectors of the first and the second principal components,respectively.\n",
    "        \n",
    " Here, we apply PCA to the original data, and different versions of it and try to understand how results from PCA vary. "
   ]
  },
  {
   "cell_type": "markdown",
   "metadata": {},
   "source": [
    "### PCA on original data"
   ]
  },
  {
   "cell_type": "code",
   "execution_count": 101,
   "metadata": {
    "collapsed": true
   },
   "outputs": [],
   "source": [
    "traffic_data = pd.read_csv(\"data\\Traffic_Violations_Counts.csv\")"
   ]
  },
  {
   "cell_type": "code",
   "execution_count": 102,
   "metadata": {
    "collapsed": true
   },
   "outputs": [],
   "source": [
    "data=traffic_data.iloc[:,1:25] "
   ]
  },
  {
   "cell_type": "code",
   "execution_count": 103,
   "metadata": {
    "collapsed": true
   },
   "outputs": [],
   "source": [
    "Y=data.fillna(0)"
   ]
  },
  {
   "cell_type": "code",
   "execution_count": 104,
   "metadata": {},
   "outputs": [
    {
     "name": "stdout",
     "output_type": "stream",
     "text": [
      "(226L, 10L)\n",
      "[  5.46846334e-01   3.86956332e-01   3.67128164e-02   1.96258399e-02\n",
      "   7.01122369e-03   8.24390637e-04   7.77318340e-04   5.37325139e-04\n",
      "   4.00784698e-04   1.68194476e-04]\n",
      "0.999860559759\n"
     ]
    }
   ],
   "source": [
    "from sklearn.decomposition import PCA\n",
    "pca =PCA(n_components=10)\n",
    "x_pca=pca.fit_transform(Y)\n",
    "print (x_pca.shape)\n",
    "print(pca.explained_variance_ratio_) \n",
    "print (pca.explained_variance_ratio_.sum())\n",
    "loadings = pca.components_"
   ]
  },
  {
   "cell_type": "markdown",
   "metadata": {},
   "source": [
    "The above result shows more than 95% of the variance in the data can be expressed just by the first component. This happens in cases where there is high collinearity; the presence of collinearity can cause the PCA to overemphasize the contribution of the variance from the highly correlated (or redundant) varibles and gives less weight to the variables to the uncorrelated variables. This ultimately influence modeling/prediction results if such data is used.\n",
    "\n",
    "\n",
    "It is also important to note that we used PCA on unscaled data. When the data is not scaled, PCA might give us a result where only one component explains almost all the variance in the data."
   ]
  },
  {
   "cell_type": "markdown",
   "metadata": {},
   "source": [
    "### PCA on scaled/standardized data\n",
    "\n",
    "Standardizing transforms the data to a data with zero mean and a standard deviation of one (unit variance).\n",
    "\n",
    "In cases where the original predictors may have different scales, it is obvious the resulting variances in these predictors will be large. Therefore, performing PCA on unstandardized predictors will result a biased result; PCA assigns large loadings on the predictors with high variances"
   ]
  },
  {
   "cell_type": "code",
   "execution_count": 105,
   "metadata": {},
   "outputs": [
    {
     "data": {
      "text/plain": [
       "array([[ 0.27482422,  0.12513345,  0.43674519, ..., -0.23973433,\n",
       "        -0.24754934, -0.02096961],\n",
       "       [-0.42290149, -0.72418953, -0.0481564 , ..., -0.25526312,\n",
       "        -0.11632303, -0.01420908],\n",
       "       [ 0.00841986,  0.03331475, -0.02121742, ..., -0.59689657,\n",
       "        -0.48084057, -0.20012362],\n",
       "       ..., \n",
       "       [ 0.75688926,  0.97445643,  0.46368417, ...,  1.56160566,\n",
       "         1.88123307, -0.67336066],\n",
       "       [ 0.38899752,  0.60718163,  0.11347746, ...,  0.92492515,\n",
       "         0.74393836, -0.67336066],\n",
       "       [-1.51389079, -2.03260602, -0.82938675, ...,  0.00872636,\n",
       "        -1.09323003, -0.67336066]])"
      ]
     },
     "execution_count": 105,
     "metadata": {},
     "output_type": "execute_result"
    }
   ],
   "source": [
    "scaler = StandardScaler()\n",
    "X_scaled=scaler.fit_transform(Y)\n",
    "X_scaled"
   ]
  },
  {
   "cell_type": "code",
   "execution_count": 106,
   "metadata": {},
   "outputs": [
    {
     "name": "stdout",
     "output_type": "stream",
     "text": [
      "(226L, 5L)\n",
      "[ 0.66260282  0.14538904  0.07700046  0.04510895  0.02743775]\n",
      "0.95753901898\n"
     ]
    }
   ],
   "source": [
    "pca=PCA(n_components=0.95)\n",
    "x_pca=pca.fit_transform(X_scaled)\n",
    "print (x_pca.shape)\n",
    "print(pca.explained_variance_ratio_) \n",
    "print (pca.explained_variance_ratio_.sum())\n",
    "loadings = pca.components_"
   ]
  },
  {
   "cell_type": "markdown",
   "metadata": {},
   "source": [
    "From this, we can conclude that PCA with out scaling can hide features with smaller magnitude which are usable to the prediction. \n",
    "\n",
    "We can further see how removing collinear features from the scaled can affect PCA here below. "
   ]
  },
  {
   "cell_type": "markdown",
   "metadata": {},
   "source": [
    "### PCA after removing collinear variables\n",
    "\n",
    "Here, PCA is applied on the scaled data after removing some of the collinear features. We aim to see how removing redundant/colinear variables can improve PCA results."
   ]
  },
  {
   "cell_type": "code",
   "execution_count": 107,
   "metadata": {},
   "outputs": [
    {
     "name": "stdout",
     "output_type": "stream",
     "text": [
      "(226L, 5L)\n",
      "[ 0.68757972  0.13834328  0.08589363  0.03608399  0.02354962]\n",
      "0.971450242151\n"
     ]
    }
   ],
   "source": [
    "X_scaled=pd.DataFrame(X_scaled)\n",
    "xx=X_scaled.drop(X_scaled.columns[[2, 3, 22, 23, 12, 13]], axis=1) \n",
    "pca=PCA(n_components=0.95)\n",
    "x_pca=pca.fit_transform(xx)\n",
    "print (x_pca.shape)\n",
    "print(pca.explained_variance_ratio_) \n",
    "print (pca.explained_variance_ratio_.sum())\n",
    "loadings = pca.components_"
   ]
  },
  {
   "cell_type": "code",
   "execution_count": 109,
   "metadata": {
    "collapsed": true
   },
   "outputs": [],
   "source": [
    "var_1=np.array([5.46846334e-01,3.86956332e-01,3.67128164e-02,1.96258399e-02,7.01122369e-03])                \n",
    "var_sc=np.array([0.66260282,0.14538904,0.07700046,0.04510895,0.02743775])\n",
    "var_sc_coll=np.array([0.68757972,0.13834328,0.08589363,0.03608399,0.02354962])"
   ]
  },
  {
   "cell_type": "code",
   "execution_count": 111,
   "metadata": {},
   "outputs": [
    {
     "data": {
      "text/plain": [
       "<matplotlib.text.Text at 0x2869e630>"
      ]
     },
     "execution_count": 111,
     "metadata": {},
     "output_type": "execute_result"
    },
    {
     "data": {
      "image/png": "[encoded data removed]",
      "text/plain": [
       "<matplotlib.figure.Figure at 0x28898b00>"
      ]
     },
     "metadata": {},
     "output_type": "display_data"
    }
   ],
   "source": [
    "import matplotlib.pyplot as plt\n",
    "\n",
    "n=['PC1','PC2','PC3','PC4','PC5']\n",
    "index = np.arange(5)\n",
    "var=np.vstack([var_1,var_sc,var_sc_coll]).T\n",
    "\n",
    "# creating pandas datframe from numpy array 'var'\n",
    "df=pd.DataFrame(var,index=n,columns=['original','scaled','scaled_no_colli'])\n",
    "\n",
    "# plotting variance data \n",
    "%matplotlib inline\n",
    "fig, ax= plt.subplots(1,3,sharey=True,figsize=(20,4))\n",
    "r1 = ax[0].bar(index,df['original'],width = 0.6,align='center')\n",
    "ax[0].set_title('PCA on raw data',fontsize=14)\n",
    "\n",
    "r2 = ax[1].bar(index,df['scaled'],width = 0.6,align='center')\n",
    "ax[1].set_title('PCA on scaled data',fontsize=14)\n",
    "\n",
    "r3 = ax[2].bar(index,df['scaled_no_colli'],width= 0.6,align='center')\n",
    "#ax[2].set_xticklabels(n)\n",
    "ax[2].set_title('PCA after removing collinearity',fontsize=14)"
   ]
  },
  {
   "cell_type": "markdown",
   "metadata": {},
   "source": [
    "### Summary:\n",
    "\n",
    "* By standardizing the data, PCA performance has improved quite well in capturing variance of the raw data\n",
    "    \n",
    "* Removing collinear features allowed the variance from other variables which were previously ignored to be captured by PCA.\n",
    "\n",
    "\n",
    "\n",
    "### Ploting first and second principal components\n",
    "\n",
    "* First principal component (PC1) is a linear combination of the features/variables which represents the maximum variance in the data set.\n",
    "    \n",
    "* Second principal component (PC2) is also a linear combination of the features/variables which represents the remaining variance in the data set and is uncorrelated with the first principal component (PC1)."
   ]
  },
  {
   "cell_type": "code",
   "execution_count": 163,
   "metadata": {},
   "outputs": [
    {
     "data": {
      "text/html": [
       "<div>\n",
       "<style>\n",
       "    .dataframe thead tr:only-child th {\n",
       "        text-align: right;\n",
       "    }\n",
       "\n",
       "    .dataframe thead th {\n",
       "        text-align: left;\n",
       "    }\n",
       "\n",
       "    .dataframe tbody tr th {\n",
       "        vertical-align: top;\n",
       "    }\n",
       "</style>\n",
       "<table border=\"1\" class=\"dataframe\">\n",
       "  <thead>\n",
       "    <tr style=\"text-align: right;\">\n",
       "      <th></th>\n",
       "      <th>PC1</th>\n",
       "      <th>PC2</th>\n",
       "      <th>PC3</th>\n",
       "      <th>PC4</th>\n",
       "      <th>PC5</th>\n",
       "    </tr>\n",
       "  </thead>\n",
       "  <tbody>\n",
       "    <tr>\n",
       "      <th>0</th>\n",
       "      <td>-0.627727</td>\n",
       "      <td>1.016965</td>\n",
       "      <td>2.481337</td>\n",
       "      <td>-0.953040</td>\n",
       "      <td>0.453395</td>\n",
       "    </tr>\n",
       "    <tr>\n",
       "      <th>1</th>\n",
       "      <td>-1.287772</td>\n",
       "      <td>-0.645299</td>\n",
       "      <td>1.421616</td>\n",
       "      <td>-0.718026</td>\n",
       "      <td>0.051027</td>\n",
       "    </tr>\n",
       "    <tr>\n",
       "      <th>2</th>\n",
       "      <td>-1.455468</td>\n",
       "      <td>0.467402</td>\n",
       "      <td>2.697539</td>\n",
       "      <td>-0.401164</td>\n",
       "      <td>0.294929</td>\n",
       "    </tr>\n",
       "  </tbody>\n",
       "</table>\n",
       "</div>"
      ],
      "text/plain": [
       "        PC1       PC2       PC3       PC4       PC5\n",
       "0 -0.627727  1.016965  2.481337 -0.953040  0.453395\n",
       "1 -1.287772 -0.645299  1.421616 -0.718026  0.051027\n",
       "2 -1.455468  0.467402  2.697539 -0.401164  0.294929"
      ]
     },
     "execution_count": 163,
     "metadata": {},
     "output_type": "execute_result"
    }
   ],
   "source": [
    "import pandas as pd\n",
    "n=['PC1','PC2','PC3','PC4','PC5']\n",
    "xx_pca=pd.DataFrame(x_pca,columns = n)\n",
    "xx_pca.head(3)"
   ]
  },
  {
   "cell_type": "code",
   "execution_count": 164,
   "metadata": {},
   "outputs": [
    {
     "data": {
      "image/png": "[encoded data removed]",
      "text/plain": [
       "<matplotlib.figure.Figure at 0x2976a9b0>"
      ]
     },
     "metadata": {},
     "output_type": "display_data"
    }
   ],
   "source": [
    "#plotting the first 2 pca compenents\n",
    "%matplotlib inline\n",
    "ax = xx_pca.plot(kind='scatter', x='PC1', y='PC2', figsize=(10,6))\n",
    "for i, d in enumerate(xx_pca.index):\n",
    "    ax.annotate(d,(xx_pca.iloc[i].PC1, xx_pca.iloc[i].PC2))"
   ]
  },
  {
   "cell_type": "code",
   "execution_count": 130,
   "metadata": {
    "collapsed": true
   },
   "outputs": [],
   "source": [
    "from sklearn.preprocessing import StandardScaler\n",
    "f=traffic_data.iloc[:, 1:4].values\n",
    "l=traffic_data.iloc[:, 4].values\n",
    "X_std = StandardScaler().fit_transform(f)"
   ]
  },
  {
   "cell_type": "code",
   "execution_count": 165,
   "metadata": {},
   "outputs": [
    {
     "data": {
      "text/plain": [
       "array([[  4.82742551e-01,   2.21116993e-01],\n",
       "       [ -6.90892674e-01,   4.77789179e-01],\n",
       "       [  1.19088104e-02,  -3.85891946e-02],\n",
       "       [ -2.04606653e+00,  -4.20651337e-01],\n",
       "       [ -2.29332236e+00,  -2.25933811e-01],\n",
       "       [  2.60992951e-01,   1.36132598e-01],\n",
       "       [ -5.71751351e-01,   3.09787844e-01],\n",
       "       [ -1.41346884e+00,   3.42157946e-01],\n",
       "       [ -1.46547964e+00,  -1.36113595e-01],\n",
       "       [ -3.15107348e-01,  -7.77625729e-02],\n",
       "       [ -1.01749385e+00,   1.04497767e-01],\n",
       "       [ -1.46813792e+00,   1.62683152e-01],\n",
       "       [ -9.09569004e-01,  -2.40109997e-01],\n",
       "       [ -4.31590389e-01,  -2.08557985e-01],\n",
       "       [ -5.94184313e-01,  -4.34250148e-02],\n",
       "       [  2.47076072e+00,  -1.57662692e-01],\n",
       "       [  1.35893945e+00,   5.03301118e-02],\n",
       "       [ -8.48170033e-01,   4.53286545e-02],\n",
       "       [  2.88742479e-01,  -1.08248039e-01],\n",
       "       [  9.61551139e-01,  -4.15567062e-01],\n",
       "       [  4.28073468e-01,   4.16421991e-02],\n",
       "       [  4.64796181e-01,  -6.14532938e-02],\n",
       "       [  6.31461711e-01,   1.78174341e-01],\n",
       "       [ -6.67214752e-01,  -1.71352062e-01],\n",
       "       [ -3.10770531e+00,  -1.03826311e-01],\n",
       "       [ -2.33228837e+00,  -1.58159604e-01],\n",
       "       [ -3.12864052e-01,  -4.24412870e-02],\n",
       "       [ -1.40856726e+00,   7.86824848e-02],\n",
       "       [ -1.46547964e+00,  -1.36113595e-01],\n",
       "       [ -2.90016103e-01,  -2.33464617e-02],\n",
       "       [ -9.91987615e-01,  -1.75204155e-01],\n",
       "       [ -7.27200400e-01,   2.46766639e-01],\n",
       "       [ -6.58241567e-01,  -3.00669189e-02],\n",
       "       [ -2.35737961e+00,  -2.12575715e-01],\n",
       "       [ -1.28942594e+00,  -8.93188503e-02],\n",
       "       [  6.54724647e-01,  -1.36848867e-01],\n",
       "       [  5.94738999e-01,   2.81269834e-01],\n",
       "       [ -1.11337223e+00,  -4.25241056e-02],\n",
       "       [ -2.96347274e+00,  -2.17411535e-01],\n",
       "       [ -2.86535105e+00,  -3.50683763e-02],\n",
       "       [ -2.71887519e+00,  -1.13332314e-01],\n",
       "       [ -3.03018827e+00,   9.47433083e-02],\n",
       "       [ -2.85862117e+00,   7.08954813e-02],\n",
       "       [ -2.62075351e+00,   6.90108443e-02],\n",
       "       [ -2.53160501e+00,   1.10068860e-01],\n",
       "       [ -2.81516856e+00,   7.37638460e-02],\n",
       "       [ -1.79332577e+00,   4.92949093e-01],\n",
       "       [ -5.41343540e-01,  -2.33389540e-01],\n",
       "       [  4.48678121e-01,   2.54157385e-02],\n",
       "       [ -5.69093068e-01,   1.09910964e-02],\n",
       "       [  1.14938241e-02,   2.95528839e-01],\n",
       "       [  4.02152251e-01,   6.55462155e-01],\n",
       "       [ -6.01744174e-01,   5.18847194e-01],\n",
       "       [ -1.84350826e+00,   3.84116871e-01],\n",
       "       [ -1.35974209e-02,   2.41112728e-01],\n",
       "       [  1.23979813e+00,   2.18331447e-01],\n",
       "       [  8.94835603e-01,  -1.03412218e-01],\n",
       "       [ -1.51100100e-01,   4.60661809e-01],\n",
       "       [ -8.06960728e-01,   1.28757333e-02],\n",
       "       [ -1.68540093e+00,   1.48341329e-01],\n",
       "       [ -1.16620684e-01,   3.22245030e-01],\n",
       "       [ -4.05169760e-02,  -1.82742703e-01],\n",
       "       [  2.81597604e-01,   1.19906137e-01],\n",
       "       [ -6.99035886e-01,  -3.31732031e-01],\n",
       "       [ -1.62317198e+00,  -2.34456086e-01],\n",
       "       [  1.56141378e-01,  -1.52174419e-01],\n",
       "       [ -6.53339988e-01,  -2.93542381e-01],\n",
       "       [ -6.26005447e-01,  -2.03804984e-01],\n",
       "       [  1.81407012e+00,   6.27872984e-02],\n",
       "       [  9.90713990e-01,   4.36096546e-02],\n",
       "       [  2.41526167e+00,   3.31098580e-01],\n",
       "       [  2.60743343e+00,   2.91024293e-01],\n",
       "       [  1.34506469e+00,   1.72520430e-01],\n",
       "       [ -5.57876587e-01,   1.87597526e-01],\n",
       "       [ -8.80406153e-01,   2.19066719e-01],\n",
       "       [  2.72208816e+00,   5.23803859e-02],\n",
       "       [  2.64149786e+00,   4.86725547e-01],\n",
       "       [  1.46420601e+00,   4.51909482e-03],\n",
       "       [  5.92495703e-01,   2.45948548e-01],\n",
       "       [ -9.06994662e-02,  -2.91574925e-01],\n",
       "       [ -8.34295269e-01,  -7.68616637e-02],\n",
       "       [ -4.97890939e-01,  -2.30521175e-01],\n",
       "       [  2.21860331e+00,   3.00530296e-01],\n",
       "       [  2.66517578e+00,  -1.62415694e-01],\n",
       "       [  2.58458548e+00,   2.71929467e-01],\n",
       "       [ -5.63776503e-01,  -5.86602399e-01],\n",
       "       [ -7.99815853e-01,  -2.15278442e-01],\n",
       "       [ -1.34002341e+00,   1.35966961e-01],\n",
       "       [ -3.13545483e+00,   1.40554325e-01],\n",
       "       [ -1.22935586e-01,  -1.17836860e-01],\n",
       "       [  1.30917195e+00,  -3.92620144e-01],\n",
       "       [ -8.11447320e-01,  -5.77668384e-02],\n",
       "       [ -3.16727597e+00,  -1.98256435e-02],\n",
       "       [ -2.40349050e+00,   8.33526680e-02],\n",
       "       [ -1.27106458e+00,  -1.40866597e-01],\n",
       "       [ -1.06817526e-01,  -2.04705893e-01],\n",
       "       [  4.59894602e-01,   2.02022168e-01],\n",
       "       [ -3.11035742e-01,   3.26998032e-01],\n",
       "       [  2.79354308e-01,   8.45848514e-02],\n",
       "       [ -1.46589462e+00,   1.98004438e-01],\n",
       "       [  1.17175370e-01,  -8.44002115e-02],\n",
       "       [ -7.13325636e-01,   1.24576320e-01],\n",
       "       [ -1.18415938e+00,  -1.35129867e-01],\n",
       "       [  4.80499255e-01,   1.85795707e-01],\n",
       "       [  1.14799135e+00,   4.76070179e-01],\n",
       "       [  1.89424544e+00,  -3.74398297e-02],\n",
       "       [ -1.09475809e-01,   9.40908547e-02],\n",
       "       [ -1.87822813e-01,   5.63757302e-01],\n",
       "       [ -2.29373735e+00,   1.08184223e-01],\n",
       "       [ -1.66438129e+00,  -2.02003165e-01],\n",
       "       [  9.72352634e-01,   9.51574010e-02],\n",
       "       [  7.85082451e-01,  -1.28243773e-01],\n",
       "       [ -2.22029192e+00,  -9.80067630e-02],\n",
       "       [ -1.06991963e+00,  -3.96557409e-02],\n",
       "       [  5.42313212e-01,   1.37116326e-01],\n",
       "       [ -3.17765631e-01,   2.21034175e-01],\n",
       "       [ -1.32390535e+00,   4.90979284e-02],\n",
       "       [ -8.21412675e-02,   1.83828252e-01],\n",
       "       [  8.66671089e-01,   4.75086451e-01],\n",
       "       [  5.28438449e-01,   2.59306644e-01],\n",
       "       [  4.87229143e-01,   2.91759565e-01],\n",
       "       [  3.54628043e-01,   2.47833185e-01],\n",
       "       [  8.39336547e-01,   3.85349054e-01],\n",
       "       [ -1.74721488e+00,   1.97020710e-01],\n",
       "       [  3.83790894e-01,   7.07009901e-01],\n",
       "       [  1.96237430e+00,   3.53962680e-01],\n",
       "       [  1.46379103e+00,   3.38637128e-01],\n",
       "       [  8.50968015e-01,   2.27837450e-01],\n",
       "       [  7.16123618e-01,   1.48589784e-01],\n",
       "       [ -1.10664235e+00,   6.34397520e-02],\n",
       "       [ -8.91207648e-01,  -2.91657744e-01],\n",
       "       [ -5.46245119e-01,   3.00859217e-02],\n",
       "       [ -4.62423592e-03,   3.82397871e-01],\n",
       "       [ -3.95282662e-01,   2.24645553e-02],\n",
       "       [  1.42266615e-01,  -2.99841004e-02],\n",
       "       [ -2.17400650e-01,   4.38698619e-01],\n",
       "       [ -1.44263169e+00,  -1.17018770e-01],\n",
       "       [ -1.00627736e+00,   2.81104197e-01],\n",
       "       [  1.06332944e+00,   5.05654736e-01],\n",
       "       [  1.14938241e-02,   2.95528839e-01],\n",
       "       [  2.38145003e-01,   1.17037773e-01],\n",
       "       [ -7.42903474e-01,  -4.82362520e-04],\n",
       "       [ -2.32555848e+00,  -5.21957461e-02],\n",
       "       [  1.13943315e+00,   6.67002338e-04],\n",
       "       [ -4.08742440e-01,  -1.89463160e-01],\n",
       "       [  6.92311573e+00,   4.52802082e-01],\n",
       "       [  3.94366258e+00,  -1.30780864e-01],\n",
       "       [  9.83402504e+00,   9.79100552e-01],\n",
       "       [  6.95103979e-01,   4.98934278e-01],\n",
       "       [ -6.53754975e-01,   4.05756528e-02],\n",
       "       [ -1.61910038e+00,   1.70304519e-01],\n",
       "       [ -9.41805124e-01,  -6.63719326e-02],\n",
       "       [ -5.78066253e-01,  -1.30294047e-01],\n",
       "       [ -5.87039438e-01,  -2.71579191e-01],\n",
       "       [  2.47533174e-01,  -7.57951174e-02],\n",
       "       [ -1.17028461e+00,  -2.57320185e-01],\n",
       "       [ -4.34248671e-01,   9.02387623e-02],\n",
       "       [ -7.33930289e-01,   1.40802781e-01],\n",
       "       [ -8.34295269e-01,  -7.68616637e-02],\n",
       "       [ -7.41075164e-01,   3.68956957e-01],\n",
       "       [ -1.19130425e+00,   9.30243084e-02],\n",
       "       [  2.19783646e-01,   1.68585519e-01],\n",
       "       [ -1.52097869e+00,   3.52647678e-01],\n",
       "       [ -3.37955297e-01,  -9.68573982e-02],\n",
       "       [ -9.96474207e-01,  -2.45846727e-01],\n",
       "       [ -8.49998343e-01,  -3.24110665e-01],\n",
       "       [ -5.34613652e-01,  -1.27425682e-01],\n",
       "       [  5.28853435e-01,  -7.48113896e-02],\n",
       "       [ -5.14423985e-01,   1.90465890e-01],\n",
       "       [ -5.89697721e-01,   2.72175569e-02],\n",
       "       [ -3.85894491e-01,  -1.70368335e-01],\n",
       "       [ -1.89776236e+00,  -1.29475956e-01],\n",
       "       [ -3.00468204e+00,  -1.84958614e-01],\n",
       "       [ -1.34567054e-01,   3.96747436e-02],\n",
       "       [  3.76062668e-01,  -4.36629342e-01],\n",
       "       [ -1.82091262e-01,  -3.67954226e-01],\n",
       "       [ -1.76964785e+00,  -1.56192148e-01],\n",
       "       [ -2.85114524e-01,  -2.86821923e-01],\n",
       "       [ -5.25634299e-02,   3.08886935e-01],\n",
       "       [ -1.91570873e+00,  -4.12046243e-01],\n",
       "       [ -2.44320206e-01,   1.48431888e-02],\n",
       "       [ -3.74263024e-01,  -3.27879939e-01],\n",
       "       [ -6.94549293e-01,  -2.61089459e-01],\n",
       "       [ -4.43221856e-01,  -5.10463812e-02],\n",
       "       [  1.22076948e-01,  -3.47875673e-01],\n",
       "       [  3.98495631e-01,  -8.34164838e-02],\n",
       "       [ -2.13828830e+00,   1.71205428e-01],\n",
       "       [ -6.76187937e-01,  -3.12637206e-01],\n",
       "       [  1.06108615e+00,   4.70333450e-01],\n",
       "       [  1.16493938e+00,  -2.79034920e-01],\n",
       "       [  5.76047081e-02,  -3.99543970e-04],\n",
       "       [ -7.06180761e-01,  -1.03577855e-01],\n",
       "       [  7.07150433e-01,   7.30464099e-03],\n",
       "       [  7.59660644e-02,  -5.19472904e-02],\n",
       "       [  9.63794435e-01,  -3.80245776e-01],\n",
       "       [  1.18554403e+00,  -2.95261380e-01],\n",
       "       [  1.03640989e+00,   8.17993052e-02],\n",
       "       [  6.69928794e-02,  -1.93232434e-01],\n",
       "       [  2.04520789e+00,  -4.50611961e-02],\n",
       "       [  8.63429455e-01,  -5.97910220e-01],\n",
       "       [ -3.43686848e-01,   8.34854130e-01],\n",
       "       [  1.94932950e+00,  -1.92083069e-01],\n",
       "       [  1.61375515e+00,  -7.06659624e-01],\n",
       "       [  4.07443537e+00,  -4.56293803e-01],\n",
       "       [  3.98670019e+00,   2.06205535e-01],\n",
       "       [  3.33574114e+00,  -5.05056003e-01],\n",
       "       [  1.37281422e+00,  -7.18602064e-02],\n",
       "       [  6.43508165e-01,  -3.13455296e-01],\n",
       "       [  2.92406308e+00,  -5.14644825e-01],\n",
       "       [  1.89956200e+00,  -6.35033325e-01],\n",
       "       [  3.58216700e+00,  -3.15374632e-02],\n",
       "       [  2.87878217e+00,  -8.86952509e-01],\n",
       "       [ -5.45000160e-01,  -9.72268178e-01],\n",
       "       [  7.82839155e-01,  -1.63565059e-01],\n",
       "       [  5.31511717e-01,  -3.73608137e-01],\n",
       "       [  5.08248782e-01,  -5.85849291e-02],\n",
       "       [  4.10708647e+00,  -9.64149901e-01],\n",
       "       [  3.27882876e+00,  -7.19852083e-01],\n",
       "       [  3.76760887e+00,  -1.77575608e-01],\n",
       "       [  2.66027420e+00,   1.01059768e-01],\n",
       "       [  1.32180176e+00,   4.87543638e-01],\n",
       "       [  6.20913006e-02,   7.02430278e-02],\n",
       "       [  3.61971969e+00,  -8.02869023e-01],\n",
       "       [  1.26796265e+00,  -3.60167223e-01],\n",
       "       [  6.41264869e-01,  -3.48776582e-01],\n",
       "       [ -2.52794839e+00,   8.48947498e-01]])"
      ]
     },
     "execution_count": 165,
     "metadata": {},
     "output_type": "execute_result"
    }
   ],
   "source": [
    "from sklearn.discriminant_analysis import LinearDiscriminantAnalysis\n",
    "from sklearn.decomposition import PCA\n",
    "pca = PCA(n_components=2)\n",
    "reduced_data = pca.fit_transform(X_std)\n",
    "reduced_data"
   ]
  },
  {
   "cell_type": "code",
   "execution_count": null,
   "metadata": {
    "collapsed": true
   },
   "outputs": [],
   "source": [
    "## Copied from https://www.codementor.io/jadianes/data-science-python-pandas-r-dimensionality-reduction-du1081aka"
   ]
  },
  {
   "cell_type": "code",
   "execution_count": 172,
   "metadata": {
    "collapsed": true
   },
   "outputs": [],
   "source": [
    "existing_df1existing_df = pd.read_csv(\"data\\Traffic_Violations_Counts.csv\", index_col = 0, thousands  = ',')\n",
    "existing_df1.index.names = ['Dates']\n",
    "existing_df1.columns.names = ['Channels']"
   ]
  },
  {
   "cell_type": "code",
   "execution_count": 173,
   "metadata": {},
   "outputs": [
    {
     "data": {
      "text/html": [
       "<div>\n",
       "<style>\n",
       "    .dataframe thead tr:only-child th {\n",
       "        text-align: right;\n",
       "    }\n",
       "\n",
       "    .dataframe thead th {\n",
       "        text-align: left;\n",
       "    }\n",
       "\n",
       "    .dataframe tbody tr th {\n",
       "        vertical-align: top;\n",
       "    }\n",
       "</style>\n",
       "<table border=\"1\" class=\"dataframe\">\n",
       "  <thead>\n",
       "    <tr style=\"text-align: right;\">\n",
       "      <th>Channels</th>\n",
       "      <th>7th and Park Campus</th>\n",
       "      <th>Cyclists IN</th>\n",
       "      <th>Cyclists OUT</th>\n",
       "      <th>7th underpass</th>\n",
       "      <th>Channel 1 IN</th>\n",
       "      <th>Channel 2 OUT</th>\n",
       "      <th>Channel 3 IN</th>\n",
       "      <th>Channel 4 OUT</th>\n",
       "      <th>B-line Country Club</th>\n",
       "      <th>Channel 1</th>\n",
       "      <th>...</th>\n",
       "      <th>Jordan and 7th</th>\n",
       "      <th>Channel 1 IN.1</th>\n",
       "      <th>Channel 2 OUT.1</th>\n",
       "      <th>N College and RR</th>\n",
       "      <th>S Walnut and Wylie</th>\n",
       "      <th>W 2nd Twin Lakes Bloomfield</th>\n",
       "      <th>Channel 1 IN.2</th>\n",
       "      <th>Channel 2 OUT.2</th>\n",
       "      <th>Channel 3 IN.1</th>\n",
       "      <th>Channel 4 OUT.1</th>\n",
       "    </tr>\n",
       "    <tr>\n",
       "      <th>Dates</th>\n",
       "      <th></th>\n",
       "      <th></th>\n",
       "      <th></th>\n",
       "      <th></th>\n",
       "      <th></th>\n",
       "      <th></th>\n",
       "      <th></th>\n",
       "      <th></th>\n",
       "      <th></th>\n",
       "      <th></th>\n",
       "      <th></th>\n",
       "      <th></th>\n",
       "      <th></th>\n",
       "      <th></th>\n",
       "      <th></th>\n",
       "      <th></th>\n",
       "      <th></th>\n",
       "      <th></th>\n",
       "      <th></th>\n",
       "      <th></th>\n",
       "      <th></th>\n",
       "    </tr>\n",
       "  </thead>\n",
       "  <tbody>\n",
       "    <tr>\n",
       "      <th>02/01/2017 0:00</th>\n",
       "      <td>221</td>\n",
       "      <td>113</td>\n",
       "      <td>108</td>\n",
       "      <td>155</td>\n",
       "      <td>66</td>\n",
       "      <td>80</td>\n",
       "      <td>75</td>\n",
       "      <td>33</td>\n",
       "      <td>33</td>\n",
       "      <td>17.0</td>\n",
       "      <td>...</td>\n",
       "      <td>150</td>\n",
       "      <td>83</td>\n",
       "      <td>67</td>\n",
       "      <td>186</td>\n",
       "      <td>92</td>\n",
       "      <td>94</td>\n",
       "      <td>186</td>\n",
       "      <td>92</td>\n",
       "      <td>94</td>\n",
       "      <td>193.0</td>\n",
       "    </tr>\n",
       "    <tr>\n",
       "      <th>02/02/2017 0:00</th>\n",
       "      <td>166</td>\n",
       "      <td>76</td>\n",
       "      <td>90</td>\n",
       "      <td>98</td>\n",
       "      <td>68</td>\n",
       "      <td>51</td>\n",
       "      <td>47</td>\n",
       "      <td>25</td>\n",
       "      <td>43</td>\n",
       "      <td>12.0</td>\n",
       "      <td>...</td>\n",
       "      <td>138</td>\n",
       "      <td>78</td>\n",
       "      <td>60</td>\n",
       "      <td>194</td>\n",
       "      <td>91</td>\n",
       "      <td>103</td>\n",
       "      <td>194</td>\n",
       "      <td>91</td>\n",
       "      <td>103</td>\n",
       "      <td>195.0</td>\n",
       "    </tr>\n",
       "    <tr>\n",
       "      <th>02/03/2017 0:00</th>\n",
       "      <td>200</td>\n",
       "      <td>109</td>\n",
       "      <td>91</td>\n",
       "      <td>142</td>\n",
       "      <td>58</td>\n",
       "      <td>78</td>\n",
       "      <td>64</td>\n",
       "      <td>31</td>\n",
       "      <td>27</td>\n",
       "      <td>12.0</td>\n",
       "      <td>...</td>\n",
       "      <td>126</td>\n",
       "      <td>78</td>\n",
       "      <td>48</td>\n",
       "      <td>147</td>\n",
       "      <td>69</td>\n",
       "      <td>78</td>\n",
       "      <td>147</td>\n",
       "      <td>69</td>\n",
       "      <td>78</td>\n",
       "      <td>140.0</td>\n",
       "    </tr>\n",
       "    <tr>\n",
       "      <th>02/04/2017 0:00</th>\n",
       "      <td>106</td>\n",
       "      <td>69</td>\n",
       "      <td>37</td>\n",
       "      <td>39</td>\n",
       "      <td>67</td>\n",
       "      <td>24</td>\n",
       "      <td>15</td>\n",
       "      <td>45</td>\n",
       "      <td>22</td>\n",
       "      <td>9.0</td>\n",
       "      <td>...</td>\n",
       "      <td>49</td>\n",
       "      <td>33</td>\n",
       "      <td>16</td>\n",
       "      <td>58</td>\n",
       "      <td>23</td>\n",
       "      <td>35</td>\n",
       "      <td>58</td>\n",
       "      <td>23</td>\n",
       "      <td>35</td>\n",
       "      <td>233.0</td>\n",
       "    </tr>\n",
       "    <tr>\n",
       "      <th>02/05/2017 0:00</th>\n",
       "      <td>94</td>\n",
       "      <td>57</td>\n",
       "      <td>37</td>\n",
       "      <td>43</td>\n",
       "      <td>51</td>\n",
       "      <td>26</td>\n",
       "      <td>17</td>\n",
       "      <td>31</td>\n",
       "      <td>20</td>\n",
       "      <td>12.0</td>\n",
       "      <td>...</td>\n",
       "      <td>82</td>\n",
       "      <td>51</td>\n",
       "      <td>31</td>\n",
       "      <td>73</td>\n",
       "      <td>38</td>\n",
       "      <td>35</td>\n",
       "      <td>73</td>\n",
       "      <td>38</td>\n",
       "      <td>35</td>\n",
       "      <td>486.0</td>\n",
       "    </tr>\n",
       "  </tbody>\n",
       "</table>\n",
       "<p>5 rows × 24 columns</p>\n",
       "</div>"
      ],
      "text/plain": [
       "Channels         7th and Park Campus  Cyclists IN  Cyclists OUT  \\\n",
       "Dates                                                             \n",
       "02/01/2017 0:00                  221          113           108   \n",
       "02/02/2017 0:00                  166           76            90   \n",
       "02/03/2017 0:00                  200          109            91   \n",
       "02/04/2017 0:00                  106           69            37   \n",
       "02/05/2017 0:00                   94           57            37   \n",
       "\n",
       "Channels         7th underpass  Channel 1 IN  Channel 2 OUT  Channel 3 IN  \\\n",
       "Dates                                                                       \n",
       "02/01/2017 0:00            155            66             80            75   \n",
       "02/02/2017 0:00             98            68             51            47   \n",
       "02/03/2017 0:00            142            58             78            64   \n",
       "02/04/2017 0:00             39            67             24            15   \n",
       "02/05/2017 0:00             43            51             26            17   \n",
       "\n",
       "Channels         Channel 4 OUT  B-line Country Club  Channel 1  \\\n",
       "Dates                                                            \n",
       "02/01/2017 0:00             33                   33       17.0   \n",
       "02/02/2017 0:00             25                   43       12.0   \n",
       "02/03/2017 0:00             31                   27       12.0   \n",
       "02/04/2017 0:00             45                   22        9.0   \n",
       "02/05/2017 0:00             31                   20       12.0   \n",
       "\n",
       "Channels              ...         Jordan and 7th  Channel 1 IN.1  \\\n",
       "Dates                 ...                                          \n",
       "02/01/2017 0:00       ...                    150              83   \n",
       "02/02/2017 0:00       ...                    138              78   \n",
       "02/03/2017 0:00       ...                    126              78   \n",
       "02/04/2017 0:00       ...                     49              33   \n",
       "02/05/2017 0:00       ...                     82              51   \n",
       "\n",
       "Channels         Channel 2 OUT.1  N College and RR  S Walnut and Wylie  \\\n",
       "Dates                                                                    \n",
       "02/01/2017 0:00               67               186                  92   \n",
       "02/02/2017 0:00               60               194                  91   \n",
       "02/03/2017 0:00               48               147                  69   \n",
       "02/04/2017 0:00               16                58                  23   \n",
       "02/05/2017 0:00               31                73                  38   \n",
       "\n",
       "Channels         W 2nd Twin Lakes Bloomfield  Channel 1 IN.2  Channel 2 OUT.2  \\\n",
       "Dates                                                                           \n",
       "02/01/2017 0:00                           94             186               92   \n",
       "02/02/2017 0:00                          103             194               91   \n",
       "02/03/2017 0:00                           78             147               69   \n",
       "02/04/2017 0:00                           35              58               23   \n",
       "02/05/2017 0:00                           35              73               38   \n",
       "\n",
       "Channels         Channel 3 IN.1  Channel 4 OUT.1  \n",
       "Dates                                             \n",
       "02/01/2017 0:00              94            193.0  \n",
       "02/02/2017 0:00             103            195.0  \n",
       "02/03/2017 0:00              78            140.0  \n",
       "02/04/2017 0:00              35            233.0  \n",
       "02/05/2017 0:00              35            486.0  \n",
       "\n",
       "[5 rows x 24 columns]"
      ]
     },
     "execution_count": 173,
     "metadata": {},
     "output_type": "execute_result"
    }
   ],
   "source": [
    "existing_df1.head()"
   ]
  },
  {
   "cell_type": "code",
   "execution_count": 174,
   "metadata": {
    "collapsed": true
   },
   "outputs": [],
   "source": [
    "existing_df=existing_df1.fillna(0)"
   ]
  },
  {
   "cell_type": "code",
   "execution_count": 175,
   "metadata": {},
   "outputs": [
    {
     "data": {
      "text/plain": [
       "PCA(copy=True, iterated_power='auto', n_components=2, random_state=None,\n",
       "  svd_solver='auto', tol=0.0, whiten=False)"
      ]
     },
     "execution_count": 175,
     "metadata": {},
     "output_type": "execute_result"
    }
   ],
   "source": [
    "from sklearn.decomposition import PCA\n",
    "    \n",
    "pca = PCA(n_components=2)\n",
    "pca.fit(existing_df)"
   ]
  },
  {
   "cell_type": "code",
   "execution_count": 176,
   "metadata": {},
   "outputs": [
    {
     "data": {
      "text/plain": [
       "PCA(copy=True, iterated_power='auto', n_components=2, random_state=None,\n",
       "  svd_solver='auto', tol=0.0, whiten=False)"
      ]
     },
     "execution_count": 176,
     "metadata": {},
     "output_type": "execute_result"
    }
   ],
   "source": [
    "PCA(copy=True, n_components=2, whiten=False)"
   ]
  },
  {
   "cell_type": "code",
   "execution_count": 177,
   "metadata": {
    "collapsed": true
   },
   "outputs": [],
   "source": [
    "existing_2d = pca.transform(existing_df)"
   ]
  },
  {
   "cell_type": "code",
   "execution_count": 187,
   "metadata": {},
   "outputs": [
    {
     "data": {
      "text/html": [
       "<div>\n",
       "<style>\n",
       "    .dataframe thead tr:only-child th {\n",
       "        text-align: right;\n",
       "    }\n",
       "\n",
       "    .dataframe thead th {\n",
       "        text-align: left;\n",
       "    }\n",
       "\n",
       "    .dataframe tbody tr th {\n",
       "        vertical-align: top;\n",
       "    }\n",
       "</style>\n",
       "<table border=\"1\" class=\"dataframe\">\n",
       "  <thead>\n",
       "    <tr style=\"text-align: right;\">\n",
       "      <th></th>\n",
       "      <th>PC1</th>\n",
       "      <th>PC2</th>\n",
       "    </tr>\n",
       "    <tr>\n",
       "      <th>Dates</th>\n",
       "      <th></th>\n",
       "      <th></th>\n",
       "    </tr>\n",
       "  </thead>\n",
       "  <tbody>\n",
       "    <tr>\n",
       "      <th>02/01/2017 0:00</th>\n",
       "      <td>-57.600044</td>\n",
       "      <td>-11.429650</td>\n",
       "    </tr>\n",
       "    <tr>\n",
       "      <th>02/02/2017 0:00</th>\n",
       "      <td>-82.122523</td>\n",
       "      <td>-13.227102</td>\n",
       "    </tr>\n",
       "    <tr>\n",
       "      <th>02/03/2017 0:00</th>\n",
       "      <td>-129.551288</td>\n",
       "      <td>-75.614128</td>\n",
       "    </tr>\n",
       "    <tr>\n",
       "      <th>02/04/2017 0:00</th>\n",
       "      <td>-364.792135</td>\n",
       "      <td>-18.188011</td>\n",
       "    </tr>\n",
       "    <tr>\n",
       "      <th>02/05/2017 0:00</th>\n",
       "      <td>-346.998824</td>\n",
       "      <td>239.316087</td>\n",
       "    </tr>\n",
       "  </tbody>\n",
       "</table>\n",
       "</div>"
      ],
      "text/plain": [
       "                        PC1         PC2\n",
       "Dates                                  \n",
       "02/01/2017 0:00  -57.600044  -11.429650\n",
       "02/02/2017 0:00  -82.122523  -13.227102\n",
       "02/03/2017 0:00 -129.551288  -75.614128\n",
       "02/04/2017 0:00 -364.792135  -18.188011\n",
       "02/05/2017 0:00 -346.998824  239.316087"
      ]
     },
     "execution_count": 187,
     "metadata": {},
     "output_type": "execute_result"
    }
   ],
   "source": [
    "existing_df_2dd = pd.DataFrame(existing_2d)\n",
    "existing_df_2dd.index = existing_df.index\n",
    "existing_df_2dd.columns = ['PC1','PC2']\n",
    "existing_df_2dd.head()"
   ]
  },
  {
   "cell_type": "code",
   "execution_count": 188,
   "metadata": {},
   "outputs": [
    {
     "name": "stdout",
     "output_type": "stream",
     "text": [
      "[ 0.54684633  0.38695633]\n"
     ]
    }
   ],
   "source": [
    "print(pca.explained_variance_ratio_)"
   ]
  },
  {
   "cell_type": "code",
   "execution_count": 189,
   "metadata": {},
   "outputs": [
    {
     "data": {
      "image/png": "[encoded data removed]",
      "text/plain": [
       "<matplotlib.figure.Figure at 0x26e97940>"
      ]
     },
     "metadata": {},
     "output_type": "display_data"
    }
   ],
   "source": [
    "%matplotlib inline\n",
    "ax = existing_df_2dd.plot(kind='scatter', x='PC2', y='PC1', figsize=(12,8))\n",
    "for i, channels in enumerate(existing_df.index):\n",
    "    ax.annotate(channels, (existing_df_2dd.iloc[i].PC2, existing_df_2dd.iloc[i].PC1))"
   ]
  },
  {
   "cell_type": "code",
   "execution_count": 190,
   "metadata": {},
   "outputs": [
    {
     "data": {
      "text/html": [
       "<div>\n",
       "<style>\n",
       "    .dataframe thead tr:only-child th {\n",
       "        text-align: right;\n",
       "    }\n",
       "\n",
       "    .dataframe thead th {\n",
       "        text-align: left;\n",
       "    }\n",
       "\n",
       "    .dataframe tbody tr th {\n",
       "        vertical-align: top;\n",
       "    }\n",
       "</style>\n",
       "<table border=\"1\" class=\"dataframe\">\n",
       "  <thead>\n",
       "    <tr style=\"text-align: right;\">\n",
       "      <th></th>\n",
       "      <th>PC1</th>\n",
       "      <th>PC2</th>\n",
       "      <th>channels_mean</th>\n",
       "      <th>channels_mean_scaled</th>\n",
       "    </tr>\n",
       "    <tr>\n",
       "      <th>Dates</th>\n",
       "      <th></th>\n",
       "      <th></th>\n",
       "      <th></th>\n",
       "      <th></th>\n",
       "    </tr>\n",
       "  </thead>\n",
       "  <tbody>\n",
       "    <tr>\n",
       "      <th>02/01/2017 0:00</th>\n",
       "      <td>-57.600044</td>\n",
       "      <td>-11.429650</td>\n",
       "      <td>102.166667</td>\n",
       "      <td>0.251125</td>\n",
       "    </tr>\n",
       "    <tr>\n",
       "      <th>02/02/2017 0:00</th>\n",
       "      <td>-82.122523</td>\n",
       "      <td>-13.227102</td>\n",
       "      <td>92.041667</td>\n",
       "      <td>0.217996</td>\n",
       "    </tr>\n",
       "    <tr>\n",
       "      <th>02/03/2017 0:00</th>\n",
       "      <td>-129.551288</td>\n",
       "      <td>-75.614128</td>\n",
       "      <td>85.625000</td>\n",
       "      <td>0.197001</td>\n",
       "    </tr>\n",
       "    <tr>\n",
       "      <th>02/04/2017 0:00</th>\n",
       "      <td>-364.792135</td>\n",
       "      <td>-18.188011</td>\n",
       "      <td>46.291667</td>\n",
       "      <td>0.068303</td>\n",
       "    </tr>\n",
       "    <tr>\n",
       "      <th>02/05/2017 0:00</th>\n",
       "      <td>-346.998824</td>\n",
       "      <td>239.316087</td>\n",
       "      <td>62.958333</td>\n",
       "      <td>0.122836</td>\n",
       "    </tr>\n",
       "  </tbody>\n",
       "</table>\n",
       "</div>"
      ],
      "text/plain": [
       "                        PC1         PC2  channels_mean  channels_mean_scaled\n",
       "Dates                                                                       \n",
       "02/01/2017 0:00  -57.600044  -11.429650     102.166667              0.251125\n",
       "02/02/2017 0:00  -82.122523  -13.227102      92.041667              0.217996\n",
       "02/03/2017 0:00 -129.551288  -75.614128      85.625000              0.197001\n",
       "02/04/2017 0:00 -364.792135  -18.188011      46.291667              0.068303\n",
       "02/05/2017 0:00 -346.998824  239.316087      62.958333              0.122836"
      ]
     },
     "execution_count": 190,
     "metadata": {},
     "output_type": "execute_result"
    }
   ],
   "source": [
    "from sklearn.preprocessing import normalize\n",
    "    \n",
    "existing_df_2dd['channels_mean'] = pd.Series(existing_df.mean(axis=1), index=existing_df_2dd.index)\n",
    "channels_mean_max = existing_df_2dd['channels_mean'].max()\n",
    "channels_mean_min = existing_df_2dd['channels_mean'].min()\n",
    "channels_mean_scaled = (existing_df_2dd.channels_mean-channels_mean_min) / channels_mean_max\n",
    "existing_df_2dd['channels_mean_scaled'] = pd.Series(channels_mean_scaled, index=existing_df_2dd.index) \n",
    "existing_df_2dd.head()"
   ]
  },
  {
   "cell_type": "code",
   "execution_count": 191,
   "metadata": {},
   "outputs": [
    {
     "data": {
      "text/plain": [
       "<matplotlib.axes._subplots.AxesSubplot at 0x29773518>"
      ]
     },
     "execution_count": 191,
     "metadata": {},
     "output_type": "execute_result"
    },
    {
     "data": {
      "image/png": "[encoded data removed]",
      "text/plain": [
       "<matplotlib.figure.Figure at 0x26e146d8>"
      ]
     },
     "metadata": {},
     "output_type": "display_data"
    }
   ],
   "source": [
    "existing_df_2dd.plot(\n",
    "    kind='scatter', \n",
    "    x='PC2', \n",
    "    y='PC1', \n",
    "    s=existing_df_2dd['channels_mean_scaled']*100, \n",
    "    figsize=(12,8))"
   ]
  },
  {
   "cell_type": "code",
   "execution_count": 196,
   "metadata": {},
   "outputs": [
    {
     "data": {
      "text/plain": [
       "<matplotlib.axes._subplots.AxesSubplot at 0x29264da0>"
      ]
     },
     "execution_count": 196,
     "metadata": {},
     "output_type": "execute_result"
    },
    {
     "data": {
      "image/png": "[encoded data removed]",
      "text/plain": [
       "<matplotlib.figure.Figure at 0x26d77940>"
      ]
     },
     "metadata": {},
     "output_type": "display_data"
    }
   ],
   "source": [
    "existing_df_2dd['channels_sum'] = pd.Series(existing_df.sum(axis=1), index=existing_df_2dd.index)\n",
    "channels_sum_max = existing_df_2dd['channels_sum'].max()\n",
    "channels_sum_min = existing_df_2dd['channels_sum'].min()\n",
    "channels_sum_scaled =(existing_df_2dd.channels_sum-channels_sum_min) / channels_sum_max\n",
    "existing_df_2dd['channels_sum_scaled'] = pd.Series(channels_sum_scaled, index=existing_df_2dd.index)\n",
    "existing_df_2dd.plot(\n",
    "    kind='scatter', \n",
    "    x='PC2', y='PC1', \n",
    "    s=existing_df_2dd['channels_sum_scaled']*100, \n",
    "    figsize=(12,8))"
   ]
  },
  {
   "cell_type": "code",
   "execution_count": 200,
   "metadata": {},
   "outputs": [
    {
     "data": {
      "text/html": [
       "<div>\n",
       "<style>\n",
       "    .dataframe thead tr:only-child th {\n",
       "        text-align: right;\n",
       "    }\n",
       "\n",
       "    .dataframe thead th {\n",
       "        text-align: left;\n",
       "    }\n",
       "\n",
       "    .dataframe tbody tr th {\n",
       "        vertical-align: top;\n",
       "    }\n",
       "</style>\n",
       "<table border=\"1\" class=\"dataframe\">\n",
       "  <thead>\n",
       "    <tr style=\"text-align: right;\">\n",
       "      <th></th>\n",
       "      <th>channels_change</th>\n",
       "      <th>channels_change_scaled</th>\n",
       "    </tr>\n",
       "    <tr>\n",
       "      <th>Dates</th>\n",
       "      <th></th>\n",
       "      <th></th>\n",
       "    </tr>\n",
       "  </thead>\n",
       "  <tbody>\n",
       "    <tr>\n",
       "      <th>02/01/2017 0:00</th>\n",
       "      <td>5</td>\n",
       "      <td>0.546512</td>\n",
       "    </tr>\n",
       "    <tr>\n",
       "      <th>02/02/2017 0:00</th>\n",
       "      <td>-14</td>\n",
       "      <td>0.325581</td>\n",
       "    </tr>\n",
       "    <tr>\n",
       "      <th>02/03/2017 0:00</th>\n",
       "      <td>18</td>\n",
       "      <td>0.697674</td>\n",
       "    </tr>\n",
       "    <tr>\n",
       "      <th>02/04/2017 0:00</th>\n",
       "      <td>32</td>\n",
       "      <td>0.860465</td>\n",
       "    </tr>\n",
       "    <tr>\n",
       "      <th>02/05/2017 0:00</th>\n",
       "      <td>20</td>\n",
       "      <td>0.720930</td>\n",
       "    </tr>\n",
       "  </tbody>\n",
       "</table>\n",
       "</div>"
      ],
      "text/plain": [
       "                 channels_change  channels_change_scaled\n",
       "Dates                                                   \n",
       "02/01/2017 0:00                5                0.546512\n",
       "02/02/2017 0:00              -14                0.325581\n",
       "02/03/2017 0:00               18                0.697674\n",
       "02/04/2017 0:00               32                0.860465\n",
       "02/05/2017 0:00               20                0.720930"
      ]
     },
     "execution_count": 200,
     "metadata": {},
     "output_type": "execute_result"
    }
   ],
   "source": [
    "existing_df_2dd['channels_change'] = pd.Series(existing_df['Cyclists IN']-existing_df['Cyclists OUT'], index=existing_df_2dd.index)\n",
    "channels_change_max = existing_df_2dd['channels_change'].max()\n",
    "channels_change_min = existing_df_2dd['channels_change'].min()\n",
    "channels_change_scaled = (existing_df_2dd.channels_change - channels_change_min) / channels_change_max\n",
    "existing_df_2dd['channels_change_scaled'] = pd.Series(\n",
    "        channels_change_scaled, \n",
    "        index=existing_df_2dd.index)\n",
    "existing_df_2dd[['channels_change','channels_change_scaled']].head()"
   ]
  },
  {
   "cell_type": "code",
   "execution_count": 202,
   "metadata": {},
   "outputs": [
    {
     "data": {
      "text/plain": [
       "<matplotlib.axes._subplots.AxesSubplot at 0x272f7438>"
      ]
     },
     "execution_count": 202,
     "metadata": {},
     "output_type": "execute_result"
    },
    {
     "data": {
      "image/png": "[encoded data removed]",
      "text/plain": [
       "<matplotlib.figure.Figure at 0x26d77a90>"
      ]
     },
     "metadata": {},
     "output_type": "display_data"
    }
   ],
   "source": [
    "existing_df_2dd.plot(\n",
    "    kind='scatter', \n",
    "    x='PC2', y='PC1', \n",
    "    s=existing_df_2dd['channels_change_scaled']*100, \n",
    "    figsize=(12,8))"
   ]
  },
  {
   "cell_type": "markdown",
   "metadata": {},
   "source": [
    "### REFERENCES"
   ]
  },
  {
   "cell_type": "markdown",
   "metadata": {},
   "source": [
    "* https://github.com/saramille/Breast-cancer-Data-analysis/blob/master/breast%20cancer%20data%20analysis%20colinearity%20and%20dimensional%20reduction.ipynb\n",
    "\n",
    "* https://github.com/lucko515/dataset-dimensionality-reduction-python/blob/master/LDA/banknotes_dim_reduction_lda.ipynb\n",
    "\n",
    "* http://sebastianraschka.com/Articles/2015_pca_in_3_steps.html\n",
    "\n",
    "* https://github.com/saramille/Breast-cancer-Data-analysis/blob/master/breast_cancer-classification%20modeling.ipynb\n",
    "\n",
    "* https://github.com/shellshock1911/Creating-Customer-Segments\n",
    "\n",
    "* https://github.com/RexGoliath1/Unsupervised/blob/master/DimensionReduce/DimReduce.ipynb\n",
    "\n",
    "* https://medium.com/@luckylwk/visualising-high-dimensional-datasets-using-pca-and-t-sne-in-python-8ef87e7915b\n",
    "\n",
    "* https://www.coursera.org/learn/python-machine-learning/lecture/cgzXI/dimensionality-reduction-and-manifold-learning\n",
    "\n",
    "* https://gist.github.com/bistaumanga/6268985\n",
    "\n",
    "* http://www.bogotobogo.com/python/scikit-learn/scikit_machine_learning_Data_Compresssion_via_Dimensionality_Reduction_2_Linear_Discriminant_Analysis.php\n",
    "\n",
    "* https://towardsdatascience.com/reducing-dimensionality-from-dimensionality-reduction-techniques-f658aec24dfe\n",
    "\n",
    "* http://www.bogotobogo.com/python/scikit-learn/scikit_machine_learning_Data_Compresssion_via_Dimensionality_Reduction_1_Principal_component_analysis%20_PCA.php\n",
    "\n",
    "* https://www.codementor.io/jadianes/data-science-python-pandas-r-dimensionality-reduction-du1081aka\n"
   ]
  }
 ],
 "metadata": {
  "kernelspec": {
   "display_name": "Python 2",
   "language": "python",
   "name": "python2"
  },
  "language_info": {
   "codemirror_mode": {
    "name": "ipython",
    "version": 2
   },
   "file_extension": ".py",
   "mimetype": "text/x-python",
   "name": "python",
   "nbconvert_exporter": "python",
   "pygments_lexer": "ipython2",
   "version": "2.7.13"
  }
 },
 "nbformat": 4,
 "nbformat_minor": 2
}
