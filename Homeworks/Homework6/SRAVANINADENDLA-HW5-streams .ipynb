{
 "cells": [
  {
   "cell_type": "markdown",
   "metadata": {},
   "source": [
    "Homework 5\n",
    "\n",
    "Copy this notebook. Rename it as: YOURNAME-HW5-streams \n",
    "\n",
    "with your name replacing YOURNAME.\n",
    "\n",
    "Upload your completed jupyter notebook to elearning site as your homework submission. You can put this notebook on your github.\n",
    "\n",
    "5.1  Register for a stream of Twitter data\n",
    "\n",
    "5.2  Create a bloom filter classifying two days worth of twitters  ( after removing stop words and urls )\n",
    "\n",
    "5.3  For another days worth of twitter data find the previous twitters that match in the bloom filter\n",
    "(This means get two days of data in one file or directory , use that data for training the bloom filter, capture a different days data in a different file ( or do it in real time)and capture the match output then running the new twitter data through the filter.\n",
    "\n",
    "5.4 Plot a historgram of matches for each twitter in 5.3\n",
    "\n",
    "For the 4-5 grade.- Submit in a separate notebook - YourNAME-Homework5-Supplement\n",
    "\n",
    "1. Use a different machine learning training algorithm\n",
    "2. Make a continous feed where you take two days of data and match the incoming stream ( do this for 5 days windowing the filter data)\n",
    "3. Find new trends in the twitter feed (daily or hourly)\n",
    "4. Or some other streaming exploration of your choosing"
   ]
  },
  {
   "cell_type": "code",
   "execution_count": 3,
   "metadata": {},
   "outputs": [
    {
     "name": "stdout",
     "output_type": "stream",
     "text": [
      "Overwriting Twitter_streaming_NS.py\n"
     ]
    }
   ],
   "source": [
    "%%writefile Twitter_streaming_NS.py\n",
    "from tweepy.streaming import StreamListener\n",
    "from tweepy import OAuthHandler\n",
    "from tweepy import Stream\n",
    "\n",
    "access_token = \"925148241263562752-ntty9airqHssLQI97fkJf1uDJKS0s5s\"\n",
    "access_token_secret = \"dmg4HqFYQRz3U8owWEtPUsaiFTcg8spoNWTvHVB8qQNtR\"\n",
    "consumer_key = \"LurZTZRMfQNVlSDAljMWNcCgk\"\n",
    "consumer_secret = \"hZKfQiV8xHg20sr9HBIgYVRljhqNLnH7vgiqrpTYfOjOGmwnKB\"\n",
    "\n",
    "class MyStreamListener(StreamListener):\n",
    "    \n",
    "    def on_status(self, data):\n",
    "        print(data.text).encode('utf-8')\n",
    "\n",
    "    def on_error(self, status_code, data):\n",
    "        print status_code\n",
    "    \n",
    "if __name__ == '__main__':\n",
    "\n",
    "    auth = OAuthHandler(consumer_key, consumer_secret)\n",
    "    auth.set_access_token(access_token, access_token_secret)\n",
    "    mystream = Stream(auth, listener = MyStreamListener())\n",
    "\n",
    "    #This line filter Twitter Streams to capture data by the keywords \n",
    "    mystream.filter(track=['DataScience', 'BigData', 'MachineLearning'])"
   ]
  },
  {
   "cell_type": "code",
   "execution_count": null,
   "metadata": {
    "collapsed": true,
    "scrolled": true
   },
   "outputs": [],
   "source": [
    "%%cmd\n",
    "python Twitter_streaming_NS.py > tweets.txt"
   ]
  },
  {
   "cell_type": "code",
   "execution_count": null,
   "metadata": {
    "collapsed": true
   },
   "outputs": [],
   "source": [
    "# %load tweets.txt\n",
    "RT @2018SocialMedia: IoT weekly round-up https://t.co/Q5WVAzzqhv #IBM #Watson #Cognitive #Industry40 #IoT #IIoT #AI #ML #DL #BigData… \n",
    "RT @2018SocialMedia: IoT weekly round-up https://t.co/Q5WVAzzqhv #IBM #Watson #Cognitive #Industry40 #IoT #IIoT #AI #ML #DL #BigData… \n",
    "RT @SMDominator: 5 genius demonstrations from the Genius of Things Boston https://t.co/iovvmtRAFg #IBM #Watson #Cognitive… \n",
    "RT @JacBurns_Comext: The future of payments with #Blockchain\n",
    "\n",
    "#Bitcoin #Fintech #AI #IoT #SaaS #SMM #Bigdata #digital #Ethereum… \n",
    "RT @psb_dc: \"AI systems like these, ones capable of generating photorealistic  content, will only be as dangerous as the intent… \n",
    "Counterfeiters are using AI and machine learning to make better fakes https://t.co/Ju87YWvXXd #DeepLearning… https://t.co/cjjNGIO2YP\n",
    "RT @ipfconline1: What Is #Cloud Computing to an Industry? [Infographic]\n",
    "HT @Fisher85M \n",
    "#Industry40 #IoT #PaaS #SaaS #IaaS #Dataviz… \n",
    "RT @andi_staub: Why human-machine teaming is the future of #CyberSecurity\n",
    "\n",
    "#AI #ML #Robots #IoT #BigData #DataScience @McAfee… \n",
    "RT @gladiusIO: Gladius Brings Distributed Defense to DDoS @Security_Now_\n",
    "https://t.co/Hdy3jNpanB\n",
    "#ICO #Blockchain #Cryptocurrency… \n",
    "RT @andi_staub: How the social sciences can embrace the #BigData revolution\n",
    "\n",
    "#DataScience #IoT #AI #fintech #Insurtech… \n",
    "RT @JacBurns_Comext: Human + machine = new era of #Automation in manufacturing https://t.co/kVyd7rtxXt\n",
    "\n",
    "#BigData #IoT #IIoT #AI #4IR… \n",
    "RT @gladiusIO: Gladius -  decrease loading times and fight against DDoS attacks @bitcoinertoday\n",
    "https://t.co/kbIwksf3dp… \n",
    "RT @thebitfort: Right up there as one of the biggest technological revolutions today is #Blockchain - the technology behind… \n",
    "RT @gladiusIO: Gladius – The Rising Star of Blockchain Security\n",
    "https://t.co/iukc9IA8gA\n",
    "#cybersecurity #Ddos #ICO #blockchain… \n",
    "The latest The Siegefire Report! https://t.co/N9D5CEXbzd #datascience\n",
    "RT @SleekDeals: Get Free Updates + 62% Off Microsoft #Office2016 Home &amp; Student #geek #tech #bigdata #cloud #gamedev #news… \n",
    "RT @Siegefire: The latest The Siegefire Report! https://t.co/N9D5CEXbzd #datascience\n",
    "RT @stpiindia: How to use #IoT, #machinelearning and #AI bots to grow revenue https://t.co/mBmVRmHBLJ\n",
    "RT @evankirstel: What are Smart Contracts?\n",
    "\n",
    "[@JacBurns_Comext @Fisher85M ] \n",
    "https://t.co/5QSLFYYbBC \n",
    "\n",
    "#SmartContracts #IoT #Bigdata… \n",
    "RT @gp_pulipaka: IBM Bolsters 20 Qubit Quantum Capability, Emphasizes Device Differentiation. #BigData #MachineLearning #DataScience… \n",
    "RT @appwebtech: Internet of Things: Opportunity for Financial Services?\n",
    "\n",
    "https://t.co/AoVHj1paNa  \n",
    "\n",
    "#fintech #BigData… \n",
    "Introduction to Machine Learning &amp; Face Detection in Python https://t.co/6uhT6kS5Qa #machinelearning\n",
    "Q &amp; A in Machine Learning and Neural Networks for beginners https://t.co/3ZyNJiXL8X #machinelearning\n",
    "RT @MoneyHealthFina: When Will Activision Blizzard’s Overwatch League Be Profitable? Overwatch has been... https://t.co/N2ejeTAAXj #iot… \n",
    "RT @DeepLearn007: Understanding The Deep Learning Advantage in Medical Imaging \n",
    "#AI #MachineLearning #DeepLearning #BigData #ML #DL… \n",
    "RT @DeepLearn007: The push to process vehicle sensor data - edge computing on the device is the next step for AI \n",
    "#AI… \n",
    "RT @AiSynapse: AI Technology and where it's headed from @DARPA  #ai #machinelearning https://t.co/zXJCpNLeGG\n",
    "RT @ipfconline1: 40 Key and Emerging Technologies to Drive The Future [Infographic]\n",
    "#AI #IoT #Robotics #Blockchain #Cloud #BigData… \n",
    "The latest Javier Melero Social Media Insights! https://t.co/8bBLT8jhWH #bigdata\n",
    "RT @2morrowknight: Why security is important for growing the 'Internet Of Things' (#IoT).\n",
    "\n",
    "#CyberSecurity #CyberAttack #IIoT #M2M… \n",
    "RT @sallyeaves: Fake It To Make It ? The rise in use of #AI and #MachineLearning by counterfeiters https://t.co/4CexAHUgNc #IoT… \n",
    "Who says #DataScience is hard? Lalit Bhatt is making it fun at #ExpertTalks2017! https://t.co/Iv4oTczpu4\n",
    "RT @gauravsakh: Who says #DataScience is hard? Lalit Bhatt is making it fun at #ExpertTalks2017! https://t.co/Iv4oTczpu4\n",
    "RT @NicholasMGarcia: How will #blockchain + #DataScience work?  #SmartContracts let data scientists access hidden data, and then get com… \n",
    "RT @gp_pulipaka: IBM Bolsters 20 Qubit Quantum Capability, Emphasizes Device Differentiation. #BigData #MachineLearning #DataScience… \n",
    "Daily #bigdata #SPD-Bericht. Partei-Stars: @martinschulz 513 @sigmargabriel 232 @marcobuelow 179 @jochenflasbarth 1… https://t.co/trqh9Q6scg\n",
    "#MachineLearning https://t.co/EeghZr32zE - top stories by @sweetheart_8478, @Outbackt0ys, @thanc5120\n",
    "Watch the future of #automotive industry here. #Automation #IoT #AI #BigData https://t.co/4tMg03idbJ\n",
    "Amazing Ways Spotify Uses #BigData, #AI &amp; #MachineLearning https://t.co/CBw5ZvTLvl #IoT #IIoT #ML #DL #DeepLearning #BlockChain #Technology\n",
    "Job at Edhec @ScientificBeta (Nice, France): Senior MatLab Developer.+ E... https://t.co/KbzADwhnND Quant IB Finance jobs 36\n",
    "RT @StartGrowthHack: The ultimate #fintech glossary. #AI #IoT #BigData #BlockChain #Bitcoin #Cryto Via @JimMarous &amp; @MikeQuindazzi https://…\n",
    "RT @2018SocialMedia: IoT weekly round-up https://t.co/Q5WVAzzqhv #IBM #Watson #Cognitive #Industry40 #IoT #IIoT #AI #ML #DL #BigData… \n",
    "RT @SleekDeals: Get Free Updates + 62% Off Microsoft #Office2016 Home &amp; Student #geek #tech #bigdata #cloud #gamedev #news… \n",
    "Discover the mechanics of #spotify recommendation models.#machinelearning #ai #iot #ar #computervision… https://t.co/BPCos8C7Cw\n",
    "What makes #organizations #successful with #data? - Dataconomy https://t.co/lEqasvbrSb #data17 #DataScience #dataviz https://t.co/x5uHAf6O9o\n",
    "RT @DataconomyMedia: What makes #organizations #successful with #data? - Dataconomy https://t.co/lEqasvbrSb #data17 #DataScience #dataviz h…\n",
    "RT @SuperDealsite: Get Free Updates + 62% Off Microsoft #Office2016 Home &amp; Student #geek #tech #bigdata #cloud #gamedev #news… \n",
    "The Most Popular #Programming Languages for 2017 [Infographic]\n",
    "https://t.co/0xX3ikWvP0   v/ @AppDynamics… https://t.co/5KpqJFzLRg\n",
    "RT @ipfconline1: The Most Popular #Programming Languages for 2017 [Infographic]\n",
    "https://t.co/0xX3ikWvP0   v/ @AppDynamics… \n",
    "RT:machinelearnbot: RT DeepSingularity: The Next Wave: Predicting the Future of Coffee in New York City. #BigData … https://t.co/OQQeYvNwYo\n",
    "RT:machinelearnbot: Introduction to Machine Learning &amp; Face Detection in Python https://t.co/X7lXJ2QVt7 #machinelearning\n",
    "RT @gp_pulipaka: #MachineLearning as a Microservice in a #Docker Container on a #Kubernetes Cluster — Say What? #BigData… \n",
    "RT:machinelearnbot: Q &amp; A in Machine Learning and Neural Networks for beginners https://t.co/FjxlTkQcf9 #machinelearning\n",
    "RT @machinelearnbot: Q &amp; A in Machine Learning and Neural Networks for beginners https://t.co/3ZyNJiXL8X #machinelearning\n",
    "RT @JacBurns_Comext: Human + machine = new era of #Automation in manufacturing https://t.co/kVyd7rtxXt\n",
    "\n",
    "#BigData #IoT #IIoT #AI #4IR… \n",
    "RT @CCayrol: L'intelligence artificielle aux portes de l'imagerie médicale https://t.co/WvPRjtSKws #médecine #radiologie #IA #tech  #Machin…\n",
    "RT @evankirstel: #Cyberattacks Are Inevitable https://t.co/aV89EEOLUB #CyberSecurity #AI #IIoT #DataSecurity #InternetOfThings #MachineLear…\n",
    "RT @gauravsakh: Who says #DataScience is hard? Lalit Bhatt is making it fun at #ExpertTalks2017! https://t.co/Iv4oTczpu4\n",
    "RT @SimplyVitalHQ: See how #HealthNexus will change the #healthcare industry! https://t.co/iPIZB183L7  #healthcare #blockchain #token… \n",
    "Docudramas en la #televisión digital: #periodismo, simulación y mentiras — https://t.co/e9fjPXXsly #Documental… https://t.co/TzBoiSMnUI\n",
    "RT @gp_pulipaka: Deep Neural Network Capsules. #BigData #MachineLearning #DataScience #AI #TensorFlow\n",
    "https://t.co/YcYQfdcfcn https://t.co/…\n",
    "RT @sallyeaves: Fake It To Make It ? The rise in use of #AI and #MachineLearning by counterfeiters https://t.co/4CexAHUgNc #IoT… \n",
    "Adaptive Circular Cities {#Infographic}\n",
    "\n",
    "#SmartCity #IoT #5G #CyberSecurity #infosec #BigData #GreenLiving… https://t.co/abVRPB2Bob\n",
    "Mars, Earth &amp; Your #Car #IoT at Genius of Things, Boston https://t.co/PRagaaszB0 #IBM #Watson #Cognitive… https://t.co/717YkVZ7FN\n",
    "RT @gp_pulipaka: IBM Bolsters 20 Qubit Quantum Capability, Emphasizes Device Differentiation. #BigData #MachineLearning #DataScience… \n",
    "RT @2morrowknight: One of the biggest problems for #Snapchat is the fact that it is beaten at its own game by its most powerful compet… \n",
    "RT @SimplyVitalHQ: “Bjork, Blockchain, and Healthcare” https://t.co/K8k6vzH9ao by @kimbbellard #healthcare #blockchain #token #ehr… \n",
    "RT @dataiku: Attention media, entertainment industries: How to get started in #DataScience and #MachineLearning for big change… \n",
    "RT @ipfconline1: The Most Popular #Programming Languages for 2017 [Infographic]\n",
    "https://t.co/0xX3ikWvP0   v/ @AppDynamics… \n",
    "RT @gp_pulipaka: The Untapped Power of Self-service Data Analytics. #BigData #DataScience #Analytics #BI\n",
    "https://t.co/ruF9Pf8bh3 https://t.…\n",
    "RT @SimplyVitalHQ: Read About Our Partnership With @hartfordhosp  https://t.co/GyZ1t1oLlq #cryptocurrency #blockchain #bitcoins… \n",
    "RT @IoTRecruiting: Amazing Ways Spotify Uses #BigData, #AI &amp; #MachineLearning https://t.co/CBw5ZvTLvl #IoT #IIoT #ML #DL #DeepLearning #Blo…\n",
    "#IBM Employee Wellness &amp; Safety solution in top 20 #IoT industrial https://t.co/ja8OPTjdRd #Watson #Cognitive… https://t.co/bZDsbldNcS\n",
    "RT @DeepSingularity: The Next Wave: Predicting the Future of Coffee in New York City. #BigData #MachineLearning #DataScience #AI HT:… \n",
    "RT @DataconomyMedia: What makes #organizations #successful with #data? - Dataconomy https://t.co/lEqasvbrSb #data17 #DataScience #dataviz h…\n",
    "RT @techietalky: RT @StartGrowthHack: Top 7 #digitaltransformation trends. #UX #AI #AR #VR #BigData https://t.co/LbxFEAEkqQ #Tech\n",
    "RT @gauravsakh: Who says #DataScience is hard? Lalit Bhatt is making it fun at #ExpertTalks2017! https://t.co/Iv4oTczpu4\n",
    "RT @machinelearnbot: Q &amp; A in Machine Learning and Neural Networks for beginners https://t.co/3ZyNJiXL8X #machinelearning\n",
    "RT @gp_pulipaka: #MachineLearning as a Microservice in a #Docker Container on a #Kubernetes Cluster — Say What? #BigData… \n",
    "#bigdata #iot The Intelligent Edge (Part 3) - This is a continuation of the blog series: The Intelligent Edge. ... https://t.co/KzIcIJFdBT\n",
    "RT @DeepLearn007: Understanding The Deep Learning Advantage in Medical Imaging \n",
    "#AI #MachineLearning #DeepLearning #BigData #ML #DL… \n",
    "RT @SimplyVitalHQ: We made this video to explain how #blockchain will change healthcare https://t.co/cvTZXalw0X  #cryptocurrency… \n",
    "Why Big Data Makes For Exceptional Machine Learning - by @XandScho https://t.co/YCH3g6JklX #BigData #AI\n",
    "The Next Wave: Predicting the Future of Coffee in New York City. #BigData #MachineLearning #DataScience #AI HT:… https://t.co/2gtq4EsNKt\n",
    "RT gp_pulipaka: #MachineLearning as a Microservice in a #Docker Container on a #Kubernetes Cluster — Say What? #Bi… https://t.co/qYn7bH92KX\n",
    "RT gp_pulipaka: Deep Neural Network Capsules. #BigData #MachineLearning #DataScience #AI #TensorFlow\n",
    "… https://t.co/f0mJ1v0B9d\n",
    "RT gp_pulipaka: IBM Bolsters 20 Qubit Quantum Capability, Emphasizes Device Differentiation. #BigData #MachineLear… https://t.co/jhg5ryCMeq\n",
    "RT gp_pulipaka: The Untapped Power of Self-service Data Analytics. #BigData #DataScience #Analytics #BI\n",
    "… https://t.co/VaATxVEvxt\n",
    "RT DeepSingularity: The Next Wave: Predicting the Future of Coffee in New York City. #BigData #MachineLearning #Da… https://t.co/2gtq4EsNKt\n",
    "RT @NicholasMGarcia: How will #blockchain + #DataScience work?  #SmartContracts let data scientists access hidden data, and then get com… \n",
    "RT @ipfconline1: The Most Popular #Programming Languages for 2017 [Infographic]\n",
    "https://t.co/0xX3ikWvP0   v/ @AppDynamics… \n",
    "RT @BigDataGal: #bigdata #iot The Intelligent Edge (Part 3) - This is a continuation of the blog series: The Intelligent Edge. ... https://…\n",
    "RT @gp_pulipaka: #MachineLearning as a Microservice in a #Docker Container on a #Kubernetes Cluster — Say What? #BigData… \n",
    "RT @evankirstel: The #Cyberthreat Landscape for #IoT\n",
    "\n",
    "#CyberSecurity #BigData #Cloud #SmartCity #Analytics #Wearables #WiFi… \n",
    "You have a new way to create Date types in #SQLServer 2012 #SQL #devops #data #data"
   ]
  },
  {
   "cell_type": "code",
   "execution_count": 2,
   "metadata": {},
   "outputs": [
    {
     "name": "stdout",
     "output_type": "stream",
     "text": [
      "Overwriting Twitter_streaming2_NS.py\n"
     ]
    }
   ],
   "source": [
    "%%writefile Twitter_streaming2_NS.py\n",
    "\n",
    "from tweepy.streaming import StreamListener\n",
    "from tweepy import OAuthHandler\n",
    "from tweepy import Stream\n",
    "\n",
    "#Variables that contains the user credentials to access Twitter API \n",
    "access_token = \"925148241263562752-ntty9airqHssLQI97fkJf1uDJKS0s5s\"\n",
    "access_token_secret = \"dmg4HqFYQRz3U8owWEtPUsaiFTcg8spoNWTvHVB8qQNtR\"\n",
    "consumer_key = \"LurZTZRMfQNVlSDAljMWNcCgk\"\n",
    "consumer_secret = \"hZKfQiV8xHg20sr9HBIgYVRljhqNLnH7vgiqrpTYfOjOGmwnKB\"\n",
    "\n",
    "\n",
    "#This is a basic listener that just prints received tweets to stdout.\n",
    "class MyStreamListener(StreamListener):\n",
    "\n",
    "    def on_data(self, data):\n",
    "        print data\n",
    "        return True\n",
    "\n",
    "    def on_error(self, status):\n",
    "        print status\n",
    "\n",
    "if __name__ == '__main__':\n",
    "\n",
    "    #This handles Twitter authetification and the connection to Twitter Streaming API\n",
    "    auth = OAuthHandler(consumer_key, consumer_secret)\n",
    "    auth.set_access_token(access_token, access_token_secret)\n",
    "    mystream = Stream(auth, listener = MyStreamListener())\n",
    "\n",
    "    #This line filter Twitter Streams to capture data by the keywords\n",
    "    mystream.filter(track=['DataScience', 'BigData', 'MachineLearning'])"
   ]
  },
  {
   "cell_type": "code",
   "execution_count": null,
   "metadata": {
    "collapsed": true
   },
   "outputs": [],
   "source": [
    "%%cmd\n",
    "python Twitter_streaming2_NS.py > tweets2.txt"
   ]
  },
  {
   "cell_type": "code",
   "execution_count": null,
   "metadata": {
    "collapsed": true
   },
   "outputs": [],
   "source": [
    "%%cmd\n",
    "python Twitter_streaming2_NS.py > tweets3.txt"
   ]
  },
  {
   "cell_type": "code",
   "execution_count": 9,
   "metadata": {
    "collapsed": true
   },
   "outputs": [],
   "source": [
    "import json, nltk, re\n",
    "import pandas as pd\n",
    "from nltk.corpus import stopwords\n",
    "from nltk.tokenize import word_tokenize\n",
    "\n",
    "def clean(tweets_data_path):\n",
    "    tweets_data = []\n",
    "    stop_words = set(stopwords.words('english'))\n",
    "    tweets_file = open(tweets_data_path, \"r\")\n",
    "    for line in tweets_file:\n",
    "        try:\n",
    "            tweet = json.loads(line)\n",
    "            if tweet[\"lang\"]=='en':\n",
    "                tweet_text = tweet[\"text\"]\n",
    "                #print tweet_text\n",
    "                filter_url = re.sub(r\"http\\S+\", \"\", tweet_text)\n",
    "                #print filter_url\n",
    "                filter_names = re.sub(r\"RT+.*\\:\", \"\", filter_url)\n",
    "                #print filter_names\n",
    "                filter_splchar = re.sub(\"[^A-Z a-z]+\", \"\", filter_names)\n",
    "                #print filter_splchar\n",
    "                filter_stop = [word for word in (filter_splchar.lower()).split() if word not in stop_words]\n",
    "                result = ' '.join(filter_stop)\n",
    "                #print result\n",
    "                tweets_data.extend(result.split())       \n",
    "        except:\n",
    "            continue\n",
    "            \n",
    "    return tweets_data"
   ]
  },
  {
   "cell_type": "code",
   "execution_count": 46,
   "metadata": {
    "collapsed": true
   },
   "outputs": [],
   "source": [
    "data_path1 = 'tweets2.txt'\n",
    "tweet_data1 = clean(data_path1)\n",
    "words1 = set(tweet_data1)\n",
    "file1 = open('data1/words1.txt', 'w')\n",
    "for item in list(words1):\n",
    "    file1.write(\"%s\\n\" % item)"
   ]
  },
  {
   "cell_type": "code",
   "execution_count": 47,
   "metadata": {
    "collapsed": true
   },
   "outputs": [],
   "source": [
    "data_path2 = 'tweets3.txt'\n",
    "tweet_data2 = clean(data_path2)\n",
    "words2 = set(tweet_data2)\n",
    "file2 = open('data2/words2.txt', 'w')\n",
    "for item in list(words2):\n",
    "    file2.write(\"%s\\n\" % item)"
   ]
  },
  {
   "cell_type": "code",
   "execution_count": 48,
   "metadata": {},
   "outputs": [
    {
     "data": {
      "text/html": [
       "<div>\n",
       "<style>\n",
       "    .dataframe thead tr:only-child th {\n",
       "        text-align: right;\n",
       "    }\n",
       "\n",
       "    .dataframe thead th {\n",
       "        text-align: left;\n",
       "    }\n",
       "\n",
       "    .dataframe tbody tr th {\n",
       "        vertical-align: top;\n",
       "    }\n",
       "</style>\n",
       "<table border=\"1\" class=\"dataframe\">\n",
       "  <thead>\n",
       "    <tr style=\"text-align: right;\">\n",
       "      <th></th>\n",
       "      <th>0</th>\n",
       "    </tr>\n",
       "  </thead>\n",
       "  <tbody>\n",
       "    <tr>\n",
       "      <th>iot</th>\n",
       "      <td>3286</td>\n",
       "    </tr>\n",
       "    <tr>\n",
       "      <th>ai</th>\n",
       "      <td>2451</td>\n",
       "    </tr>\n",
       "    <tr>\n",
       "      <th>bigdata</th>\n",
       "      <td>2441</td>\n",
       "    </tr>\n",
       "    <tr>\n",
       "      <th>iiot</th>\n",
       "      <td>1725</td>\n",
       "    </tr>\n",
       "    <tr>\n",
       "      <th>ibm</th>\n",
       "      <td>1435</td>\n",
       "    </tr>\n",
       "    <tr>\n",
       "      <th>watson</th>\n",
       "      <td>1410</td>\n",
       "    </tr>\n",
       "    <tr>\n",
       "      <th>cognitive</th>\n",
       "      <td>1399</td>\n",
       "    </tr>\n",
       "    <tr>\n",
       "      <th>machinelearning</th>\n",
       "      <td>1223</td>\n",
       "    </tr>\n",
       "    <tr>\n",
       "      <th>industry</th>\n",
       "      <td>1070</td>\n",
       "    </tr>\n",
       "    <tr>\n",
       "      <th>ml</th>\n",
       "      <td>981</td>\n",
       "    </tr>\n",
       "  </tbody>\n",
       "</table>\n",
       "</div>"
      ],
      "text/plain": [
       "                    0\n",
       "iot              3286\n",
       "ai               2451\n",
       "bigdata          2441\n",
       "iiot             1725\n",
       "ibm              1435\n",
       "watson           1410\n",
       "cognitive        1399\n",
       "machinelearning  1223\n",
       "industry         1070\n",
       "ml                981"
      ]
     },
     "execution_count": 48,
     "metadata": {},
     "output_type": "execute_result"
    }
   ],
   "source": [
    "final_words1=pd.DataFrame(tweet_data1)\n",
    "pd.DataFrame(final_words1[0].value_counts()).head(10)"
   ]
  },
  {
   "cell_type": "code",
   "execution_count": 49,
   "metadata": {},
   "outputs": [
    {
     "data": {
      "text/html": [
       "<div>\n",
       "<style>\n",
       "    .dataframe thead tr:only-child th {\n",
       "        text-align: right;\n",
       "    }\n",
       "\n",
       "    .dataframe thead th {\n",
       "        text-align: left;\n",
       "    }\n",
       "\n",
       "    .dataframe tbody tr th {\n",
       "        vertical-align: top;\n",
       "    }\n",
       "</style>\n",
       "<table border=\"1\" class=\"dataframe\">\n",
       "  <thead>\n",
       "    <tr style=\"text-align: right;\">\n",
       "      <th></th>\n",
       "      <th>0</th>\n",
       "    </tr>\n",
       "  </thead>\n",
       "  <tbody>\n",
       "    <tr>\n",
       "      <th>ai</th>\n",
       "      <td>2582</td>\n",
       "    </tr>\n",
       "    <tr>\n",
       "      <th>bigdata</th>\n",
       "      <td>2522</td>\n",
       "    </tr>\n",
       "    <tr>\n",
       "      <th>iot</th>\n",
       "      <td>2463</td>\n",
       "    </tr>\n",
       "    <tr>\n",
       "      <th>machinelearning</th>\n",
       "      <td>2019</td>\n",
       "    </tr>\n",
       "    <tr>\n",
       "      <th>ml</th>\n",
       "      <td>1327</td>\n",
       "    </tr>\n",
       "    <tr>\n",
       "      <th>iiot</th>\n",
       "      <td>1238</td>\n",
       "    </tr>\n",
       "    <tr>\n",
       "      <th>cognitive</th>\n",
       "      <td>1180</td>\n",
       "    </tr>\n",
       "    <tr>\n",
       "      <th>watson</th>\n",
       "      <td>1123</td>\n",
       "    </tr>\n",
       "    <tr>\n",
       "      <th>ibm</th>\n",
       "      <td>1120</td>\n",
       "    </tr>\n",
       "    <tr>\n",
       "      <th>data</th>\n",
       "      <td>945</td>\n",
       "    </tr>\n",
       "  </tbody>\n",
       "</table>\n",
       "</div>"
      ],
      "text/plain": [
       "                    0\n",
       "ai               2582\n",
       "bigdata          2522\n",
       "iot              2463\n",
       "machinelearning  2019\n",
       "ml               1327\n",
       "iiot             1238\n",
       "cognitive        1180\n",
       "watson           1123\n",
       "ibm              1120\n",
       "data              945"
      ]
     },
     "execution_count": 49,
     "metadata": {},
     "output_type": "execute_result"
    }
   ],
   "source": [
    "final_words2=pd.DataFrame(tweet_data2)\n",
    "pd.DataFrame(final_words2[0].value_counts()).head(10)"
   ]
  },
  {
   "cell_type": "code",
   "execution_count": 14,
   "metadata": {
    "collapsed": true
   },
   "outputs": [],
   "source": [
    "from pybloom import BloomFilter\n",
    "import os\n",
    "import re\n",
    "\n",
    "post_dir = 'data1/'\n",
    "# Read all my posts.\n",
    "posts = {post_name: open(post_dir + post_name).read() for post_name in os.listdir(post_dir)}\n",
    "# Create a dictionary of {\"post name\": \"lowercase word set\"}.\n",
    "split_posts = {name: set(re.split(\"\\W+\", contents)) for name, contents in posts.items()}"
   ]
  },
  {
   "cell_type": "code",
   "execution_count": 15,
   "metadata": {},
   "outputs": [
    {
     "name": "stdout",
     "output_type": "stream",
     "text": [
      "words1.txt set(['iotbusinessnews', 'kickstart', 'todays', 'smartcontract', 'factory', 'four', 'artsai', 'pantherwild', 'smalldata', 'consider', 'increase', 'feeding', 'electricity', 'exaflop', 'designthinking', 'presents', 'roboadvisorsai', 'carlbdaas', 'matlab', 'teaching', 'mobitechnology', 'worth', 'emploi', 'digit', 'collaborate', 'risk', 'physician', 'rise', 'dell', 'breastcancer', 'every', 'updates', 'greentech', 'affect', 'edhec', 'adaptive', 'neur', 'look', 'cmo', 'basics', 'prize', 'skills', 'companies', 'solution', 'marketdataapis', 'vector', 'iotbase', 'cios', 'smartiot', 'venksaiyan', 'machinel', 'sylswjdz', 'leaders', 'infancy', 'nlpforhackers', 'europe', 'infographicsmartcity', 'emcs', 'second', 'barriersinfographicinternetofthings', 'questionhow', 'microservice', 'n', 'machines', 'humansentrepreneurship', 'even', 'meetupmobilityinsurtech', 'brexit', 'microsofts', 'hortonworks', 'revolutionize', 'devicesai', 'lights', 'nogo', 'gamedev', 'supplier', 'new', 'tips', 'increasing', 'ever', 'bigdatahjrycqubab', 'disney', 'specialist', 'niche', 'hero', 'azssuga', 'internetofthi', 'reachratan', 'never', 'wrapping', 'gibraltars', 'decisionsneuromarketing', 'protection', 'china', 'plandefstar', 'active', 'path', 'sddc', 'digits', 'multimessenger', 'retailai', 'throughaugmentedreality', 'study', 'economics', 'nextgen', 'credit', 'emergingtech', 'analysts', 'changes', 'julio', 'golden', 'newyorkcity', 'classification', 'mobility', 'explained', 'highly', 'wandsworthlibs', 'counterfeiters', 'auditing', 'landscape', 'neuroscientists', 'genomics', 'dataprivacy', 'dna', 'would', 'army', 'arms', 'sqlserver', 'inevitable', 'bigdatahuleal', 'leaks', 'music', 'asset', 'survive', 'humanmachine', 'mnemaudsyne', 'tell', 'aut', 'menaces', 'posting', 'swtkatelyn', 'successful', 'brings', 'infosec', 'wars', 'award', 'disruption', 'mckinseymgi', 'arkangelscrap', 'companys', 'tampa', 'must', 'evankirstel', 'word', 'datasciencectrl', 'mm', 'ml', 'work', 'raocherukuri', 'advocacy', 'smallbiz', 'movies', 'mw', 'era', 'concepts', 'im', 'jenrosebresnic', 'infomgmt', 'marotidasarwad', 'wang', 'dhinchcliffeiot', 'india', 'updated', 'foods', 'djangoh', 'want', 'angelamauro', 'futurebigdata', 'david', 'advancing', 'aging', 'thing', 'provide', 'travel', 'pulkittrivedi', 'biometricsbigdata', 'stupidity', 'drsalamansari', 'insurtechhubmunich', 'interview', 'infographicanalytics', 'digitaldisruption', 'bigdatasmartcity', 'faq', 'transforming', 'beskotw', 'loyalty', 'lab', 'diagram', 'barriers', 'shukla', 'halliburton', 'law', 'types', 'purchase', 'bluewings', 'effective', 'wins', 'schneider', 'appreciate', 'intelligenceai', 'complexity', 'maintain', 'algorithms', 'ultimate', 'amit', 'overtakes', 'deirdres', 'jack', 'untold', 'feedback', 'office', 'jlmico', 'rfoundation', 'intuition', 'london', 'chandrashekhar', 'statisticsregister', 'infographicht', 'worldscienceday', 'digest', 'welcomes', 'scoring', 'fit', 'personal', 'highlights', 'fix', 'socialmedia', 'writing', 'better', 'matured', 'strand', 'rankbrain', 'veromorlllo', 'quant', 'hidden', 'easier', 'overcome', 'inventory', 'versus', 'tickets', 'yearit', 'javaneural', 'jennyparkadam', 'ibmiot', 'speechtotext', 'detachment', 'tucpakoa', 'effects', 'strategic', 'cyberthreat', 'cloudera', 'regula', 'casesiot', 'deepsingularity', 'reasonably', 'l', 'sujainthomas', 'businessmarketin', 'locationbased', 'fitness', 'classifier', 'bone', 'mean', 'consolidate', 'wheel', 'financial', 'logs', 'series', 'bjork', 'principles', 'iotrecruitinghard', 'celebrating', 'dataanalysis', 'devopske', 'trading', 'thingsbigdata', 'combining', 'borne', 'rt', 'ru', 'trending', 'network', 'driving', 'timeconsuming', 'gradient', 'open', 'motel', 'crucial', 'angular', 'content', 'fellowship', 'smm', 'safety', 'medicine', 'got', 'sme', 'size', 'smb', 'sma', 'sachinlulla', 'perception', 'turning', 'linear', 'associate', 'toyotasd', 'free', 'ipfconlinefintech', 'small', 'topindigixpert', 'pathtracing', 'sensors', 'natalyabransfi', 'certified', 'weaponinfographicdigitaltransformation', 'btcusd', 'digitaleconomy', 'starts', 'days', 'creates', 'socialmediaanalytics', 'ampstill', 'industrial', 'features', 'system', 'featured', 'nhs', 'drones', 'nowinfographicseo', 'clarity', 'curing', 'hood', 'victordickens', 'weedboxio', 'rated', 'service', 'applicationsby', 'top', 'engagement', 'recruiting', 'bitcoin', 'needed', 'bigdataryavsria', 'lisamorgan', 'master', 'listed', 'cycle', 'insightful', 'mckinsey', 'manjeetrege', 'tool', 'coursera', 'took', 'architecturecompiler', 'wisdom', 'computervision', 'mongodb', 'digi', 'datasciencesomrhiju', 'bobmorse', 'iaas', 'translating', 'ttavlas', 'showed', 'cathywest', 'watchlists', 'scenes', 'ebay', 'project', 'matter', 'silicon', 'speaking', 'jaraxal', 'hacking', 'enables', 'bridge', 'fashion', 'smithylife', 'quantumcomputing', 'unlearning', 'aapl', 'modern', 'mine', 'talking', 'seed', 'seec', 'regulate', 'datascientist', 'achieverscoach', 'jimmarousinfographicthe', 'recommender', 'releases', 'smithchasseuil', 'indexes', 'fitting', 'client', 'luxury', 'forces', 'icobook', 'espacetemps', 'though', 'limitless', 'diminishing', 'bigquery', 'metrics', 'simplify', 'pytorch', 'germany', 'technologieslociio', 'phase', 'yearend', 'antitrust', 'medical', 'aunk', 'cybersecurityai', 'internetofthings', 'definitely', 'tech', 'transac', 'enterprise', 'dos', 'importantinfographic', 'consumer', 'datas', 'emotionalintelligence', 'advisory', 'dtechsummit', 'charlenagallup', 'advisors', 'decentralizeddata', 'colors', 'radio', 'solutions', 'earth', 'lessons', 'analyticsweek', 'copy', 'emarketing', 'suziedownes', 'saliency', 'edtech', 'explain', 'fundus', 'mens', 'probabili', 'announce', 'dn', 'dl', 'deryagaby', 'di', 'de', 'watch', 'gpu', 'geek', 'amazon', 'insightfulthe', 'allornothing', 'dx', 'neutechservices', 'iotbigdata', 'onboard', 'dr', 'mpgvip', 'becomes', 'bat', 'fields', 'shape', 'bad', 'architecture', 'release', 'gdpr', 'steal', 'gorricho', 'soilandreyes', 'digitallyyour', 'programmatic', 'reference', 'cloudpreacher', 'iotenabled', 'testing', 'roadmap', 'detection', 'analytics', 'learningai', 'result', 'bigdatasykcyrdhw', 'startups', 'best', 'techniques', 'airinfographic', 'bigdatablogs', 'away', 'vvashishta', 'onlinedating', 'patients', 'artificial', 'continually', 'r', 'michalsnobr', 'previous', 'approach', 'kirstielaunch', 'discovery', 'metairiejacques', 'terms', 'infographiccybersecurity', 'adding', 'personalize', 'planningtao', 'wh', 'mobileapps', 'mcafee', 'loading', 'windows', 'wtf', 'news', 'improve', 'bras', 'cos', 'unicef', 'theforexway', 'players', 'edgecomputing', 'ingrx', 'games', 'leeds', 'qubit', 'com', 'col', 'con', 'ehostidcinternationalthe', 'influencermarketing', 'unicorns', 'humanoid', 'afrotech', 'makeyourownlane', 'initiative', 'rampd', 'trust', 'speak', 'conference', 'vinull', 'engines', 'union', 'aiin', 'watsonmarketing', 'three', 'waveai', 'enginee', 'waterlinedata', 'much', 'glossaryby', 'interest', 'basic', 'tutorials', 'transformed', 'numpy', 'topics', 'riley', 'rparobotics', 'website', 'conversational', 'life', 'partnership', 'whybigdata', 'hiring', 'businessmarketing', 'worker', 'enterprises', 'raelenemillice', 'child', 'catch', 'healthtech', 'wearablesinfographicbigdata', 'applied', 'commerce', 'exception', 'esports', 'ahead', 'gppulipaka', 'martyroden', 'castro', 'air', 'employ', 'techindustry', 'penultimate', 'aid', 'balance', 'overtaking', 'scientistsmachine', 'changed', 'nodejs', 'iq', 'acuvatebigdata', 'ir', 'customers', 'cant', 'conc', 'experts', 'io', 'ia', 'algorithmsits', 'ib', 'workoutshealth', 'econferencenet', 'descent', 'patent', 'things', 'make', 'finserv', 'admarketplace', 'meetup', 'complex', 'caffe', 'ccna', 'bndarticles', 'big', 'monarch', 'moneyball', 'gamechanger', 'dhs', 'european', 'htcvive', 'meets', 'valuebased', 'ibmformarketing', 'quoteofthedayknow', 'bostondynamics', 'yarmolukdan', 'hand', 'groundbreaking', 'opportunity', 'thoughts', 'peterhwendel', 'danang', 'javierlorentem', 'programs', 'youre', 'ipsy', 'maximo', 'savings', 'practices', 'greatest', 'deploys', 'bigdatahkmmy', 'investments', 'left', 'datalake', 'taxies', 'contextbigdata', 'quotes', 'godi', 'identify', 'thanks', 'human', 'barriersinternetofthings', 'facts', 'yes', 'october', 'lefevre', 'yet', 'custolopez', 'secure', 'visualization', 'volumetric', 'enters', 'nudge', 'candidate', 'mariannehewlett', 'agile', 'buzzindelhi', 'obedient', 'board', 'easy', 'save', 'smartdataco', 'advances', 'survival', 'vsnosql', 'fintechs', 'counterintuitive', 'aijobs', 'poses', 'sccthinkagain', 'advanced', 'msftadvocate', 'gymtime', 'belllabs', 'securite', 'kalayci', 'theyre', 'specific', 'yvesmulkers', 'steps', 'revisiting', 'publictransport', 'btc', 'scottzoldi', 'worldwide', 'right', 'old', 'deal', 'people', 'cybersecurity', 'mesosphere', 'elderly', 'iotahoe', 'bigd', 'meters', 'transformationbigdata', 'tutorial', 'goglinjfchart', 'humor', 'takeaways', 'gridenko', 'rafaentarch', 'everything', 'asking', 'allocate', 'conquering', 'dollyraydigital', 'ebookbuzzer', 'ronaldvanloon', 'core', 'yorku', 'post', 'marketing', 'payment', 'onlinebigdata', 'linkedineng', 'constructive', 'ibminfosphere', 'disintermediation', 'trendsbigdata', 'bangalore', 'manufacturing', 'super', 'security', 'ownersmobile', 'jbaptiste', 'madelenecox', 'attacks', 'kotlin', 'months', 'trustworthy', 'aiworld', 'ensure', 'azure', 'connected', 'tecnologia', 'consulting', 'whats', 'ampamp', 'alexstubb', 'profession', 'negative', 'rendering', 'chiefdataofficer', 'raises', 'millennialssocialmedia', 'monson', 'support', 'transform', 'fight', 'formul', 'drmrfrancis', 'way', 'astrophysics', 'panacea', 'wat', 'war', 'launching', 'head', 'medium', 'steers', 'automate', 'offering', 'diligence', 'abyel', 'batman', 'becoming', 'analyse', 'landing', 'enrolling', 'twelcome', 'finnair', 'infos', 'selfservice', 'ophthalmoscopy', 'humbled', 'devices', 'crystal', 'economic', 'stages', 'pricing', 'roney', 'scientificbeta', 'bitcoins', 'computing', 'tesla', 'securitynowico', 'securitycybersecurity', 'sale', 'ddos', 'webdev', 'ship', 'check', 'k', 'physical', 'gyaan', 'onlinemarketingsocialmediamarketing', 'nn', 'socialmediamarketing', 'tip', 'cryto', 'reality', 'ny', 'interested', 'role', 'digital', 'warehouse', 'comendadormbf', 'developers', 'nonmedical', 'healthnexus', 'picture', 'workspace', 'models', 'millennial', 'utilities', 'socialnewscorp', 'journey', 'intent', 'sql', 'canadagermane', 'neuroscience', 'weekend', 'unlocking', 'billion', 'faster', 'phone', 'daily', 'vietnam', 'time', 'push', 'serious', 'timmchale', 'iotinternet', 'devfestnairobi', 'paced', 'songs', 'concept', 'managed', 'remarkable', 'whoever', 'skip', 'excellent', 'focus', 'invent', 'rog', 'iotsecurity', 'manager', 'dmenningervr', 'battle', 'creative', 'row', 'thursdaythoughts', 'hagakura', 'pythondjango', 'essentials', 'flask', 'coursesai', 'show', 'interactions', 'recurrence', 'gigo', 'thingsiot', 'experttalks', 'smartcontracts', 'machi', 'dataprotection', 'smartphone', 'advantage', 'datasciencebigdataaiiotdefstarmpgvipmachinelearningdatascienceiiot', 'machinelearn', 'growthhack', 'emphasizes', 'cyberphysical', 'mobilise', 'cloudstack', 'prof', 'join', 'cool', 'iqbigdata', 'clouds', 'sisense', 'level', 'questionoftheday', 'dig', 'brother', 'standards', 'leave', 'p', 'landscapesocialmedia', 'intangibles', 'excellence', 'datavisualization', 'team', 'quick', 'bargava', 'crowdsourced', 'revolution', 'says', 'discover', 'cyber', 'cost', 'nooman', 'targets', 'adds', 'appear', 'mt', 'heres', 'jimmarous', 'beautifulsoup', 'iotmt', 'current', 'goes', 'international', 'subtracting', 'boost', 'loosecruise', 'supporting', 'transportation', 'morgan', 'mtbigdata', 'partners', 'hololens', 'learn', 'cryptocurrencies', 'understanding', 'water', 'arcgiss', 'djangopython', 'jolynnredon', 'strategies', 'apache', 'based', 'graduates', 'popular', 'change', 'wait', 'box', 'enroll', 'cloudcomputing', 'discount', 'institute', 'shift', 'rethink', 'bot', 'nlpv', 'intelligencechboursin', 'domains', 'automationrpa', 'rafael', 'ultrawidefield', 'tasks', 'love', 'signalsnetwork', 'goglinjf', 'fllip', 'ataglance', 'fake', 'rarely', 'crisis', 'predictiveanalytics', 'thierrybayle', 'estate', 'working', 'prove', 'positive', 'visit', 'predictions', 'france', 'scenarios', 'live', 'dreamers', 'iphone', 'peru', 'jenrosebresnick', 'candidates', 'hinton', 'openscience', 'today', 'introducing', 'sharing', 'finnovation', 'share', 'apachemahout', 'visual', 'everywhere', 'riding', 'cases', 'bharath', 'effort', 'insights', 'organizations', 'ibm', 'car', 'dialer', 'bncloud', 'achieve', 'growing', 'making', 'highthroughput', 'roundtable', 'telematics', 'heart', 'citizens', 'trump', 'stream', 'manufacturingtriggered', 'predict', 'awesome', 'pawan', 'council', 'canadaai', 'spa', 'hydrogen', 'savoy', 'monitoring', 'aieurope', 'oslo', 'rishabh', 'pyspark', 'marketinggrowthhacking', 'write', 'embeds', 'xandscho', 'fourth', 'artificialintelligence', 'persuasion', 'economy', 'map', 'product', 'twitt', 'may', 'dive', 'digitaltransformationhow', 'spot', 'applications', 'industrialiot', 'birthday', 'airbnbs', 'date', 'servicesdigital', 'data', 'grow', 'man', 'iandbarker', 'natural', 'sectors', 'conscious', 'maybe', 'bokolson', 'aiappwebtechml', 'customerexperience', 'mukul', 'q', 'rather', 'sm', 'unleash', 'representation', 'shinning', 'sergiishanin', 'typical', 'sharepoint', 'mtartificialintelligence', 'food', 'chatbot', 'midnight', 'spreadsheets', 'digitalisatiin', 'course', 'kirkdborne', 'shake', 'uniofoxford', 'dilemma', 'csharpcorner', 'still', 'ieee', 'innovativeedges', 'machine', 'derive', 'group', 'monitor', 'interesting', 'organisation', 'amazing', 'platform', 'differentiating', 'artificialintelligenceai', 'dji', 'theprowave', 'supplychainfi', 'finance', 'unveiling', 'views', 'smallholder', 'conversations', 'flink', 'evolution', 'nation', 'scaling', 'half', 'supplychainfintech', 'nov', 'discuss', 'wont', 'vision', 'entrepreneur', 'bigcloudteam', 'drop', 'crypto', 'infographicbigdata', 'h', 'eighties', 'domain', 'ed', 'eg', 'webinar', 'ec', 'vmvifukeoee', 'challenges', 'unlock', 'zebra', 'begun', 'year', 'happen', 'ev', 'es', 'hacker', 'container', 'machinelearnbot', 'bullish', 'factors', 'twtr', 'disruptionmarketing', 'dataanalytics', 'looking', 'blo', 'miles', 'hacked', 'internet', 'cyberthreats', 'dominate', 'sensor', 'correct', 'shows', 'smartcity', 'cars', 'million', 'boobs', 'bringing', 'advantages', 'unicomseminars', 'org', 'thesigns', 'card', 'care', 'advance', 'training', 'milestones', 'digitization', 'language', 'programming', 'fb', 'british', 'turn', 'decisionmakingai', 'place', 'matterdigitalmarketing', 'think', 'smartbuilding', 'first', 'bluemix', 'businessai', 'revenue', 'predictive', 'variables', 'waves', 'one', 'simplified', 'fast', 'spanish', 'carry', 'chrisdebourcy', 'sounds', 'knowcybersecurity', 'pokemon', 'tomorrow', 'thoughtstarterdatajournalism', 'engineer', 'airbus', 'city', 'little', 'checked', 'quality', 'crossings', 'trillion', 'iaa', 'anyone', 'returns', 'apachespark', 'convention', 'white', 'friend', 'gives', 'mpflowersnyc', 'mining', 'hub', 'accurately', 'released', 'digitalisierung', 'professionals', 'cartels', 'edition', 'scraping', 'future', 'apples', 'venture', 'laraarjan', 'cards', 'bobehayes', 'outcome', 'russia', 'digitalmarketing', 'gathering', 'san', 'investors', 'royalties', 'pro', 'optimizing', 'locations', 'mateo', 'edwardphampoker', 'say', 'worgsbytvastar', 'django', 'futurefutureofwork', 'superman', 'conversion', 'form', 'patientrecruiting', 'warriors', 'ideas', 'sciences', 'nuances', 'potential', 'take', 'online', 'converged', 'performance', 'allenlee', 'begin', 'sure', 'boringdata', 'normal', 'track', 'chboursin', 'price', 'fullstack', 'sheets', 'codecampro', 'websitedesign', 'analytically', 'blockchainbitcoin', 'toyotaoe', 'kafka', 'surprising', 'considered', 'proud', 'implications', 'drive', 'pentesting', 'machineintelligence', 'professional', 'senior', 'nlp', 'lowcode', 'shot', 'certification', 'cheat', 'digrio', 'eomonth', 'discovered', 'bright', 'hack', 'aggressive', 'label', 'sdn', 'ground', 'aerobigdata', 'slow', 'behind', 'mllp', 'examples', 'analytic', 'going', 'black', 'valentinebasil', 'ranking', 'jkulinz', 'get', 'contracts', 'revolutionized', 'jazz', 'truly', 'recruiters', 'deeplear', 'killers', 'nearly', 'enerfund', 'roboticprocessautomation', 'swiftype', 'prime', 'resource', 'bestselling', 'sanmateo', 'managersai', 'summary', 'jokes', 'fogcomputing', 'stupid', 'gladius', 'bought', 'darshanhsheth', 'emlyon', 'bigdatabqgwdw', 'nonconsumer', 'seat', 'responsive', 'attackersico', 'ignores', 'parking', 'stanley', 'demystifying', 'wonder', 'detect', 'untapped', 'ways', 'review', 'jblefevrerobots', 'forecast', 'haque', 'outside', 'reading', 'seoai', 'across', 'problemsknow', 'infrastructure', 'jobs', 'uk', 'automationfutureofwork', 'js', 'jo', 'article', 'spark', 'cities', 'come', 'instagrams', 'reaction', 'emailmarketing', 'many', 'iitmadras', 'according', 'fico', 'remake', 'candleddream', 'comes', 'executables', 'pakistan', 'columnstore', 'cancer', 'antz', 'cognos', 'overview', 'robotics', 'pos', 'usecase', 'learning', 'maxpetrucci', 'prasad', 'spirosmargaris', 'opines', 'oliver', 'capable', 'cqf', 'workshop', 'mars', 'arti', 'dovetailing', 'trcefrankum', 'ldew', 'engine', 'enable', 'shopping', 'jlmicohow', 'veronikapassani', 'cryptomalay', 'lalit', 'bayesian', 'earlydetection', 'sound', 'developing', 'cash', 'intimately', 'ttxtodd', 'cure', 'mimikyu', 'zimana', 'interconnected', 'appdynamics', 'characteristics', 'ampgt', 'parse', 'cluster', 'bias', 'lawcrossborder', 'augmentedreality', 'technology', 'everyday', 'worry', 'techreviewinnovation', 'different', 'develop', 'author', 'reshape', 'bigdatadatascience', 'deellearning', 'figuring', 'epoch', 'html', 'differenc', 'casesfintech', 'struggling', 'insurers', 'bring', 'events', 'ohso', 'breakdown', 'visually', 'infosecurity', 'oil', 'lagos', 'driver', 'drives', 'driven', 'running', 'infographicvia', 'changing', 'wheels', 'handson', 'worldisagame', 'mikequindazzi', 'techs', 'framework', 'flocks', 'customized', 'without', 'solve', 'savranwebyou', 'components', 'onetrick', 'model', 'tedsundquist', 'researchers', 'scholarship', 'gregorymbryant', 'commodore', 'nosql', 'among', 'excel', 'fueling', 'sights', 'forecasting', 'valuable', 'oxford', 'datascienceexperttalks', 'touch', 'behavioural', 'isoteliot', 'weekly', 'announcement', 'death', 'application', 'thinking', 'andyleonard', 'confirmed', 'blog', 'blockchainmobilem', 'lets', 'technolo', 'republic', 'avidalvi', 'infographicchatbots', 'disrupt', 'careers', 'ross', 'real', 'realkmmag', 'around', 'read', 'martech', 'photocopies', 'psd', 'aiai', 'test', 'weathernews', 'traffic', 'mon', 'bitmain', 'aiming', 'color', 'ideasai', 'permutans', 'patrice', 'collective', 'zlj', 'millennials', 'ico', 'superiority', 'either', 'retailers', 'seo', 'growthhackers', 'serverless', 'cisco', 'vicentaanwar', 'images', 'diving', 'trujillo', 'thinks', 'loice', 'websummitbot', 'bigdata', 'legal', 'moon', 'pioneer', 'critical', 'dialogueindia', 'provider', 'impress', 'moderate', 'refer', 'biased', 'backbone', 'scientific', 'business', 'burgjustin', 'seconds', 'starai', 'jennings', 'devop', 'datajournalism', 'cybercrime', 'leadership', 'exciting', 'throw', 'lens', 'conducting', 'stations', 'myemptymindc', 'industry', 'discussed', 'claysmith', 'practical', 'ethereum', 'srv', 'bizrep', 'masterpieces', 'mixed', 'roucou', 'os', 'dubais', 'outlook', 'fundraising', 'franchising', 'headsets', 'image', 'imalexdsouztechnowornever', 'rising', 'singtelinnov', 'gary', 'operator', 'sessioncainc', 'ehr', 'gbdbc', 'prepare', 'firozansar', 'cplusplus', 'styling', 'myths', 'start', 'ambynet', 'lot', 'businessintelligence', 'springboard', 'lambda', 'carefully', 'complete', 'outofsample', 'apis', 'fundamentals', 'imbibed', 'jun', 'healthrecords', 'sophisticated', 'beginners', 'leverege', 'e', 'technologies', 'podcast', 'jamisonhutton', 'buying', 'longer', 'fraud', 'davidoro', 'algorithm', 'embedded', 'unveils', 'japan', 'dirty', 'choicebigdata', 'age', 'mps', 'machinelearningml', 'wants', 'ac', 'datadriven', 'contentmarketing', 'ai', 'certain', 'al', 'deep', 'general', 'britain', 'intro', 'johncoltrane', 'deezer', 'hospitals', 'nerd', 'gist', 'roboticsmakeyourownlane', 'serviceai', 'ipfconline', 'sdtechx', 'aiscientist', 'storage', 'green', 'insurance', 'marketexpansion', 'field', 'informationweek', 'offered', 'requested', 'citysmartcities', 'importanc', 'aws', 'deriving', 'important', 'recent', 'baconbigdata', 'chris', 'businessprocesses', 'marketai', 'stocks', 'building', 'kimbbellard', 'assets', 'calls', 'deeplearn', 'wifi', 'curve', 'biztips', 'embracing', 'apparel', 'ubers', 'redux', 'starting', 'bigdataatozethical', 'semantic', 'forget', 'sucampuzano', 'sherrimstokes', 'swhealthtech', 'month', 'cherylrm', 'gt', 'fairness', 'talks', 'follow', 'coauthor', 'decisions', 'children', 'amcordier', 'smo', 'chain', 'tv', 'opportunities', 'jlmicochart', 'neuralink', 'program', 'opensource', 'th', 'mazcrone', 'te', 'bigdatasjhazjpiw', 'accentureai', 'techrepublic', 'activities', 'global', 'mindsphere', 'stackdevjobs', 'banksampstartups', 'bigdatathe', 'rogue', 'bhatt', 'fall', 'sony', 'difference', 'vicchow', 'abhiseo', 'ismr', 'list', 'large', 'circuit', 'beengelhardt', 'cryptor', 'gos', 'dotnet', 'anal', 'gb', 'cognitivecomputing', 'iotagenda', 'quicker', 'creamhq', 'instagram', 'revolutionise', 'marcstampfli', 'past', 'aiewdatazp', 'design', 'watchkit', 'rsiilasmaa', 'investment', 'investing', 'sun', 'danbuckland', 'brief', 'susanilbourdon', 'yorkregiongovt', 'dcos', 'issues', 'worldhunger', 'scientists', 'learned', 'method', 'movement', 'full', 'installations', 'empower', 'component', 'thecube', 'smartest', 'suicide', 'operating', 'savranwebstarting', 'buzzing', 'strong', 'search', 'janikarh', 'siamese', 'compliance', 'allows', 'experience', 'younghelen', 'periodic', 'thursday', 'arent', 'social', 'action', 'smartmobility', 'imaging', 'smar', 'via', 'followed', 'wearables', 'integrator', 'ask', 'uniofbath', 'analyzing', 'aimed', 'digitalmarketinggrowthhacking', 'allbigdata', 'mench', 'detecting', 'recastai', 'twc', 'tokensale', 'takes', 'marketi', 'aziznazhamd', 'governance', 'splash', 'call', 'widens', 'techrevolution', 'taken', 'wearablesno', 'markets', 'adtech', 'inferential', 'musicstreaming', 'jvm', 'datamining', 'botdata', 'itai', 'company', 'financeai', 'regrettably', 'pythonbot', 'internetof', 'factories', 'town', 'keeping', 'salesforce', 'oupintlaw', 'riceuniversity', 'hour', 'middle', 'science', 'dev', 'huge', 'wearhouse', 'v', 'embrace', 'wwwaiblogai', 'infographicdesign', 'dee', 'history', 'coursesdatascientist', 'motivationmakeyourownlane', 'pushes', 'indiviual', 'suggestions', 'udemy', 'states', 'numbers', 'sense', 'information', 'needs', 'pythonprogramming', 'automationcc', 'technologiesblockchain', 'mapr', 'maps', 'businessinsider', 'scifi', 'tsendemgl', 'explains', 'goodreads', 'shouldnt', 'plans', 'crowdfunding', 'wiley', 'mapping', 'alibaba', 'macroclearing', 'catalog', 'revolutionizing', 'adventure', 'coming', 'fi', 'ethics', 'ibmcommerce', 'undergrads', 'acquisitions', 'futureofwork', 'burns', 'prerequisites', 'register', 'saezrodriguez', 'mktg', 'fundamental', 'media', 'banks', 'facebook', 'twittermoments', 'playing', 'help', 'bigdatasbedyd', 'soon', 'trade', 'isnt', 'scientist', 'alevergara', 'dataplane', 'developer', 'unleashing', 'mustread', 'termed', 'solving', 'selenium', 'actually', 'late', 'reuters', 'systems', 'founders', 'cross', 'itguruukgov', 'might', 'mikesaltsman', 'good', 'coworkers', 'impacts', 'insurtech', 'ye', 'adams', 'bertrandboulle', 'joannmoretti', 'hackathon', 'kennesaw', 'bigger', 'infofort', 'instances', 'always', 'evade', 'capability', 'courses', 'token', 'habits', 'techstrasolns', 'sk', 'economictimes', 'button', 'execs', 'week', 'everyone', 'england', 'chevron', 'aipaymentsbiometricsblockchainapibigdata', 'partnershipai', 'generation', 'energy', 'hard', 'computerscience', 'idea', 'todaybusiness', 'connect', 'personalization', 'quantum', 'beyond', 'event', 'really', 'dzone', 'funding', 'psychology', 'savranwebintroducing', 'hkkmtucb', 'douglas', 'research', 'dapp', 'packtpub', 'geospatial', 'health', 'offline', 'issue', 'pythagoras', 'localization', 'timeline', 'friday', 'greenliving', 'labs', 'base', 'brightest', 'members', 'brandeisgps', 'zaryjhprbiqpxr', 'teach', 'firstever', 'generate', 'revolutionary', 'benefits', 'chloedut', 'computers', 'defstar', 'introduction', 'american', 'elective', 'w', 'contractsjacburnscomext', 'rona', 'smartcities', 'embraces', 'dont', 'relate', 'machinelearni', 'dillet', 'number', 'coursehranalytics', 'databreach', 'servicesai', 'tedx', 'done', 'cnvey', 'manjeet', 'miss', 'ecommerce', 'story', 'leverage', 'postgrad', 'script', 'machinelear', 'leading', 'tamaramccleary', 'multigpu', 'swarm', 'rates', 'hazyhills', 'store', 'gps', 'muscles', 'imperfect', 'option', 'datascientists', 'mandaarpande', 'immediate', 'part', 'datawarehouse', 'jabil', 'brainai', 'cityfalcon', 'meansai', 'king', 'kind', 'b', 'recruitment', 'datawatch', 'dans', 'htt', 'architect', 'risks', 'listen', 'internetmarketing', 'interactive', 'motivation', 'bigdatadefstar', 'storytelling', 'internetofthing', 'erpmachinelearning', 'scienceunsupervised', 'sell', 'paths', 'ritvik', 'yearsdataviz', 'zero', 'self', 'oslobigdataday', 'build', 'analogy', 'bigbiggerbiggestdata', 'signup', 'play', 'added', 'node', 'electric', 'quote', 'eggs', 'reach', 'chart', 'react', 'virus', 'plan', 'services', 'pandajay', 'infrastructures', 'probabilistic', 'mach', 'rhegmatogenous', 'advanceddatascientist', 'mobile', 'dsvm', 'nlaanambra', 'artific', 'artistelaine', 'microsoft', 'intels', 'sector', 'cdn', 'cdo', 'session', 'businesses', 'bodybuilding', 'fine', 'find', 'impact', 'weehyong', 'copyright', 'duncan', 'writer', 'distributed', 'jtoy', 'indust', 'growthhackingmt', 'heatmap', 'money', 'cuba', 'darwin', 'tricia', 'imperva', 'keras', 'insurence', 'comecloud', 'capsule', 'nonequilibrium', 'freecodecamp', 'reporters', 'janssenbelgium', 'blogging', 'continuum', 'enigmadata', 'inbuilt', 'banking', 'transpacific', 'li', 'datafloqdatafloqhow', 'logistic', 'hype', 'x', 'cro', 'crm', 'rethinkyou', 'vegasbill', 'set', 'art', 'unityd', 'intelligence', 'startup', 'achieves', 'differentiation', 'see', 'defense', 'dumb', 'syiqdscb', 'lisbon', 'mathchat', 'genomic', 'sem', 'arm', 'youstartup', 'feared', 'crunching', 'knees', 'supplychain', 'threats', 'tsla', 'expert', 'capsules', 'please', 'wordcloud', 'libraries', 'case', 'various', 'bernardmarr', 'available', 'profiling', 'recently', 'creating', 'unconscious', 'missing', 'sold', 'attention', 'nidiayang', 'respondents', 'ranked', 'landscapedataviz', 'solr', 'empowering', 'c', 'last', 'mxnet', 'sudipaduttaroy', 'restaurant', 'phishing', 'readthe', 'annual', 'quantization', 'sensitive', 'became', 'bots', 'digimarketingwf', 'whole', 'infographicthe', 'reduce', 'hackers', 'point', 'reasons', 'mojamesapted', 'others', 'ravi', 'linux', 'improvement', 'expensive', 'headaches', 'rudy', 'ps', 'finally', 'java', 'raise', 'garbageingarbageoutput', 'create', 'political', 'instalment', 'strategy', 'pc', 'secret', 'pa', 'boston', 'bigdatagear', 'tensorflow', 'pi', 'arcpy', 'treatment', 'generating', 'morganstanley', 'flight', 'fire', 'ggpbilateral', 'karenorcunningh', 'gas', 'diagnoses', 'gap', 'understand', 'disruptive', 'demand', 'talent', 'splunk', 'loon', 'prsqueens', 'pymc', 'exponential', 'tidyverse', 'reliable', 'infographicmikequindazzi', 'elections', 'uclbehavechange', 'technical', 'optimization', 'sewagepowered', 'impacted', 'fun', 'troves', 'meandevjs', 'guide', 'lingo', 'theres', 'hoai', 'historyinfographic', 'hrcurator', 'binding', 'onlineshopping', 'demos', 'djangoskzluwrw', 'infographiccloud', 'problemsolver', 'ready', 'aspects', 'earn', 'myrakrause', 'vanrijmenam', 'msexcel', 'government', 'problems', 'hadoop', 'vulnerable', 'machinele', 'esteemed', 'survey', 'higher', 'development', 'used', 'bonus', 'yesterday', 'digitalhealth', 'walmart', 'uses', 'user', 'platformeconomy', 'talentacquisition', 'stack', 'arturo', 'igualdadcsif', 'azureml', 'database', 'analysis', 'datascie', 'edge', 'jbc', 'patents', 'dataana', 'opendata', 'visualizations', 'docker', 'boardofdirectors', 'smartcitymakeyourownlane', 'powering', 'ceo', 'altus', 'competitive', 'asiapacific', 'press', 'wdata', 'asustainable', 'questions', 'mysql', 'mxsv', 'useful', 'alternative', 'wearable', 'move', 'tables', 'cxos', 'helping', 'yayxyansekiz', 'scales', 'datascientistdatascience', 'recommended', 'signals', 'source', 'siblings', 'boardroom', 'input', 'transformation', 'epexspotse', 'bio', 'ibmanalytics', 'vendor', 'aiontheblockchain', 'multiday', 'wisel', 'unlimited', 'displace', 'michalkaufman', 'matters', 'moods', 'ecosystems', 'projects', 'intel', 'techaffinity', 'stratorob', 'gymlife', 'cognitive', 'shaped', 'fba', 'deepsingularityreading', 'shapes', 'collect', 'savoyrt', 'edgeanalytics', 'translated', 'infographicdataviz', 'essential', 'careersai', 'google', 'datasciencebigdata', 'worldfintech', 'back', 'trends', 'towards', 'accelerate', 'comptia', 'szumigalskis', 'savranwebintroduction', 'ellenfriedman', 'scale', 'scala', 'decision', 'pros', 'integration', 'competitions', 'compsci', 'market', 'innovation', 'ehealth', 'anna', 'pillaisunil', 'machin', 'marketingai', 'ebook', 'run', 'bb', 'fancy', 'bn', 'processing', 'bi', 'stem', 'step', 'kdnuggets', 'digitaltran', 'oem', 'cyberattack', 'thesecurity', 'major', 'raspberry', 'infographicai', 'roundup', 'saas', 'gnome', 'anything', 'entrepreneurs', 'scottfree', 'methodology', 'neinsknull', 'watchlist', 'complimentary', 'farmers', 'block', 'demystifies', 'seeing', 'computational', 'webinars', 'within', 'devops', 'devfest', 'exercises', 'lesson', 'sports', 'crowdsourcing', 'statistics', 'bigdataclub', 'long', 'custom', 'handbook', 'forward', 'analyze', 'euenv', 'marinecadastrestaging', 'gamechanging', 'poster', 'registered', 'solidity', 'sdx', 'bolsters', 'itselfml', 'link', 'pwc', 'technicians', 'raising', 'posted', 'info', 'hbcproject', 'ux', 'thibault', 'cio', 'us', 'mitai', 'maturity', 'verification', 'mature', 'antgrasso', 'autonomous', 'z', 'smartvehicles', 'uber', 'floydwarshall', 'defined', 'comparethecloud', 'together', 'globally', 'engineering', 'diverse', 'chat', 'prostatecancer', 'websummit', 'paradox', 'amounts', 'topcybernewssome', 'nervana', 'kirk', 'scrapy', 'bigdatahymecohcw', 'functionality', 'lovesachdev', 'insighttech', 'publicrelay', 'pandas', 'eerily', 'nice', 'elements', 'mixai', 'synapseai', 'techpreneursgood', 'dali', 'overriding', 'replace', 'dotne', 'theano', 'posters', 'hartfordhosp', 'tedxboston', 'svh', 'busin', 'youtube', 'dayahead', 'datascience', 'pyro', 'whitepaper', 'summit', 'correlates', 'delizalde', 'narrative', 'examplesexperts', 'fresh', 'peerlyst', 'shine', 'code', 'betanews', 'scratch', 'fintechrockers', 'vinmcc', 'results', 'steve', 'ge', 'proposition', 'avgb', 'go', 'exceptional', 'bittsnews', 'staycurious', 'ransomware', 'savranwebslow', 'debunking', 'breaches', 'helps', 'atlas', 'resources', 'pay', 'workloadtechnology', 'infographiccloudpreacher', 'automotive', 'infographicblockchain', 'sepp', 'explodebanking', 'putting', 'categories', 'googles', 'notes', 'f', 'hive', 'ipzz', 'try', 'threat', 'race', 'futurismhealthtech', 'evp', 'jlmicobiggest', 'havent', 'meaurably', 'barbara', 'challenge', 'logistics', 'cfo', 'technews', 'icsr', 'ponyai', 'demonstrations', 'jump', 'fold', 'video', 'booth', 'thenextweb', 'download', 'click', 'index', 'power', 'rate', 'giving', 'networks', 'access', 'infographicdatascience', 'experiment', 'twins', 'djangobyj', 'oreillymedia', 'values', 'bird', 'healthit', 'led', 'rightslooking', 'chinas', 'panelists', 'leveraging', 'pushing', 'giant', 'following', 'explore', 'let', 'ubuntu', 'safer', 'revolutiondatascience', 'cheguevara', 'great', 'engage', 'genz', 'toast', 'cern', 'technolog', 'implementation', 'cert', 'products', 'mindblowing', 'opinion', 'chang', 'makes', 'maker', 'hue', 'named', 'apple', 'bathimi', 'win', 'app', 'manage', 'private', 'outcomes', 'newbs', 'api', 'decrease', 'nassaraf', 'sgn', 'apply', 'futureai', 'tools', 'gateway', 'cloud', 'endangered', 'use', 'bmoskwa', 'katietaylor', 'che', 'certificate', 'blockchain', 'cray', 'next', 'kyc', 'vehicle', 'doubling', 'chip', 'socialmediamarketingsocial', 'started', 'djangobkmbgcwjvc', 'picocluster', 'train', 'marketings', 'starter', 'customer', 'high', 'iiot', 'announcing', 'languages', 'islamabad', 'governments', 'archer', 'meet', 'pingmobile', 'proof', 'control', 'socialhire', 'tap', 'providers', 'process', 'favorite', 'loci', 'halloween', 'unicomseminarsattend', 'pieces', 'problemsevaluation', 'freeai', 'sansinstitute', 'something', 'voice', 'norprogramming', 'tumor', 'malware', 'united', 'democracy', 'guru', 'six', 'tableau', 'traders', 'reposting', 'mysteries', 'native', 'intelligent', 'salud', 'circular', 'profile', 'hurdles', 'cindipatrick', 'syreetahender', 'attend', 'ronald', 'fits', 'requirements', 'prostate', 'fray', 'efficiently', 'paas', 'patriciarobinea', 'fintch', 'watson', 'chief', 'marketingfintech', 'agenda', 'healthcare', 'fordata', 'software', 'preparing', 'blockgks', 'unsolved', 'zippylab', 'insight', 'merricastellow', 'report', 'pauldupuisrstd', 'aplysialab', 'perfect', 'spotify', 'digitaltrans', 'le', 'euh', 'roboticsopen', 'techceo', 'temporal', 'ships', 'winning', 'gauleslucide', 'informationw', 'orange', 'clusters', 'defining', 'techcrunch', 'blacksuit', 'duhamel', 'python', 'docs', 'cagr', 'datavisualizations', 'dat', 'hands', 'rstats', 'day', 'literacy', 'ajsondev', 'articles', 'ibupertiwi', 'monero', 'university', 'merge', 'shortage', 'accounts', 'stock', 'promises', 'subset', 'beginner', 'sensorsiot', 'globe', 'einstein', 'snaps', 'related', 'books', 'markchristie', 'datasci', 'agriculture', 'special', 'ebooks', 'kapoor', 'sentiment', 'frontier', 'announces', 'atlasexperiment', 'abdsc', 'romain', 'communi', 'cause', 'integrated', 'math', 'ecg', 'morekompass', 'queenrichmond', 'workflow', 'eco', 'granttillmanley', 'bigdataatoz', 'autonomousvehicles', 'businessintell', 'completely', 'york', 'advisor', 'regulatory', 'shortest', 'techreview', 'g', 'could', 'mac', 'times', 'keen', 'pudding', 'ltd', 'workbook', 'magaratimes', 'retail', 'inhouse', 'tensorflowby', 'ethical', 'slemma', 'powerful', 'loo', 'jblefevrethe', 'improving', 'millennialsblockchain', 'eucommission', 'digitizing', 'precisely', 'chatbots', 'svbfinancial', 'management', 'fascinating', 'privacy', 'guys', 'durable', 'harveyslash', 'adversarially', 'atsoft', 'edchat', 'automl', 'donts', 'datacamp', 'final', 'beard', 'cbinsightsfintech', 'gear', 'ryankhgb', 'exactly', 'innovate', 'approachable', 'cyb', 'intereste', 'fintechhorizon', 'cosmunity', 'wishlist', 'emarsysiot', 'dower', 'bigdataes', 'collaborationdigital', 'rmachinelearning', 'wrong', 'sourcing', 'iotrecruiting', 'deeplearning', 'learningtips', 'growthhacking', 'enjoydigitall', 'providing', 'bet', 'ingenious', 'harrowtown', 'sea', 'zmove', 'hashtags', 'abomination', 'robot', 'cryptocurrency', 'aievents', 'supercomputing', 'effibuilding', 'close', 'need', 'rossettifp', 'st', 'linked', 'devs', 'mio', 'studying', 'tldr', 'agency', 'able', 'aftermarket', 'andistaub', 'mit', 'accuracy', 'charliehaden', 'fuels', 'unless', 'bbabushka', 'jorge', 'worlddigitaltransformation', 'micr', 'courtesy', 'bignoisenoise', 'eight', 'device', 'rege', 'gallery', 'irizarry', 'disneyresearch', 'consequences', 'atypical', 'face', 'jenrosebresn', 'talk', 'industryai', 'tickers', 'fact', 'odsc', 'infographic', 'ignite', 'emerging', 'selection', 'dependant', 'socialmediasocialmediamarketing', 'unbelievable', 'bigrather', 'hzflbid', 'planning', 'portfolio', 'chicken', 'pleased', 'staff', 'openings', 'fridayfeeling', 'promote', 'keys', 'knowledge', 'btuk', 'earned', 'futureofdata', 'controls', 'operational', 'bigdataanalytics', 'score', 'americacosta', 'financal', 'employee', 'lizmcgettigan', 'behavioraleconomics', 'recommendersystem', 'hope', 'jacqueline', 'thenextwebml', 'handle', 'watching', 'kimberlyherna', 'familiar', 'cloudnlp', 'datamanagement', 'joint', 'ones', 'joins', 'applying', 'years', 'chips', 'phenomics', 'areas', 'processes', 'aerospike', 'brain', 'wellness', 'cttdnug', 'swissleader', 'artificialintelligencereplicantai', 'teams', 'qa', 'deong', 'queries', 'grab', 'view', 'powertofly', 'exists', 'humans', 'teamsinfographic', 'travis', 'computer', 'scistarter', 'transpacificpartnership', 'acquires', 'pragmatic', 'cole', 'stats', 'pattern', 'mobileapp', 'dannylange', 'superb', 'gartners', 'genius', 'state', 'strathu', 'urbanmobility', 'copilot', 'progress', 'youll', 'newbie', 'pants', 'industries', 'javascript', 'retinal', 'superior', 'opinionatedadam', 'implementing', 'vouture', 'qubole', 'succeed', 'balaiyer', 'lovesachdevso', 'abhimanozautomate', 'welcomed', 'tuesday', 'confronts', 'cp', 'ipfconlinethe', 'yay', 'dummies', 'xlsx', 'corresponding', 'inboundmarketing', 'tweets', 'robotsmachinelearning', 'homes', 'mega', 'dataflow', 'means', 'virtualreality', 'secrets', 'rvp', 'linkedin', 'hardware', 'gibralta', 'tomaslepa', 'moves', 'merging', 'member', 'transformative', 'nokia', 'effect', 'phd', 'micro', 'identity', 'keep', 'object', 'moments', 'stored', 'datasecurity', 'meisshailypierrepinna', 'peculium', 'battery', 'bigdl', 'combiation', 'burden', 'mathematics', 'belgium', 'iotcybersecurity', 'success', 'sized', 'agents', 'bitcoinertoday', 'roadai', 'empire', 'transport', 'avoid', 'engelhardt', 'robots', 'pp', 'paper', 'mabanquebnpp', 'smartdata', 'emails', 'location', 'peak', 'microservices', 'cassandra', 'brands', 'weather', 'campdenlitfest', 'van', 'elastic', 'hackermindset', 'gppulipakadeep', 'delivery', 'infographiciot', 'made', 'techai', 'placed', 'erambo', 'jimmarousinternet', 'healthcarecosts', 'inc', 'urlprofiler', 'hpe', 'bigoil', 'designers', 'amp', 'entertainment'])\n"
     ]
    }
   ],
   "source": [
    "filters = {}\n",
    "for name, words in split_posts.items():\n",
    "    print name, words\n",
    "    filters[name] = BloomFilter(capacity=len(words), error_rate=0.1)\n",
    "    for word in words:\n",
    "        filters[name].add(word)"
   ]
  },
  {
   "cell_type": "code",
   "execution_count": 16,
   "metadata": {
    "collapsed": true
   },
   "outputs": [],
   "source": [
    "def search(search_string):\n",
    "    search_terms = re.split(\"\\W+\", search_string)\n",
    "    return [name for name, filter in filters.items() if all(term in filter for term in search_terms)]"
   ]
  },
  {
   "cell_type": "code",
   "execution_count": 17,
   "metadata": {},
   "outputs": [],
   "source": [
    "data_path_q3 = 'tweets3.txt'\n",
    "tweet_data_q3 = clean(data_path_q3)\n",
    "file_q3 = open('data_q3/words_q3.txt', 'w')\n",
    "for item in tweet_data_q3:\n",
    "    file_q3.write(\"%s\\n\" % item)"
   ]
  },
  {
   "cell_type": "code",
   "execution_count": 26,
   "metadata": {},
   "outputs": [],
   "source": [
    "import os\n",
    "import re\n",
    "matched_words = []\n",
    "path = 'data_q3/'\n",
    "post = {post_name: open(path + post_name).read() for post_name in os.listdir(path)}\n",
    "# Create a dictionary of {\"post name\": \"lowercase word set\"}.\n",
    "split_pst = {name: set(re.split(\"\\W+\", contents.lower())) for name, contents in post.items()}\n",
    "#split_posts\n",
    "for name, words in split_pst.items():\n",
    "    for word in words:\n",
    "        if search(word)==['words1.txt']:\n",
    "            matched_words.append(word)\n"
   ]
  },
  {
   "cell_type": "code",
   "execution_count": 60,
   "metadata": {},
   "outputs": [],
   "source": [
    "match_words = [x for x in tweet_data_q3 if x in matched_words]\n",
    "sort_match = sorted(match_words)"
   ]
  },
  {
   "cell_type": "code",
   "execution_count": 63,
   "metadata": {},
   "outputs": [
    {
     "data": {
      "text/plain": [
       "ai             2582\n",
       "bigdata        2522\n",
       "ml             1327\n",
       "iiot           1238\n",
       "cognitive      1180\n",
       "watson         1123\n",
       "ibm            1120\n",
       "data            945\n",
       "learning        842\n",
       "datascience     755\n",
       "Name: 0, dtype: int64"
      ]
     },
     "execution_count": 63,
     "metadata": {},
     "output_type": "execute_result"
    }
   ],
   "source": [
    "m = pd.DataFrame(sort_match)\n",
    "match = m[0].value_counts().head(10)\n",
    "match"
   ]
  },
  {
   "cell_type": "code",
   "execution_count": 44,
   "metadata": {},
   "outputs": [
    {
     "data": {
      "image/png": "[encoded data removed]",
      "text/plain": [
       "<matplotlib.figure.Figure at 0x10e2b0f0>"
      ]
     },
     "metadata": {},
     "output_type": "display_data"
    }
   ],
   "source": [
    "import matplotlib.pyplot as plt\n",
    "ax = match.plot(x=0, y=1, kind=\"bar\", figsize=(15, 10), fontsize=15)\n",
    "ax.set_title('Matched Words Frequency', fontsize=25)\n",
    "ax.set_ylabel(\"Frequency\", fontsize=25)\n",
    "ax.set_xlabel(\"Words\", fontsize=25)\n",
    "plt.show()"
   ]
  },
  {
   "cell_type": "code",
   "execution_count": 72,
   "metadata": {
    "collapsed": true
   },
   "outputs": [],
   "source": [
    "#Copied from https://github.com/pythonforfacebook/facebook-sdk/blob/master/examples/get_posts.py\n",
    "import facebook\n",
    "import requests\n",
    "\n",
    "def some_action(post):\n",
    "    print(post['created_time'] + \"==================================================\")\n",
    "    print(post['message'])\n",
    "    print(\"=========================================================================\")\n",
    "    \n",
    "\n",
    "access_token = 'EAACEdEose0cBAO9X8VxF5hLWeJ8pmJZCQUjPBtU1ACBqY0A82d18zHNZBddescoME7znxLmudpR71XhFmzNJZANHFZAGzg7h2TEGMgN7XClVRoW7ZCWX29ZBbjhO3523TrCnshilAvtkieu2nJPsfQuDTqDAHDOREHnd6PXIYPMDEIbjddQR9B0iyJ6nhZBAdrWGH8geXMzewZDZD'\n",
    "user = 'BillGates' \n",
    "    \n",
    "graph = facebook.GraphAPI(access_token)\n",
    "profile = graph.get_object(user)\n",
    "posts = graph.get_connections(profile['id'], 'posts')\n",
    "\n",
    "\n",
    "while True:\n",
    "    try:\n",
    "        # Perform some action on each post in the collection we receive from\n",
    "        # Facebook.\n",
    "        [some_action(post=post) for post in posts['message']]\n",
    "        # Attempt to make a request to the next page of data, if it exists.\n",
    "        posts = requests.get(posts['paging']['next']).json()\n",
    "    except KeyError:\n",
    "        # When there are no more pages (['paging']['next']), break from the\n",
    "        # loop and end the script.\n",
    "        break"
   ]
  },
  {
   "cell_type": "code",
   "execution_count": 74,
   "metadata": {},
   "outputs": [
    {
     "data": {
      "text/plain": [
       "{u'next': u'https://graph.facebook.com/v2.5/216311481960/posts?access_token=EAACEdEose0cBAO9X8VxF5hLWeJ8pmJZCQUjPBtU1ACBqY0A82d18zHNZBddescoME7znxLmudpR71XhFmzNJZANHFZAGzg7h2TEGMgN7XClVRoW7ZCWX29ZBbjhO3523TrCnshilAvtkieu2nJPsfQuDTqDAHDOREHnd6PXIYPMDEIbjddQR9B0iyJ6nhZBAdrWGH8geXMzewZDZD&limit=25&until=1506522746&__paging_token=enc_AdCP9vhjlLhh6VuwzbVH6jexfN9Jtcb5a92W5X1MjAXNzeWCNwhdZBzCZAbIaSvGLCiwaDP8Iw2yAiHq9zzLafZBC8cHt1xu1I8b5atsPgYhToyAQZDZD',\n",
       " u'previous': u'https://graph.facebook.com/v2.5/216311481960/posts?since=1510258460&access_token=EAACEdEose0cBAO9X8VxF5hLWeJ8pmJZCQUjPBtU1ACBqY0A82d18zHNZBddescoME7znxLmudpR71XhFmzNJZANHFZAGzg7h2TEGMgN7XClVRoW7ZCWX29ZBbjhO3523TrCnshilAvtkieu2nJPsfQuDTqDAHDOREHnd6PXIYPMDEIbjddQR9B0iyJ6nhZBAdrWGH8geXMzewZDZD&limit=25&__paging_token=enc_AdCyhcZAKAZCVSIvVyIva0L6ZCDGfJq7NQFvmhXrxRFHeIDYZAGa5AX09gISenZBU2zP6pckuVvJJLfvKqDlXzaZAAUFDvVceXZB8soKaHP99b5YGGccAZDZD&__previous=1'}"
      ]
     },
     "execution_count": 74,
     "metadata": {},
     "output_type": "execute_result"
    }
   ],
   "source": [
    "posts['paging']"
   ]
  },
  {
   "cell_type": "code",
   "execution_count": 71,
   "metadata": {},
   "outputs": [
    {
     "name": "stdout",
     "output_type": "stream",
     "text": [
      "{u'created_time': u'2017-11-09T20:14:20+0000', u'message': u'Tanzania hopes to eliminate one of the world\\u2019s most painful and debilitating diseases by 2020.\\n\\nFrom what I saw in this remarkable village, I\\u2019m optimistic they will.', u'id': u'216311481960_10155024059741961'}\n",
      "{u'created_time': u'2017-11-08T21:34:00+0000', u'message': u'By investing in R&D, I know we can discover new innovations that will help wipe tuberculosis off the map.', u'id': u'216311481960_10155021950216961'}\n",
      "{u'created_time': u'2017-11-08T15:53:14+0000', u'message': u'Congrats Jenn. We couldn\\u2019t be more proud of how hard you\\u2019ve worked to become a national champion.\\n\\nPC: Ashley Neuhof', u'id': u'216311481960_10155021274656961'}\n",
      "{u'created_time': u'2017-11-07T17:44:02+0000', u'message': u'I recently visited a remote hilltop village in Tanzania to see how health workers use an unusual tool to fight disease.', u'id': u'216311481960_10155019221371961'}\n",
      "{u'created_time': u'2017-11-02T17:46:34+0000', u'message': u'Melinda and I first encountered extreme poverty when we visited Africa in 1993. To us, it was the most unjust thing we\\u2019d seen and it has inspired our work ever since.\\n\\nThat is #MyGivingStory. What\\u2019s yours: http://b-gat.es/2xRZcTK?', u'id': u'216311481960_10155008038281961'}\n",
      "{u'created_time': u'2017-10-25T17:40:51+0000', u'message': u'Stories like these remind me of why Melinda and I started our foundation.', u'id': u'216311481960_10154989302456961'}\n",
      "{u'created_time': u'2017-10-24T21:31:50+0000', u'story': u\"Bill Gates shared Rotary International's live video.\", u'id': u'216311481960_10154987396636961'}\n",
      "{u'created_time': u'2017-10-24T16:35:14+0000', u'message': u\"John Cena the polio expert? \\n\\nIt's just one of this superstar\\u2019s many surprising talents: http://b-gat.es/2zA9FDE #WorldPolioDay\", u'id': u'216311481960_10154986802311961'}\n",
      "{u'created_time': u'2017-10-23T21:15:29+0000', u'message': u'Here\\u2019s an easy way you can join the fight to #EndPolio.\\n\\nTriple your impact when you give to Rotary International: http://b-gat.es/2zx60q1', u'id': u'216311481960_10154985145271961'}\n",
      "{u'created_time': u'2017-10-22T15:00:09+0000', u'message': u'Educators in the Council of the Great City Schools are doing phenomenal work to meet the diverse needs of students in American schools.\\n\\nHere is how we will continue to support your work in public education: http://b-gat.es/2gtipE1', u'id': u'216311481960_10154982012156961'}\n",
      "{u'created_time': u'2017-10-20T17:26:31+0000', u'message': u'I\\u2019m a geography buff, so this quiz is right up my alley. It was also eye opening to learn what these countries have in common. \\n\\nI encourage you to take the quiz and let me know how you did in the comments.', u'id': u'216311481960_10154977506876961'}\n",
      "{u'created_time': u'2017-10-19T20:46:01+0000', u'message': u\"All children in America should get a great education. But some students are left behind.\\n\\nThe achievement gap for students of color and low-income students is the most significant inequity I know of in the United States. That\\u2019s why Melinda and I have been focused on public education for almost 20 years.\\n\\nHere's an update on what we\\u2019re doing.\", u'id': u'216311481960_10154975717446961'}\n",
      "{u'created_time': u'2017-10-18T14:11:49+0000', u'message': u'After surviving smallpox, Ali Maow Maalin dedicated his life to fighting polio in Somalia. His motivation? \"I\\'m the last smallpox case in the world. I want to help ensure my country will not be last in stopping polio.\" \\n\\nRe-sharing his inspiring story from 2013\\u2026', u'id': u'216311481960_10154972610521961'}\n",
      "{u'created_time': u'2017-10-16T14:59:33+0000', u'message': u'There\\u2019s nothing I love more than talking to people I can learn from.\\n\\nSo I was excited to sit down with a personal hero of mine and revisit his legendary career.', u'id': u'216311481960_10154968007536961'}\n",
      "{u'created_time': u'2017-10-15T15:32:31+0000', u'message': u'I visited Georgia State University earlier this year and met an amazing group of students: http://b-gat.es/2yrt2l9', u'id': u'216311481960_10154965844161961'}\n",
      "{u'created_time': u'2017-10-12T14:33:49+0000', u'message': u'Bill Foege devised the strategy that led to one of the greatest achievements in global health: the eradication of smallpox: http://b-gat.es/2gdPVSl', u'id': u'216311481960_10154958597066961'}\n",
      "{u'created_time': u'2017-10-10T17:09:10+0000', u'message': u'My approach to philanthropy might look very different if I\\u2019d never met Bill Foege. He\\u2019s had an incredible impact on my life.', u'id': u'216311481960_10154953990856961'}\n",
      "{u'created_time': u'2017-10-06T14:26:36+0000', u'message': u'Only half of the American students who start college will graduate with a diploma.\\n\\nThat\\u2019s why I\\u2019m constantly on the lookout for schools that defy those odds \\u2013 places where students are more likely to graduate than not.', u'id': u'216311481960_10154944044081961'}\n",
      "{u'created_time': u'2017-10-05T17:11:55+0000', u'message': u'I haven\\u2019t heard a lot of doctors talk about reducing the role of doctors in treatment.\\n\\nBut when Tom Ellman speaks, people listen: http://b-gat.es/2fOjrdt', u'id': u'216311481960_10154941700046961'}\n",
      "{u'created_time': u'2017-10-04T16:26:31+0000', u'message': u'No other school has accomplished what Georgia State University has in the past decade.\\n\\nAll of its students, regardless of race or income, graduate at the same rate.', u'id': u'216311481960_10154939187416961'}\n",
      "{u'created_time': u'2017-09-30T19:00:00+0000', u'message': u'Progress is possible, but it\\u2019s not inevitable. Last week in New York, our foundation came together with leaders from around the world to learn from their work and share ideas about accelerating progress toward the Global Goals.', u'story': u'Bill Gates added 5 new photos \\u2014 with Barack Obama and 3 others.', u'id': u'216311481960_10154930899531961'}\n",
      "{u'created_time': u'2017-09-30T15:40:36+0000', u'message': u'In 2007, small groups of HIV patients in Mozambique decided to challenge the traditional approach to HIV treatment. \\n\\nThis is their story.', u'id': u'216311481960_10154929589861961'}\n",
      "{u'created_time': u'2017-09-29T14:34:00+0000', u'message': u'Huge progress has been made in the fight against HIV \\u2013 but only half of the people living with the disease are receiving treatment.\\n\\nSo I was really excited when I learned about a new approach to delivering treatment.', u'id': u'216311481960_10154926825346961'}\n",
      "{u'created_time': u'2017-09-28T16:35:07+0000', u'message': u'I\\u2019ve known Satya Nadella for more than twenty years.\\n\\nSo it was no surprise to me that once he became Microsoft\\u2019s CEO, he immediately put his mark on the company. I was happy to write the foreword to his new book: http://b-gat.es/2fv6QMc #HitRefresh', u'id': u'216311481960_10154924474041961'}\n",
      "{u'created_time': u'2017-09-27T14:32:26+0000', u'message': u'I\\u2019m a big tennis fan, so when I heard about #BattleoftheSexes, the true story of the 1973 tennis match between Billie Jean King and Bobby Riggs, I couldn\\u2019t wait to see it.\\n\\nThe movie was so good, I asked my friend Elisabeth Shue (who plays Bobby Riggs\\u2019 wife Priscilla) to recreate this famous photo with me last month at the US Open.\\n\\nLittle known fact: Elisabeth is also an amazing tennis player.', u'id': u'216311481960_10154922045951961'}\n"
     ]
    }
   ],
   "source": [
    "for line in posts['data']:\n",
    "    print line"
   ]
  },
  {
   "cell_type": "code",
   "execution_count": 75,
   "metadata": {},
   "outputs": [
    {
     "name": "stdout",
     "output_type": "stream",
     "text": [
      "{\"access_token\":\"498404273873642|CtayN9Lr4C_JZbKsehcgDboMVaA\",\"token_type\":\"bearer\"}\n"
     ]
    }
   ],
   "source": [
    "import requests\n",
    "appSecret=\"78f09a54977dd08cb70cce89d02e1d89\"\n",
    "appId=\"498404273873642\"\n",
    "r = requests.get('https://graph.facebook.com/oauth/access_token?grant_type=client_credentials&client_id='+appId+'&client_secret='+appSecret)\n",
    "access_token = r.text.split('=')[0]\n",
    "print access_token"
   ]
  }
 ],
 "metadata": {
  "kernelspec": {
   "display_name": "Python 2",
   "language": "python",
   "name": "python2"
  },
  "language_info": {
   "codemirror_mode": {
    "name": "ipython",
    "version": 2
   },
   "file_extension": ".py",
   "mimetype": "text/x-python",
   "name": "python",
   "nbconvert_exporter": "python",
   "pygments_lexer": "ipython2",
   "version": "2.7.13"
  }
 },
 "nbformat": 4,
 "nbformat_minor": 1
}
