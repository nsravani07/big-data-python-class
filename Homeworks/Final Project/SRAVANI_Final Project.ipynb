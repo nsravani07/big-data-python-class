{
 "cells": [
  {
   "cell_type": "markdown",
   "metadata": {},
   "source": [
    "# TRAFFIC ACCIDENTS AND VIOLATIONS ANALYSIS"
   ]
  },
  {
   "cell_type": "markdown",
   "metadata": {},
   "source": [
    "Why analysis of traffic accidents and violations required?\n",
    "-------------------------------------------------------------"
   ]
  },
  {
   "cell_type": "markdown",
   "metadata": {},
   "source": [
    "* To understand the number of traffic violations and accidents occuring in state/city (due to alcohol, belts)\n",
    "\n",
    "* To analyse \n",
    "        \n",
    "        1) Vehicle types involved in accidents\n",
    "        2) Personal injuries and Property damages\n",
    "        3) The number of Fatal accidents\n",
    "        4) Various Violation Types\n",
    "        5) Accidents/Violations occuring in workzones\n"
   ]
  },
  {
   "cell_type": "markdown",
   "metadata": {},
   "source": [
    "Algorithm Used:\n",
    "---------------\n",
    "    \n",
    "• Pandas and Numpy\n",
    "• Clustering Algorithm\n",
    "• Association rules (Apriori Algorithm)\n",
    "• Data Visualization "
   ]
  },
  {
   "cell_type": "code",
   "execution_count": 4,
   "metadata": {
    "collapsed": true
   },
   "outputs": [],
   "source": [
    "import pandas as pd\n",
    "import numpy as np\n",
    "import seaborn as sns\n",
    "import matplotlib.pyplot as plt"
   ]
  },
  {
   "cell_type": "code",
   "execution_count": 5,
   "metadata": {},
   "outputs": [],
   "source": [
    "data = pd.read_csv(\"data\\Traffic_Violations.csv\")"
   ]
  },
  {
   "cell_type": "code",
   "execution_count": 567,
   "metadata": {},
   "outputs": [
    {
     "data": {
      "text/plain": [
       "(1048575, 23)"
      ]
     },
     "execution_count": 567,
     "metadata": {},
     "output_type": "execute_result"
    }
   ],
   "source": [
    "data.shape"
   ]
  },
  {
   "cell_type": "markdown",
   "metadata": {},
   "source": [
    "### Data Preprocessing: \n",
    "\n",
    "Eliminating the null values and columns/attributes that are not essential and making the data ready for the analysis"
   ]
  },
  {
   "cell_type": "code",
   "execution_count": 7,
   "metadata": {
    "collapsed": true
   },
   "outputs": [],
   "source": [
    "## remove the rows that has atleast one NaN value"
   ]
  },
  {
   "cell_type": "code",
   "execution_count": 6,
   "metadata": {
    "collapsed": true
   },
   "outputs": [],
   "source": [
    "pre_data = data.dropna(how='any')"
   ]
  },
  {
   "cell_type": "code",
   "execution_count": 8,
   "metadata": {},
   "outputs": [
    {
     "data": {
      "text/html": [
       "<div>\n",
       "<style>\n",
       "    .dataframe thead tr:only-child th {\n",
       "        text-align: right;\n",
       "    }\n",
       "\n",
       "    .dataframe thead th {\n",
       "        text-align: left;\n",
       "    }\n",
       "\n",
       "    .dataframe tbody tr th {\n",
       "        vertical-align: top;\n",
       "    }\n",
       "</style>\n",
       "<table border=\"1\" class=\"dataframe\">\n",
       "  <thead>\n",
       "    <tr style=\"text-align: right;\">\n",
       "      <th></th>\n",
       "      <th>Date Of Stop</th>\n",
       "      <th>Time Of Stop</th>\n",
       "      <th>SubAgency</th>\n",
       "      <th>Description</th>\n",
       "      <th>Location</th>\n",
       "      <th>Latitude</th>\n",
       "      <th>Longitude</th>\n",
       "      <th>Accident</th>\n",
       "      <th>Belts</th>\n",
       "      <th>Personal Injury</th>\n",
       "      <th>...</th>\n",
       "      <th>Work Zone</th>\n",
       "      <th>State</th>\n",
       "      <th>VehicleType</th>\n",
       "      <th>Year</th>\n",
       "      <th>Make</th>\n",
       "      <th>Violation Type</th>\n",
       "      <th>Charge</th>\n",
       "      <th>Contributed To Accident</th>\n",
       "      <th>Gender</th>\n",
       "      <th>Arrest Type</th>\n",
       "    </tr>\n",
       "  </thead>\n",
       "  <tbody>\n",
       "    <tr>\n",
       "      <th>1</th>\n",
       "      <td>08/29/2017</td>\n",
       "      <td>10:19:00</td>\n",
       "      <td>2nd district, Bethesda</td>\n",
       "      <td>DRIVER FAILURE TO OBEY PROPERLY PLACED TRAFFIC...</td>\n",
       "      <td>WISCONSIN AVE@ ELM ST</td>\n",
       "      <td>38.981725</td>\n",
       "      <td>-77.092757</td>\n",
       "      <td>No</td>\n",
       "      <td>No</td>\n",
       "      <td>No</td>\n",
       "      <td>...</td>\n",
       "      <td>No</td>\n",
       "      <td>VA</td>\n",
       "      <td>02 - Automobile</td>\n",
       "      <td>2001.0</td>\n",
       "      <td>TOYOTA</td>\n",
       "      <td>Citation</td>\n",
       "      <td>21-201(a1)</td>\n",
       "      <td>No</td>\n",
       "      <td>F</td>\n",
       "      <td>A - Marked Patrol</td>\n",
       "    </tr>\n",
       "    <tr>\n",
       "      <th>2</th>\n",
       "      <td>12/01/2014</td>\n",
       "      <td>12:52:00</td>\n",
       "      <td>6th district, Gaithersburg / Montgomery Village</td>\n",
       "      <td>FAILURE STOP AND YIELD AT THRU HWY</td>\n",
       "      <td>CHRISTOPHER AVE/MONTGOMERY VILLAGE AVE</td>\n",
       "      <td>39.162888</td>\n",
       "      <td>-77.229088</td>\n",
       "      <td>No</td>\n",
       "      <td>No</td>\n",
       "      <td>No</td>\n",
       "      <td>...</td>\n",
       "      <td>No</td>\n",
       "      <td>MD</td>\n",
       "      <td>02 - Automobile</td>\n",
       "      <td>2001.0</td>\n",
       "      <td>HONDA</td>\n",
       "      <td>Citation</td>\n",
       "      <td>21-403(b)</td>\n",
       "      <td>No</td>\n",
       "      <td>F</td>\n",
       "      <td>A - Marked Patrol</td>\n",
       "    </tr>\n",
       "    <tr>\n",
       "      <th>3</th>\n",
       "      <td>08/29/2017</td>\n",
       "      <td>9:22:00</td>\n",
       "      <td>3rd district, Silver Spring</td>\n",
       "      <td>FAILURE YIELD RIGHT OF WAY ON U TURN</td>\n",
       "      <td>CHERRY HILL RD./CALVERTON BLVD.</td>\n",
       "      <td>39.056975</td>\n",
       "      <td>-76.954633</td>\n",
       "      <td>No</td>\n",
       "      <td>No</td>\n",
       "      <td>No</td>\n",
       "      <td>...</td>\n",
       "      <td>No</td>\n",
       "      <td>MD</td>\n",
       "      <td>02 - Automobile</td>\n",
       "      <td>1998.0</td>\n",
       "      <td>DODG</td>\n",
       "      <td>Citation</td>\n",
       "      <td>21-402(b)</td>\n",
       "      <td>No</td>\n",
       "      <td>M</td>\n",
       "      <td>A - Marked Patrol</td>\n",
       "    </tr>\n",
       "    <tr>\n",
       "      <th>6</th>\n",
       "      <td>10/08/2013</td>\n",
       "      <td>13:23:00</td>\n",
       "      <td>4th district, Wheaton</td>\n",
       "      <td>DRIVING VEHICLE ON HIGHWAY WITH SUSPENDED REGI...</td>\n",
       "      <td>GEORGIA AVE / BEL PRE RD</td>\n",
       "      <td>39.093383</td>\n",
       "      <td>-77.079552</td>\n",
       "      <td>No</td>\n",
       "      <td>No</td>\n",
       "      <td>No</td>\n",
       "      <td>...</td>\n",
       "      <td>No</td>\n",
       "      <td>MD</td>\n",
       "      <td>02 - Automobile</td>\n",
       "      <td>1993.0</td>\n",
       "      <td>FORD</td>\n",
       "      <td>Citation</td>\n",
       "      <td>13-401(h)</td>\n",
       "      <td>No</td>\n",
       "      <td>M</td>\n",
       "      <td>A - Marked Patrol</td>\n",
       "    </tr>\n",
       "    <tr>\n",
       "      <th>10</th>\n",
       "      <td>02/14/2014</td>\n",
       "      <td>20:10:00</td>\n",
       "      <td>1st district, Rockville</td>\n",
       "      <td>FAILURE TO DRIVE ON RIGHT HAND ROADWAY OF DIVI...</td>\n",
       "      <td>GATEWAY CENTER DR @ CLARKSBURG RD</td>\n",
       "      <td>39.234843</td>\n",
       "      <td>-77.281540</td>\n",
       "      <td>No</td>\n",
       "      <td>No</td>\n",
       "      <td>No</td>\n",
       "      <td>...</td>\n",
       "      <td>No</td>\n",
       "      <td>MD</td>\n",
       "      <td>02 - Automobile</td>\n",
       "      <td>2005.0</td>\n",
       "      <td>CADI</td>\n",
       "      <td>Citation</td>\n",
       "      <td>21-311(1)</td>\n",
       "      <td>No</td>\n",
       "      <td>M</td>\n",
       "      <td>A - Marked Patrol</td>\n",
       "    </tr>\n",
       "  </tbody>\n",
       "</table>\n",
       "<p>5 rows × 23 columns</p>\n",
       "</div>"
      ],
      "text/plain": [
       "   Date Of Stop Time Of Stop                                        SubAgency  \\\n",
       "1    08/29/2017     10:19:00                           2nd district, Bethesda   \n",
       "2    12/01/2014     12:52:00  6th district, Gaithersburg / Montgomery Village   \n",
       "3    08/29/2017      9:22:00                      3rd district, Silver Spring   \n",
       "6    10/08/2013     13:23:00                            4th district, Wheaton   \n",
       "10   02/14/2014     20:10:00                          1st district, Rockville   \n",
       "\n",
       "                                          Description  \\\n",
       "1   DRIVER FAILURE TO OBEY PROPERLY PLACED TRAFFIC...   \n",
       "2                  FAILURE STOP AND YIELD AT THRU HWY   \n",
       "3                FAILURE YIELD RIGHT OF WAY ON U TURN   \n",
       "6   DRIVING VEHICLE ON HIGHWAY WITH SUSPENDED REGI...   \n",
       "10  FAILURE TO DRIVE ON RIGHT HAND ROADWAY OF DIVI...   \n",
       "\n",
       "                                  Location   Latitude  Longitude Accident  \\\n",
       "1                    WISCONSIN AVE@ ELM ST  38.981725 -77.092757       No   \n",
       "2   CHRISTOPHER AVE/MONTGOMERY VILLAGE AVE  39.162888 -77.229088       No   \n",
       "3          CHERRY HILL RD./CALVERTON BLVD.  39.056975 -76.954633       No   \n",
       "6                 GEORGIA AVE / BEL PRE RD  39.093383 -77.079552       No   \n",
       "10       GATEWAY CENTER DR @ CLARKSBURG RD  39.234843 -77.281540       No   \n",
       "\n",
       "   Belts Personal Injury        ...         Work Zone State      VehicleType  \\\n",
       "1     No              No        ...                No    VA  02 - Automobile   \n",
       "2     No              No        ...                No    MD  02 - Automobile   \n",
       "3     No              No        ...                No    MD  02 - Automobile   \n",
       "6     No              No        ...                No    MD  02 - Automobile   \n",
       "10    No              No        ...                No    MD  02 - Automobile   \n",
       "\n",
       "      Year    Make Violation Type      Charge Contributed To Accident Gender  \\\n",
       "1   2001.0  TOYOTA       Citation  21-201(a1)                      No      F   \n",
       "2   2001.0   HONDA       Citation   21-403(b)                      No      F   \n",
       "3   1998.0    DODG       Citation   21-402(b)                      No      M   \n",
       "6   1993.0    FORD       Citation   13-401(h)                      No      M   \n",
       "10  2005.0    CADI       Citation   21-311(1)                      No      M   \n",
       "\n",
       "          Arrest Type  \n",
       "1   A - Marked Patrol  \n",
       "2   A - Marked Patrol  \n",
       "3   A - Marked Patrol  \n",
       "6   A - Marked Patrol  \n",
       "10  A - Marked Patrol  \n",
       "\n",
       "[5 rows x 23 columns]"
      ]
     },
     "execution_count": 8,
     "metadata": {},
     "output_type": "execute_result"
    }
   ],
   "source": [
    "data_upd = data.dropna(how='any')\n",
    "data_upd.head()"
   ]
  },
  {
   "cell_type": "markdown",
   "metadata": {},
   "source": [
    "Assign unique number to each value in the column \"State\" of the panda dataframe"
   ]
  },
  {
   "cell_type": "code",
   "execution_count": 9,
   "metadata": {},
   "outputs": [
    {
     "data": {
      "text/plain": [
       "VA    0\n",
       "MD    1\n",
       "DC    2\n",
       "PA    3\n",
       "NY    4\n",
       "dtype: int32"
      ]
     },
     "execution_count": 9,
     "metadata": {},
     "output_type": "execute_result"
    }
   ],
   "source": [
    "names = data_upd.State.unique()\n",
    "col_labels = pd.Series(np.arange(len(names)), names)\n",
    "col_labels[:5]"
   ]
  },
  {
   "cell_type": "code",
   "execution_count": 10,
   "metadata": {},
   "outputs": [
    {
     "data": {
      "text/plain": [
       "array(['VA', 'MD', 'DC', 'PA', 'NY', 'TN', 'DE', 'XX', 'MA', 'WV', 'FL',\n",
       "       'US', 'IN', 'NJ', 'MI', 'CA', 'GA', 'OH', 'OK', 'WA', 'SC', 'CT',\n",
       "       'NC', 'IL', 'AL', 'VI', 'MO', 'TX', 'KY', 'AZ', 'ME', 'ON', 'NH',\n",
       "       'NM', 'MS', 'LA', 'RI', 'NV', 'MN', 'ID', 'WI', 'AR', 'VT', 'CO',\n",
       "       'OR', 'AK', 'KS', 'NB', 'MT', 'MB', 'IA', 'UT', 'PR', 'HI', 'AB',\n",
       "       'NE', 'WY', 'NF', 'QC', 'SD', 'ND', 'PQ', 'MH', 'PE', 'BC', 'GU',\n",
       "       'NS', 'AS'], dtype=object)"
      ]
     },
     "execution_count": 10,
     "metadata": {},
     "output_type": "execute_result"
    }
   ],
   "source": [
    "names"
   ]
  },
  {
   "cell_type": "code",
   "execution_count": 12,
   "metadata": {},
   "outputs": [],
   "source": [
    "d = data_upd[['State']].applymap(col_labels.get) # Apply label to each value in the column \"State\"\n",
    "data_upd.loc[:,'State'] = d ## Update the row \"State\" in the dataframe"
   ]
  },
  {
   "cell_type": "markdown",
   "metadata": {},
   "source": [
    "### Clustering\n",
    "\n",
    "Divide the data into clusters based on the labels assigned to each value in the column \"State\" of panda dataframe"
   ]
  },
  {
   "cell_type": "code",
   "execution_count": 13,
   "metadata": {
    "collapsed": true
   },
   "outputs": [],
   "source": [
    "from sklearn.cluster import KMeans\n",
    "\n",
    "kmeans_model = KMeans(n_clusters=5, max_iter=1000, random_state=1).fit(data_upd.iloc[:, 14:15])\n",
    "\n",
    "labels = kmeans_model.labels_\n",
    "\n",
    "#print(pd.crosstab(labels, data_upd[\"State\"]))\n",
    "data_cluster = pd.DataFrame(labels, data_upd)"
   ]
  },
  {
   "cell_type": "code",
   "execution_count": 14,
   "metadata": {},
   "outputs": [
    {
     "data": {
      "text/plain": [
       "KMeans(algorithm='auto', copy_x=True, init='k-means++', max_iter=1000,\n",
       "    n_clusters=5, n_init=10, n_jobs=1, precompute_distances='auto',\n",
       "    random_state=1, tol=0.0001, verbose=0)"
      ]
     },
     "execution_count": 14,
     "metadata": {},
     "output_type": "execute_result"
    }
   ],
   "source": [
    "kmeans_model"
   ]
  },
  {
   "cell_type": "code",
   "execution_count": 15,
   "metadata": {
    "collapsed": true
   },
   "outputs": [],
   "source": [
    "data_upd.loc[:,'State'] = labels "
   ]
  },
  {
   "cell_type": "code",
   "execution_count": 14,
   "metadata": {},
   "outputs": [
    {
     "data": {
      "text/plain": [
       "array([0, 0, 0, ..., 0, 0, 0])"
      ]
     },
     "execution_count": 14,
     "metadata": {},
     "output_type": "execute_result"
    }
   ],
   "source": [
    "la = kmeans_model.predict(data_upd.iloc[:, 14:15])\n",
    "la"
   ]
  },
  {
   "cell_type": "code",
   "execution_count": 568,
   "metadata": {
    "collapsed": true
   },
   "outputs": [],
   "source": [
    "## display the rows that are present in each cluster"
   ]
  },
  {
   "cell_type": "code",
   "execution_count": 16,
   "metadata": {},
   "outputs": [
    {
     "data": {
      "text/html": [
       "<div>\n",
       "<style>\n",
       "    .dataframe thead tr:only-child th {\n",
       "        text-align: right;\n",
       "    }\n",
       "\n",
       "    .dataframe thead th {\n",
       "        text-align: left;\n",
       "    }\n",
       "\n",
       "    .dataframe tbody tr th {\n",
       "        vertical-align: top;\n",
       "    }\n",
       "</style>\n",
       "<table border=\"1\" class=\"dataframe\">\n",
       "  <thead>\n",
       "    <tr style=\"text-align: right;\">\n",
       "      <th></th>\n",
       "      <th>0</th>\n",
       "      <th>1</th>\n",
       "      <th>2</th>\n",
       "      <th>3</th>\n",
       "      <th>4</th>\n",
       "    </tr>\n",
       "  </thead>\n",
       "  <tbody>\n",
       "    <tr>\n",
       "      <th>0</th>\n",
       "      <td>[0, 1, 2, 3, 4, 5, 6, 7, 8, 9, 10, 11, 12, 13,...</td>\n",
       "      <td>[1422, 1481, 1771, 1836, 1923, 2291, 2294, 233...</td>\n",
       "      <td>[6955, 7228, 8972, 8973, 8974, 8975, 8976, 897...</td>\n",
       "      <td>[87, 95, 120, 149, 163, 208, 239, 326, 366, 40...</td>\n",
       "      <td>[407, 539, 759, 843, 903, 932, 960, 966, 1035,...</td>\n",
       "    </tr>\n",
       "  </tbody>\n",
       "</table>\n",
       "</div>"
      ],
      "text/plain": [
       "                                                   0  \\\n",
       "0  [0, 1, 2, 3, 4, 5, 6, 7, 8, 9, 10, 11, 12, 13,...   \n",
       "\n",
       "                                                   1  \\\n",
       "0  [1422, 1481, 1771, 1836, 1923, 2291, 2294, 233...   \n",
       "\n",
       "                                                   2  \\\n",
       "0  [6955, 7228, 8972, 8973, 8974, 8975, 8976, 897...   \n",
       "\n",
       "                                                   3  \\\n",
       "0  [87, 95, 120, 149, 163, 208, 239, 326, 366, 40...   \n",
       "\n",
       "                                                   4  \n",
       "0  [407, 539, 759, 843, 903, 932, 960, 966, 1035,...  "
      ]
     },
     "execution_count": 16,
     "metadata": {},
     "output_type": "execute_result"
    }
   ],
   "source": [
    "cluster = pd.DataFrame()\n",
    "for i in range(5):\n",
    "    cluster[i] = np.where(labels==i)\n",
    "    \n",
    "cluster"
   ]
  },
  {
   "cell_type": "code",
   "execution_count": 18,
   "metadata": {},
   "outputs": [],
   "source": [
    "pre_data.loc[:, 'State_lab'] = data_upd['State']"
   ]
  },
  {
   "cell_type": "code",
   "execution_count": 569,
   "metadata": {
    "collapsed": true
   },
   "outputs": [],
   "source": [
    "## display the states that are present in each cluster"
   ]
  },
  {
   "cell_type": "code",
   "execution_count": 19,
   "metadata": {},
   "outputs": [
    {
     "name": "stdout",
     "output_type": "stream",
     "text": [
      "States in Cluster 1\n",
      "['VA' 'MD' 'DC' 'PA' 'NY']\n",
      "States in Cluster 2\n",
      "['CT' 'NC' 'IL' 'AL' 'VI' 'MO' 'TX' 'KY' 'AZ' 'ME' 'ON' 'NH' 'NM']\n",
      "States in Cluster 3\n",
      "['MS' 'LA' 'RI' 'NV' 'MN' 'ID' 'WI' 'AR' 'VT' 'CO' 'OR' 'AK' 'KS' 'NB' 'MT'\n",
      " 'MB' 'IA' 'UT' 'PR' 'HI' 'AB' 'NE' 'WY' 'NF' 'QC' 'SD' 'ND' 'PQ' 'MH' 'PE'\n",
      " 'BC' 'GU' 'NS' 'AS']\n",
      "States in Cluster 4\n",
      "['TN' 'DE' 'XX' 'MA' 'WV' 'FL' 'US' 'IN']\n",
      "States in Cluster 5\n",
      "['NJ' 'MI' 'CA' 'GA' 'OH' 'OK' 'WA' 'SC']\n"
     ]
    }
   ],
   "source": [
    "tv1 = (pre_data.loc[pre_data['State_lab'] == 0])\n",
    "print \"States in Cluster 1\"\n",
    "print tv1['State'].unique()\n",
    "tv2 = (pre_data.loc[pre_data['State_lab'] == 1])\n",
    "print \"States in Cluster 2\"\n",
    "print tv2['State'].unique()\n",
    "tv3 = (pre_data.loc[pre_data['State_lab'] == 2])\n",
    "print \"States in Cluster 3\"\n",
    "print tv3['State'].unique()\n",
    "tv4 = (pre_data.loc[pre_data['State_lab'] == 3])\n",
    "print \"States in Cluster 4\"\n",
    "print tv4['State'].unique()\n",
    "tv5 = (pre_data.loc[pre_data['State_lab'] == 4])\n",
    "print \"States in Cluster 5\"\n",
    "print tv5['State'].unique()"
   ]
  },
  {
   "cell_type": "markdown",
   "metadata": {},
   "source": [
    "Association Rules\n",
    "-------------------\n",
    "\n",
    "Association rules analysis is a technique to uncover how items are associated to each other. \n",
    "\n",
    "There are three common ways to measure association:\n",
    "\n",
    "* Measure 1: Support - This says how popular an itemset is, as measured by the proportion of transactions in which an itemset     appears.\n",
    "\n",
    "\n",
    "* Measure 2: Confidence - This says how likely item Y is purchased when item X is purchased, expressed as {X -> Y}. This is \n",
    "  measured by the proportion of transactions with item X, in which item Y also appears.\n",
    "  \n",
    "\n",
    "* Measure 3: Lift - This says how likely item Y is purchased when item X is purchased, while controlling for how popular item     Y is."
   ]
  },
  {
   "cell_type": "code",
   "execution_count": 467,
   "metadata": {
    "collapsed": true
   },
   "outputs": [],
   "source": [
    "tv1_assoc = tv1.loc[:, ['Accident','Belts','Personal Injury','Property Damage','Fatal','Alcohol','Work Zone','State','VehicleType','Violation Type','Contributed To Accident','Gender']]"
   ]
  },
  {
   "cell_type": "code",
   "execution_count": 20,
   "metadata": {
    "collapsed": true
   },
   "outputs": [],
   "source": [
    "import apriori as ap"
   ]
  },
  {
   "cell_type": "code",
   "execution_count": 468,
   "metadata": {
    "collapsed": true
   },
   "outputs": [],
   "source": [
    "tv1_assoc.to_csv('tv1.csv')\n",
    "#tv2.to_csv('tv2.csv')\n",
    "#tv3.to_csv('tv3.csv')\n",
    "#tv4.to_csv('tv4.csv')\n",
    "#tv5.to_csv('tv5.csv')"
   ]
  },
  {
   "cell_type": "code",
   "execution_count": 482,
   "metadata": {
    "collapsed": true
   },
   "outputs": [],
   "source": [
    "#dataset5 = [line.split(',') for line in open('tv5.csv').readlines()]\n",
    "dataset1 = [line.strip().split(',') for line in open('tv1.csv').readlines()]\n",
    "set1 = []\n",
    "for s in dataset1:\n",
    "    t = [u for u in s]\n",
    "    set1.append(t)"
   ]
  },
  {
   "cell_type": "code",
   "execution_count": 575,
   "metadata": {
    "collapsed": true
   },
   "outputs": [],
   "source": [
    "L, support = ap.apriori(set1[:30000], minSupport=0.5)"
   ]
  },
  {
   "cell_type": "code",
   "execution_count": null,
   "metadata": {
    "collapsed": true,
    "scrolled": true
   },
   "outputs": [],
   "source": [
    "#ruleList = ap.generateRules(L, support, minConf=0.8)"
   ]
  },
  {
   "cell_type": "code",
   "execution_count": 576,
   "metadata": {},
   "outputs": [
    {
     "name": "stdout",
     "output_type": "stream",
     "text": [
      "frozenset(['02 - Automobile']) --> frozenset(['MD']) conf: 0.91346923917\n",
      "frozenset(['MD']) --> frozenset(['02 - Automobile']) conf: 0.916137276378\n",
      "frozenset(['Citation']) --> frozenset(['02 - Automobile']) conf: 0.916618595626\n",
      "frozenset(['No']) --> frozenset(['MD']) conf: 0.913030434348\n",
      "frozenset(['MD']) --> frozenset(['No']) conf: 1.0\n",
      "frozenset(['M']) --> frozenset(['MD']) conf: 0.906317663475\n",
      "frozenset(['M']) --> frozenset(['No']) conf: 1.0\n",
      "frozenset(['Citation']) --> frozenset(['No']) conf: 1.0\n",
      "frozenset(['M']) --> frozenset(['02 - Automobile']) conf: 0.907520569696\n",
      "frozenset(['Citation']) --> frozenset(['MD']) conf: 0.911531805548\n",
      "frozenset(['No']) --> frozenset(['02 - Automobile']) conf: 0.915697189906\n",
      "frozenset(['02 - Automobile']) --> frozenset(['No']) conf: 1.0\n",
      "freqSet: frozenset(['MD', 'Citation', '02 - Automobile'])\n",
      "frozenset(['Citation', '02 - Automobile']) --> frozenset(['MD']) conf: 0.912409176726\n",
      "frozenset(['MD', 'Citation']) --> frozenset(['02 - Automobile']) conf: 0.917500862962\n",
      "m: 1 Hmp1 now: [frozenset(['MD']), frozenset(['02 - Automobile'])]\n",
      "Hmp1: [frozenset(['MD', '02 - Automobile'])]\n",
      "frozenset(['Citation']) --> frozenset(['MD', '02 - Automobile']) conf: 0.836331218208\n",
      "Hmp1 after calculate: [frozenset(['MD', '02 - Automobile'])]\n",
      "freqSet: frozenset(['MD', 'Citation', 'No'])\n",
      "frozenset(['Citation', 'No']) --> frozenset(['MD']) conf: 0.911531805548\n",
      "frozenset(['MD', 'Citation']) --> frozenset(['No']) conf: 1.0\n",
      "m: 1 Hmp1 now: [frozenset(['MD']), frozenset(['No'])]\n",
      "Hmp1: [frozenset(['MD', 'No'])]\n",
      "frozenset(['Citation']) --> frozenset(['MD', 'No']) conf: 0.911531805548\n",
      "Hmp1 after calculate: [frozenset(['MD', 'No'])]\n",
      "freqSet: frozenset(['MD', '02 - Automobile', 'No'])\n",
      "frozenset(['02 - Automobile', 'No']) --> frozenset(['MD']) conf: 0.91346923917\n",
      "frozenset(['MD', 'No']) --> frozenset(['02 - Automobile']) conf: 0.916137276378\n",
      "frozenset(['MD', '02 - Automobile']) --> frozenset(['No']) conf: 1.0\n",
      "m: 1 Hmp1 now: [frozenset(['MD']), frozenset(['02 - Automobile']), frozenset(['No'])]\n",
      "Hmp1: [frozenset(['MD', '02 - Automobile']), frozenset(['MD', 'No']), frozenset(['02 - Automobile', 'No'])]\n",
      "frozenset(['No']) --> frozenset(['MD', '02 - Automobile']) conf: 0.836461215374\n",
      "frozenset(['02 - Automobile']) --> frozenset(['MD', 'No']) conf: 0.91346923917\n",
      "frozenset(['MD']) --> frozenset(['02 - Automobile', 'No']) conf: 0.916137276378\n",
      "Hmp1 after calculate: [frozenset(['MD', '02 - Automobile']), frozenset(['MD', 'No']), frozenset(['02 - Automobile', 'No'])]\n",
      "freqSet: frozenset(['MD', '02 - Automobile', 'No'])\n",
      "frozenset(['No']) --> frozenset(['MD', '02 - Automobile']) conf: 0.836461215374\n",
      "frozenset(['02 - Automobile']) --> frozenset(['MD', 'No']) conf: 0.91346923917\n",
      "frozenset(['MD']) --> frozenset(['02 - Automobile', 'No']) conf: 0.916137276378\n",
      "m: 2 Hmp1 now: [frozenset(['MD', '02 - Automobile']), frozenset(['MD', 'No']), frozenset(['02 - Automobile', 'No'])]\n",
      "freqSet: frozenset(['M', '02 - Automobile', 'No'])\n",
      "frozenset(['M', 'No']) --> frozenset(['02 - Automobile']) conf: 0.907520569696\n",
      "frozenset(['M', '02 - Automobile']) --> frozenset(['No']) conf: 1.0\n",
      "m: 1 Hmp1 now: [frozenset(['02 - Automobile']), frozenset(['No'])]\n",
      "Hmp1: [frozenset(['02 - Automobile', 'No'])]\n",
      "frozenset(['M']) --> frozenset(['02 - Automobile', 'No']) conf: 0.907520569696\n",
      "Hmp1 after calculate: [frozenset(['02 - Automobile', 'No'])]\n",
      "freqSet: frozenset(['MD', 'M', '02 - Automobile'])\n",
      "frozenset(['M', '02 - Automobile']) --> frozenset(['MD']) conf: 0.906420656381\n",
      "frozenset(['MD', 'M']) --> frozenset(['02 - Automobile']) conf: 0.907623699299\n",
      "m: 1 Hmp1 now: [frozenset(['MD']), frozenset(['02 - Automobile'])]\n",
      "Hmp1: [frozenset(['MD', '02 - Automobile'])]\n",
      "frozenset(['M']) --> frozenset(['MD', '02 - Automobile']) conf: 0.822595390463\n",
      "Hmp1 after calculate: [frozenset(['MD', '02 - Automobile'])]\n",
      "freqSet: frozenset(['MD', 'M', 'No'])\n",
      "frozenset(['M', 'No']) --> frozenset(['MD']) conf: 0.906317663475\n",
      "frozenset(['MD', 'M']) --> frozenset(['No']) conf: 1.0\n",
      "m: 1 Hmp1 now: [frozenset(['MD']), frozenset(['No'])]\n",
      "Hmp1: [frozenset(['MD', 'No'])]\n",
      "frozenset(['M']) --> frozenset(['MD', 'No']) conf: 0.906317663475\n",
      "Hmp1 after calculate: [frozenset(['MD', 'No'])]\n",
      "freqSet: frozenset(['Citation', '02 - Automobile', 'No'])\n",
      "frozenset(['Citation', 'No']) --> frozenset(['02 - Automobile']) conf: 0.916618595626\n",
      "frozenset(['Citation', '02 - Automobile']) --> frozenset(['No']) conf: 1.0\n",
      "m: 1 Hmp1 now: [frozenset(['02 - Automobile']), frozenset(['No'])]\n",
      "Hmp1: [frozenset(['02 - Automobile', 'No'])]\n",
      "frozenset(['Citation']) --> frozenset(['02 - Automobile', 'No']) conf: 0.916618595626\n",
      "Hmp1 after calculate: [frozenset(['02 - Automobile', 'No'])]\n",
      "freqSet: frozenset(['MD', '02 - Automobile', 'No', 'M'])\n",
      "frozenset(['M', '02 - Automobile', 'No']) --> frozenset(['MD']) conf: 0.906420656381\n",
      "frozenset(['MD', 'M', 'No']) --> frozenset(['02 - Automobile']) conf: 0.907623699299\n",
      "frozenset(['MD', 'M', '02 - Automobile']) --> frozenset(['No']) conf: 1.0\n",
      "m: 1 Hmp1 now: [frozenset(['MD']), frozenset(['02 - Automobile']), frozenset(['No'])]\n",
      "Hmp1: [frozenset(['MD', '02 - Automobile']), frozenset(['MD', 'No']), frozenset(['02 - Automobile', 'No'])]\n",
      "frozenset(['M', 'No']) --> frozenset(['MD', '02 - Automobile']) conf: 0.822595390463\n",
      "frozenset(['M', '02 - Automobile']) --> frozenset(['MD', 'No']) conf: 0.906420656381\n",
      "frozenset(['MD', 'M']) --> frozenset(['02 - Automobile', 'No']) conf: 0.907623699299\n",
      "Hmp1 after calculate: [frozenset(['MD', '02 - Automobile']), frozenset(['MD', 'No']), frozenset(['02 - Automobile', 'No'])]\n",
      "freqSet: frozenset(['MD', '02 - Automobile', 'No', 'M'])\n",
      "frozenset(['M', 'No']) --> frozenset(['MD', '02 - Automobile']) conf: 0.822595390463\n",
      "frozenset(['M', '02 - Automobile']) --> frozenset(['MD', 'No']) conf: 0.906420656381\n",
      "frozenset(['MD', 'M']) --> frozenset(['02 - Automobile', 'No']) conf: 0.907623699299\n",
      "m: 2 Hmp1 now: [frozenset(['MD', '02 - Automobile']), frozenset(['MD', 'No']), frozenset(['02 - Automobile', 'No'])]\n",
      "Hmp1: [frozenset(['MD', '02 - Automobile', 'No'])]\n",
      "frozenset(['M']) --> frozenset(['MD', '02 - Automobile', 'No']) conf: 0.822595390463\n",
      "Hmp1 after calculate: [frozenset(['MD', '02 - Automobile', 'No'])]\n",
      "freqSet: frozenset(['MD', '02 - Automobile', 'No', 'Citation'])\n",
      "frozenset(['Citation', '02 - Automobile', 'No']) --> frozenset(['MD']) conf: 0.912409176726\n",
      "frozenset(['MD', 'Citation', 'No']) --> frozenset(['02 - Automobile']) conf: 0.917500862962\n",
      "frozenset(['MD', 'Citation', '02 - Automobile']) --> frozenset(['No']) conf: 1.0\n",
      "m: 1 Hmp1 now: [frozenset(['MD']), frozenset(['02 - Automobile']), frozenset(['No'])]\n",
      "Hmp1: [frozenset(['MD', '02 - Automobile']), frozenset(['MD', 'No']), frozenset(['02 - Automobile', 'No'])]\n",
      "frozenset(['Citation', 'No']) --> frozenset(['MD', '02 - Automobile']) conf: 0.836331218208\n",
      "frozenset(['Citation', '02 - Automobile']) --> frozenset(['MD', 'No']) conf: 0.912409176726\n",
      "frozenset(['MD', 'Citation']) --> frozenset(['02 - Automobile', 'No']) conf: 0.917500862962\n",
      "Hmp1 after calculate: [frozenset(['MD', '02 - Automobile']), frozenset(['MD', 'No']), frozenset(['02 - Automobile', 'No'])]\n",
      "freqSet: frozenset(['MD', '02 - Automobile', 'No', 'Citation'])\n",
      "frozenset(['Citation', 'No']) --> frozenset(['MD', '02 - Automobile']) conf: 0.836331218208\n",
      "frozenset(['Citation', '02 - Automobile']) --> frozenset(['MD', 'No']) conf: 0.912409176726\n",
      "frozenset(['MD', 'Citation']) --> frozenset(['02 - Automobile', 'No']) conf: 0.917500862962\n",
      "m: 2 Hmp1 now: [frozenset(['MD', '02 - Automobile']), frozenset(['MD', 'No']), frozenset(['02 - Automobile', 'No'])]\n",
      "Hmp1: [frozenset(['MD', '02 - Automobile', 'No'])]\n",
      "frozenset(['Citation']) --> frozenset(['MD', '02 - Automobile', 'No']) conf: 0.836331218208\n",
      "Hmp1 after calculate: [frozenset(['MD', '02 - Automobile', 'No'])]\n"
     ]
    }
   ],
   "source": [
    "rules = ap.generateRules(L, support)"
   ]
  },
  {
   "cell_type": "code",
   "execution_count": 20,
   "metadata": {},
   "outputs": [
    {
     "data": {
      "text/plain": [
       "7239"
      ]
     },
     "execution_count": 20,
     "metadata": {},
     "output_type": "execute_result"
    }
   ],
   "source": [
    "f = tv1.loc[(tv1['Gender'] == 'F') & (tv1['Contributed To Accident'] == 'Yes')]\n",
    "f['Gender'].count()"
   ]
  },
  {
   "cell_type": "code",
   "execution_count": 21,
   "metadata": {},
   "outputs": [],
   "source": [
    "acc1 = tv1.loc[tv1['Contributed To Accident'] == 'Yes']\n",
    "acc_count1 = acc1['Gender'].value_counts()\n",
    "acc2 = tv2.loc[tv2['Contributed To Accident'] == 'Yes']\n",
    "acc_count2 = acc2['Gender'].value_counts()\n",
    "acc3 = tv3.loc[tv3['Contributed To Accident'] == 'Yes']\n",
    "acc_count3 = acc3['Gender'].value_counts()\n",
    "acc4 = tv4.loc[tv4['Contributed To Accident'] == 'Yes']\n",
    "acc_count4 = acc4['Gender'].value_counts()\n",
    "acc5 = tv5.loc[tv5['Contributed To Accident'] == 'Yes']\n",
    "acc_count5 = acc5['Gender'].value_counts()"
   ]
  },
  {
   "cell_type": "code",
   "execution_count": 25,
   "metadata": {},
   "outputs": [
    {
     "data": {
      "image/png": "[encoded data removed]",
      "text/plain": [
       "<matplotlib.figure.Figure at 0x5e4a5b38>"
      ]
     },
     "metadata": {},
     "output_type": "display_data"
    },
    {
     "data": {
      "image/png": "[encoded data removed]",
      "text/plain": [
       "<matplotlib.figure.Figure at 0x5efedb38>"
      ]
     },
     "metadata": {},
     "output_type": "display_data"
    },
    {
     "data": {
      "image/png": "[encoded data removed]",
      "text/plain": [
       "<matplotlib.figure.Figure at 0x4be0a9b0>"
      ]
     },
     "metadata": {},
     "output_type": "display_data"
    },
    {
     "data": {
      "image/png": "[encoded data removed]",
      "text/plain": [
       "<matplotlib.figure.Figure at 0x4c013c18>"
      ]
     },
     "metadata": {},
     "output_type": "display_data"
    },
    {
     "data": {
      "image/png": "[encoded data removed]",
      "text/plain": [
       "<matplotlib.figure.Figure at 0x4c126630>"
      ]
     },
     "metadata": {},
     "output_type": "display_data"
    }
   ],
   "source": [
    "ax1=acc_count1.plot(kind='bar', width = 0.6, align='center',fontsize=10)\n",
    "ax1.set_title('Accidents By Gender in Cluster1',fontsize=14, fontweight='bold')\n",
    "plt.show()\n",
    "\n",
    "ax2=acc_count2.plot(kind='bar', width = 0.6, align='center',fontsize=10)\n",
    "ax2.set_title('Accidents By Gender in Cluster2',fontsize=14, fontweight='bold')\n",
    "plt.show()\n",
    "\n",
    "ax3=acc_count3.plot(kind='bar', width = 0.6, align='center',fontsize=10)\n",
    "ax3.set_title('Accidents By Gender in Cluster3',fontsize=14, fontweight='bold')\n",
    "plt.show()\n",
    "\n",
    "ax4=acc_count4.plot(kind='bar', width = 0.6, align='center',fontsize=10)\n",
    "ax4.set_title('Accidents By Gender in Cluster4',fontsize=14, fontweight='bold')\n",
    "plt.show()\n",
    "\n",
    "ax5=acc_count5.plot(kind='bar', width = 0.6, align='center',fontsize=10)\n",
    "ax5.set_title('Accidents By Gender in Cluster5',fontsize=14, fontweight='bold')\n",
    "plt.show()"
   ]
  },
  {
   "cell_type": "code",
   "execution_count": 23,
   "metadata": {},
   "outputs": [
    {
     "data": {
      "text/plain": [
       "M    14720\n",
       "F     7239\n",
       "U       18\n",
       "Name: Gender, dtype: int64"
      ]
     },
     "execution_count": 23,
     "metadata": {},
     "output_type": "execute_result"
    }
   ],
   "source": [
    "acc = tv1.loc[tv1['Contributed To Accident'] == 'Yes']\n",
    "acc_count =  acc['Gender'].value_counts()\n",
    "acc_count"
   ]
  },
  {
   "cell_type": "code",
   "execution_count": 437,
   "metadata": {},
   "outputs": [
    {
     "data": {
      "image/png": "[encoded data removed]",
      "text/plain": [
       "<matplotlib.figure.Figure at 0x108277b00>"
      ]
     },
     "metadata": {},
     "output_type": "display_data"
    }
   ],
   "source": [
    "ax = acc_count.plot(kind='bar', figsize=(8, 6), fontsize=12)\n",
    "ax.set_title('Accidents By Gender in Cluster1', fontsize=20, fontweight='bold')\n",
    "ax.set_ylabel(\"Counts\", fontsize=12)\n",
    "plt.show()"
   ]
  },
  {
   "cell_type": "code",
   "execution_count": 27,
   "metadata": {},
   "outputs": [
    {
     "data": {
      "image/png": "[encoded data removed]",
      "text/plain": [
       "<matplotlib.figure.Figure at 0x5e5d12e8>"
      ]
     },
     "metadata": {},
     "output_type": "display_data"
    }
   ],
   "source": [
    "z = tv1.loc[:, ['State' ,'Gender', 'Contributed To Accident']]\n",
    "z['Contributed To Accident'] = 'Yes'\n",
    "(z['State'].value_counts()).plot(kind='pie', startangle=90, explode=(0, 0, 0.25, 0, 0.25), autopct='%1.1f%%', radius=1.2)\n",
    "plt.show()"
   ]
  },
  {
   "cell_type": "code",
   "execution_count": 28,
   "metadata": {
    "collapsed": true
   },
   "outputs": [],
   "source": [
    "tv1_ = tv1.loc[:, ['State' ,'Belts', 'Fatal', 'Personal Injury', 'Property Damage','Work Zone','Alcohol', 'Gender', 'Violation Type', 'Contributed To Accident']]"
   ]
  },
  {
   "cell_type": "code",
   "execution_count": 29,
   "metadata": {},
   "outputs": [
    {
     "data": {
      "text/plain": [
       "Citation    20597\n",
       "Warning      1251\n",
       "ESERO         124\n",
       "SERO            5\n",
       "Name: Violation Type, dtype: int64"
      ]
     },
     "execution_count": 29,
     "metadata": {},
     "output_type": "execute_result"
    }
   ],
   "source": [
    "tv1_ = tv1_.loc[tv1_['Contributed To Accident'] == 'Yes']\n",
    "tv1_['Violation Type'].value_counts()"
   ]
  },
  {
   "cell_type": "code",
   "execution_count": 30,
   "metadata": {},
   "outputs": [
    {
     "data": {
      "text/html": [
       "<div>\n",
       "<style>\n",
       "    .dataframe thead tr:only-child th {\n",
       "        text-align: right;\n",
       "    }\n",
       "\n",
       "    .dataframe thead th {\n",
       "        text-align: left;\n",
       "    }\n",
       "\n",
       "    .dataframe tbody tr th {\n",
       "        vertical-align: top;\n",
       "    }\n",
       "</style>\n",
       "<table border=\"1\" class=\"dataframe\">\n",
       "  <thead>\n",
       "    <tr style=\"text-align: right;\">\n",
       "      <th></th>\n",
       "      <th>State</th>\n",
       "      <th>Belts</th>\n",
       "      <th>Fatal</th>\n",
       "      <th>Personal Injury</th>\n",
       "      <th>Property Damage</th>\n",
       "      <th>Work Zone</th>\n",
       "      <th>Alcohol</th>\n",
       "      <th>Gender</th>\n",
       "      <th>Violation Type</th>\n",
       "      <th>Contributed To Accident</th>\n",
       "    </tr>\n",
       "  </thead>\n",
       "  <tbody>\n",
       "    <tr>\n",
       "      <th>938093</th>\n",
       "      <td>MD</td>\n",
       "      <td>No</td>\n",
       "      <td>No</td>\n",
       "      <td>No</td>\n",
       "      <td>Yes</td>\n",
       "      <td>Yes</td>\n",
       "      <td>No</td>\n",
       "      <td>M</td>\n",
       "      <td>Citation</td>\n",
       "      <td>Yes</td>\n",
       "    </tr>\n",
       "  </tbody>\n",
       "</table>\n",
       "</div>"
      ],
      "text/plain": [
       "       State Belts Fatal Personal Injury Property Damage Work Zone Alcohol  \\\n",
       "938093    MD    No    No              No             Yes       Yes      No   \n",
       "\n",
       "       Gender Violation Type Contributed To Accident  \n",
       "938093      M       Citation                     Yes  "
      ]
     },
     "execution_count": 30,
     "metadata": {},
     "output_type": "execute_result"
    }
   ],
   "source": [
    "f = tv1_.loc[(tv1_['Gender'] == 'M') & (tv1_['Work Zone'] == 'Yes') & (tv1_['Contributed To Accident'] == 'Yes')]\n",
    "f"
   ]
  },
  {
   "cell_type": "code",
   "execution_count": 31,
   "metadata": {},
   "outputs": [
    {
     "data": {
      "text/html": [
       "<div>\n",
       "<style>\n",
       "    .dataframe thead tr:only-child th {\n",
       "        text-align: right;\n",
       "    }\n",
       "\n",
       "    .dataframe thead th {\n",
       "        text-align: left;\n",
       "    }\n",
       "\n",
       "    .dataframe tbody tr th {\n",
       "        vertical-align: top;\n",
       "    }\n",
       "</style>\n",
       "<table border=\"1\" class=\"dataframe\">\n",
       "  <thead>\n",
       "    <tr style=\"text-align: right;\">\n",
       "      <th></th>\n",
       "      <th>Alcohol</th>\n",
       "      <th>Fatal</th>\n",
       "      <th>Property Damage</th>\n",
       "      <th>Personal Injury</th>\n",
       "      <th>Work Zone</th>\n",
       "    </tr>\n",
       "  </thead>\n",
       "  <tbody>\n",
       "    <tr>\n",
       "      <th>M</th>\n",
       "      <td>64</td>\n",
       "      <td>19</td>\n",
       "      <td>5202</td>\n",
       "      <td>3605</td>\n",
       "      <td>1</td>\n",
       "    </tr>\n",
       "    <tr>\n",
       "      <th>F</th>\n",
       "      <td>15</td>\n",
       "      <td>15</td>\n",
       "      <td>2247</td>\n",
       "      <td>2025</td>\n",
       "      <td>1</td>\n",
       "    </tr>\n",
       "  </tbody>\n",
       "</table>\n",
       "</div>"
      ],
      "text/plain": [
       "   Alcohol  Fatal  Property Damage  Personal Injury  Work Zone\n",
       "M       64     19             5202             3605          1\n",
       "F       15     15             2247             2025          1"
      ]
     },
     "execution_count": 31,
     "metadata": {},
     "output_type": "execute_result"
    }
   ],
   "source": [
    "#tv1_ac = tv1_.loc[(tv1_['Gender'] == 'F') & (tv1_['Contributed To Accident'] == 'Yes')]\n",
    "df = pd.DataFrame()\n",
    "alcohol = tv1_.loc[tv1_['Alcohol'] == 'Yes'] \n",
    "fatal = tv1_.loc[tv1_['Fatal'] == 'Yes']\n",
    "prodamage = tv1_.loc[tv1_['Property Damage'] == 'Yes']\n",
    "perinjury = tv1_.loc[tv1_['Personal Injury'] == 'Yes']\n",
    "workzone = tv1_.loc[tv1_['Work Zone'] == 'Yes']\n",
    "df['Alcohol'] = alcohol.Gender.value_counts()\n",
    "df['Fatal'] = fatal.Gender.value_counts()\n",
    "df['Property Damage'] = prodamage.Gender.value_counts()\n",
    "df['Personal Injury'] = perinjury.Gender.value_counts()\n",
    "df['Work Zone'] = workzone.Gender.value_counts()\n",
    "df"
   ]
  },
  {
   "cell_type": "code",
   "execution_count": 32,
   "metadata": {},
   "outputs": [
    {
     "data": {
      "image/png": "[encoded data removed]",
      "text/plain": [
       "<matplotlib.figure.Figure at 0x5ead8b00>"
      ]
     },
     "metadata": {},
     "output_type": "display_data"
    }
   ],
   "source": [
    "ax = df[['Alcohol', 'Fatal', 'Work Zone']].plot(kind='bar', figsize=(8, 6), fontsize=12)\n",
    "ax.set_title('Accidents occuring in MD, VA, PA, NY, DC', fontsize=20, fontweight='bold')\n",
    "ax.set_ylabel(\"Count\", fontsize=15)\n",
    "plt.show()"
   ]
  },
  {
   "cell_type": "code",
   "execution_count": 38,
   "metadata": {},
   "outputs": [
    {
     "data": {
      "image/png": "[encoded data removed]",
      "text/plain": [
       "<matplotlib.figure.Figure at 0x50d5c828>"
      ]
     },
     "metadata": {},
     "output_type": "display_data"
    }
   ],
   "source": [
    "ax = df[['Personal Injury', 'Property Damage']].plot(kind='bar', figsize=(8, 6), fontsize=12, cmap=plt.cm.rainbow)\n",
    "ax.set_title('Personal Injury and Damage occuring due Accidents', fontsize=20, fontweight='bold')\n",
    "ax.set_ylabel(\"Count\", fontsize=15)\n",
    "plt.show()"
   ]
  },
  {
   "cell_type": "code",
   "execution_count": 34,
   "metadata": {
    "collapsed": true
   },
   "outputs": [],
   "source": [
    "tv1_1 = tv1.loc[:, ['State' ,'Belts', 'Fatal', 'Alcohol', 'Gender', 'Property Damage', 'Violation Type', 'VehicleType', 'Contributed To Accident']]"
   ]
  },
  {
   "cell_type": "code",
   "execution_count": 35,
   "metadata": {},
   "outputs": [
    {
     "data": {
      "text/html": [
       "<div>\n",
       "<style>\n",
       "    .dataframe thead tr:only-child th {\n",
       "        text-align: right;\n",
       "    }\n",
       "\n",
       "    .dataframe thead th {\n",
       "        text-align: left;\n",
       "    }\n",
       "\n",
       "    .dataframe tbody tr th {\n",
       "        vertical-align: top;\n",
       "    }\n",
       "</style>\n",
       "<table border=\"1\" class=\"dataframe\">\n",
       "  <thead>\n",
       "    <tr style=\"text-align: right;\">\n",
       "      <th></th>\n",
       "      <th>VehicleType</th>\n",
       "    </tr>\n",
       "  </thead>\n",
       "  <tbody>\n",
       "    <tr>\n",
       "      <th>02 - Automobile</th>\n",
       "      <td>19382</td>\n",
       "    </tr>\n",
       "    <tr>\n",
       "      <th>05 - Light Duty Truck</th>\n",
       "      <td>1069</td>\n",
       "    </tr>\n",
       "    <tr>\n",
       "      <th>28 - Other</th>\n",
       "      <td>418</td>\n",
       "    </tr>\n",
       "    <tr>\n",
       "      <th>03 - Station Wagon</th>\n",
       "      <td>307</td>\n",
       "    </tr>\n",
       "    <tr>\n",
       "      <th>01 - Motorcycle</th>\n",
       "      <td>272</td>\n",
       "    </tr>\n",
       "  </tbody>\n",
       "</table>\n",
       "</div>"
      ],
      "text/plain": [
       "                       VehicleType\n",
       "02 - Automobile              19382\n",
       "05 - Light Duty Truck         1069\n",
       "28 - Other                     418\n",
       "03 - Station Wagon             307\n",
       "01 - Motorcycle                272"
      ]
     },
     "execution_count": 35,
     "metadata": {},
     "output_type": "execute_result"
    }
   ],
   "source": [
    "df2 = pd.DataFrame()\n",
    "tv1_accident = tv1_1.loc[tv1_1['Contributed To Accident'] == 'Yes']\n",
    "df2['VehicleType'] = (tv1_accident['VehicleType'].value_counts()).head()\n",
    "df2"
   ]
  },
  {
   "cell_type": "code",
   "execution_count": 37,
   "metadata": {},
   "outputs": [
    {
     "data": {
      "image/png": "[encoded data removed]",
      "text/plain": [
       "<matplotlib.figure.Figure at 0x508add30>"
      ]
     },
     "metadata": {},
     "output_type": "display_data"
    }
   ],
   "source": [
    "x1 = df2['VehicleType'].plot(kind='bar',figsize=(8, 6), fontsize=12 )\n",
    "x1.set_title('Top 5 VehicleTypes involved in Accidents',fontsize=20, fontweight='bold')\n",
    "plt.show()"
   ]
  },
  {
   "cell_type": "code",
   "execution_count": 328,
   "metadata": {
    "collapsed": true
   },
   "outputs": [],
   "source": [
    "state_nm = tv1_up['State'].unique()\n",
    "col1 = pd.Series(np.arange(len(state_nm)), state_nm)\n",
    "tv1_up.loc[:,'State'] = tv1_up[['State']].applymap(col1.get)"
   ]
  },
  {
   "cell_type": "code",
   "execution_count": 329,
   "metadata": {
    "collapsed": true
   },
   "outputs": [],
   "source": [
    "viotype = tv1_up['Violation Type'].unique()\n",
    "col4 = pd.Series(np.arange(len(viotype)), viotype)\n",
    "tv1_up.loc[:,'Violation Type'] = tv1_up[['Violation Type']].applymap(col4.get)"
   ]
  },
  {
   "cell_type": "code",
   "execution_count": 330,
   "metadata": {
    "collapsed": true
   },
   "outputs": [],
   "source": [
    "gender_nm = tv1_up['Gender'].unique()\n",
    "col2 = pd.Series(np.arange(len(gender_nm)), gender_nm)\n",
    "tv1_up.loc[:,'Gender'] = tv1_up[['Gender']].applymap(col2.get)"
   ]
  },
  {
   "cell_type": "code",
   "execution_count": 331,
   "metadata": {
    "collapsed": true
   },
   "outputs": [],
   "source": [
    "accident_con = tv1_up['Contributed To Accident'].unique()\n",
    "col3 = pd.Series(np.arange(len(accident_con)), accident_con)\n",
    "tv1_up.loc[:,'Contributed To Accident'] = tv1_up[['Contributed To Accident']].applymap(col3.get)\n",
    "tv1_up.loc[:,'Belts'] = tv1_up[['Belts']].applymap(col3.get)\n",
    "tv1_up.loc[:,'Fatal'] = tv1_up[['Fatal']].applymap(col3.get)\n",
    "tv1_up.loc[:,'Alcohol'] = tv1_up[['Alcohol']].applymap(col3.get)"
   ]
  },
  {
   "cell_type": "code",
   "execution_count": 332,
   "metadata": {},
   "outputs": [
    {
     "name": "stdout",
     "output_type": "stream",
     "text": [
      "(921316L, 1L)\n"
     ]
    }
   ],
   "source": [
    "from sklearn.preprocessing import StandardScaler\n",
    "\n",
    "P = tv1_up.iloc[:,0:8]\n",
    "# standardizing and PCA\n",
    "scaler = StandardScaler()\n",
    "P_scaled=scaler.fit_transform(P)\n",
    "P_scaled=pd.DataFrame(P_scaled)\n",
    "PP=P_scaled.drop(P_scaled.columns[[1, 4, 6, 2, 5,3]], axis=1) \n",
    "pca=PCA(n_components=0.85)\n",
    "P_pca=pca.fit_transform(PP)\n",
    "print (P_pca.shape)"
   ]
  },
  {
   "cell_type": "code",
   "execution_count": 333,
   "metadata": {},
   "outputs": [
    {
     "data": {
      "text/plain": [
       "array([0, 1, 2, 3, 4], dtype=int64)"
      ]
     },
     "execution_count": 333,
     "metadata": {},
     "output_type": "execute_result"
    }
   ],
   "source": [
    "tv1_up.State.unique()"
   ]
  },
  {
   "cell_type": "code",
   "execution_count": 574,
   "metadata": {},
   "outputs": [
    {
     "data": {
      "image/png": "[encoded data removed]",
      "text/plain": [
       "<matplotlib.figure.Figure at 0xfc452cf8>"
      ]
     },
     "metadata": {},
     "output_type": "display_data"
    }
   ],
   "source": [
    "from sklearn.decomposition import PCA\n",
    "pca_2 = PCA(2)\n",
    "\n",
    "plot_columns = pca_2.fit_transform(tv1_up.iloc[:,3:8])\n",
    "\n",
    "plt.scatter(x=plot_columns[:,0], y=plot_columns[:,1], c=tv1_up[\"State\"], cmap=plt.cm.jet)\n",
    "plt.show()"
   ]
  },
  {
   "cell_type": "markdown",
   "metadata": {
    "collapsed": true
   },
   "source": [
    "DATA SOURCE:\n",
    "------------\n",
    "\n",
    "• https://data.montgomerycountymd.gov/Public-Safety/Traffic-Violations/4mse-ku6q"
   ]
  },
  {
   "cell_type": "markdown",
   "metadata": {
    "collapsed": true
   },
   "source": [
    "# REFERENCES:"
   ]
  },
  {
   "cell_type": "markdown",
   "metadata": {
    "collapsed": true
   },
   "source": [
    "• https://www.dataquest.io/blog/k-means-clustering-us-senators/\n",
    "\n",
    "• http://www.ijritcc.org/download/browse/Volume_4_Issues/May_16_Volume_4_Issue_5/1465367456_08-06-2016.pdf\n",
    "\n",
    "• https://link.springer.com/article/10.1186/s40537-015-0035-y\n",
    "\n",
    "• https://www.researchgate.net/publication/284282571_A_data_mining_framework_to_analyze_road_accident_data\n",
    "\n",
    "• http://www.ijritcc.org/download/browse/Volume_4_Issues/July_16_Volume_4_Issue_7/1468993772_20-07-2016.pdf\n",
    "\n",
    "• http://www.ibmbigdatahub.com/blog/6-ways-analytics-can-help-manage-traffic-and-reduce-accidents\n",
    "\n"
   ]
  }
 ],
 "metadata": {
  "kernelspec": {
   "display_name": "Python 2",
   "language": "python",
   "name": "python2"
  },
  "language_info": {
   "codemirror_mode": {
    "name": "ipython",
    "version": 2
   },
   "file_extension": ".py",
   "mimetype": "text/x-python",
   "name": "python",
   "nbconvert_exporter": "python",
   "pygments_lexer": "ipython2",
   "version": "2.7.13"
  }
 },
 "nbformat": 4,
 "nbformat_minor": 2
}
